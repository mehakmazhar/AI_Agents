{
  "nbformat": 4,
  "nbformat_minor": 0,
  "metadata": {
    "colab": {
      "provenance": []
    },
    "kernelspec": {
      "name": "python3",
      "display_name": "Python 3"
    },
    "language_info": {
      "name": "python"
    }
  },
  "cells": [
    {
      "cell_type": "code",
      "execution_count": null,
      "metadata": {
        "id": "SE-FTV6SGDyL"
      },
      "outputs": [],
      "source": []
    },
    {
      "cell_type": "code",
      "source": [
        "class GoalBasedAgent:\n",
        "    def __init__(self):\n",
        "        self.goal = 'Clean'\n",
        "\n",
        "    def formulate_goal(self, percept):\n",
        "        if percept == 'Dirty':\n",
        "            self.goal = 'Clean'\n",
        "        else:\n",
        "            self.goal = 'No action needed'\n",
        "\n",
        "    def act(self, percept):\n",
        "        self.formulate_goal(percept)\n",
        "        if self.goal == 'Clean':\n",
        "            return 'Clean the room'\n",
        "        else:\n",
        "            return 'Room is clean'\n",
        "\n",
        "\n",
        "class Environment:\n",
        "    def __init__(self, state='Dirty'):\n",
        "        self.state = state\n",
        "\n",
        "    def get_percept(self):\n",
        "        return self.state\n",
        "\n",
        "    def clean_room(self):\n",
        "        self.state = 'Clean'\n",
        "\n",
        "\n",
        "def run_agent(agent, environment, steps):\n",
        "    for step in range(steps):\n",
        "        percept = environment.get_percept()\n",
        "        action = agent.act(percept)\n",
        "        print(f\"Step {step + 1}: Percept - {percept}, Action - {action}\")\n",
        "        if percept == 'Dirty':\n",
        "            environment.clean_room()\n",
        "\n",
        "\n",
        "# Create instances of agent and environment\n",
        "agent = GoalBasedAgent()\n",
        "environment = Environment()\n",
        "\n",
        "# Run the agent in the environment for 5 steps\n",
        "run_agent(agent, environment, 5)\n"
      ],
      "metadata": {
        "id": "AkprvfyrHYFi",
        "colab": {
          "base_uri": "https://localhost:8080/"
        },
        "outputId": "bac28434-ac0d-45a8-9c8b-c9234b49988c"
      },
      "execution_count": null,
      "outputs": [
        {
          "output_type": "stream",
          "name": "stdout",
          "text": [
            "Step 1: Percept - Dirty, Action - Clean the room\n",
            "Step 2: Percept - Clean, Action - Room is clean\n",
            "Step 3: Percept - Clean, Action - Room is clean\n",
            "Step 4: Percept - Clean, Action - Room is clean\n",
            "Step 5: Percept - Clean, Action - Room is clean\n"
          ]
        }
      ]
    }
  ]
}
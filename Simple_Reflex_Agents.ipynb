{
  "nbformat": 4,
  "nbformat_minor": 0,
  "metadata": {
    "colab": {
      "provenance": []
    },
    "kernelspec": {
      "name": "python3",
      "display_name": "Python 3"
    },
    "language_info": {
      "name": "python"
    }
  },
  "cells": [
    {
      "cell_type": "markdown",
      "source": [
        "#**Simple Reflex Agent**"
      ],
      "metadata": {
        "id": "p0TbFAg2HxUM"
      }
    },
    {
      "cell_type": "markdown",
      "source": [
        "![image.png](data:image/png;base64,iVBORw0KGgoAAAANSUhEUgAAAfcAAAFcCAIAAABazGBdAAAgAElEQVR4Ae29f0wUWbr/X//UH3RSOCQdEjXo9fcPnDhDHCLaycKi0Q+Oq2FmP+LKTMQEg4HsDGvubt8YL2wujowB4xBwNEi4o8hIlAyjbFAIA6aXwcCgCJ/ugBhUjA5ZYobNZMIf/NFfZp/9Pjmpqq4+XV1VdFU/pENOnTrn1Kl3nfM6Tz116pQQpD9SgBQgBUgB5yogOPfU6MxIAVKAFCAFgkR5agSkAClACjhZAaK8k68unRspQAqQAkR5agOkAClACjhZAaK8k68unRspQAqQAmZRfmBgwOfznf3X3+HDh3NyctauWy3RHykQfwqkrEjJ+dcfdIc7d+74fL65uTmij5UKzM3N3bp1q6ysLCcnx6ZtMHt3Vmlp6ZUrV6anpyOSzkjKg45FRUUpK1JsqiNVmxSwTIHDhw/r6LERdW9KDAoMDAykpaVZdmXNPlDKipSmpib+i2sM5Zuamg4fPsye25atqQc/3O8tO+ktO9nc1th6t/mBv3dqdpx+pEC8KfDwSV/r3ebWu83QHQ7lf+DJ3MF2lp07d9bW1s7OzvL3W0rJr0B1dTWovWVrKuDo4ZM+2zXCiemR1rvNpyu8e/btgtM5fPgwpwjRUv7OnTs7d+7EJuvJ3HGmuvz+UKftRKQKkwJWKvDwSV9NfdXBD/e7k93QfdauW11bW8vZbykZpwI+nw/kLfWWTEyPWHmJzTvWmepyaDacDUY/5X0+X/buLFBw1ZqVNfVVdhwhzbsSVDIpwKPAxPRIY8tltO5TN2+8c+cOJ8IombYCc3NzqZs3SpLkLTvJcy1slObS1RpJktzJbr/fry1CMKjrrajZ2Vn0zyxbvvRMdbljBkkbXWaqqsMUaGy5vGHTejCbsndnTU1Nhe29lEBbgStXrkiSlL59myMBdSj/g18HMK9XWwQ9lJ+amoLnGO5kd6m3JPByyGGdjU6HFFhEBc5Ul69as1KSpLXrVg8MDITtwJRAQ4HS0lJJks5Uly/iBTXv0M1tjZIkZe/O0lAAdkXmsRkYGID5Mxs2rSfnu3nXj0qOZwUCL4fAF+pOdkc0lSJsb4+3BPDIsPVusyObU+DlkCRJKStSwl7WCCh/69YtcPln784iE96R7YZOKkYUmJgeKSwuAO8Nzy152H4enwlAQAfDCk4w7MXlpfytW7egxCMFeY50csVI96ZqkAKowOc1FdDpSktLw/ZkSqBUANRDPZ0XMJLyPp8PrHjnPap23oWnM3KSAs1tjRHNmVOSLp5jiPJw9cPb8lNTU+CLLywucFL/oXMhBWyhQE19FdDq3r178YxsHedOlOei/OzsLMyoyd6dFdZRU1hc4HIlDD/tt0XnoUqSAnZR4MQnhfCcjWdytA4aOjULUZ6L8gcPHpQkacOm9WGfYPQ97k5ckigIQm3Debt0HqonKWAXBeC99tTNG2mZM/4xiSgfnvJ37tyB16t4Jk1W1X0m/Otvy9bU8R+HY7DzlHpL6D4jBq8LVYlHgcDLoS1bUxf6I+dL7fwodHBKonx4ysNsU54nrpMz/l17fwuUF0XxdvdNnoZrZZq+x93Lli8lylupOR3LWAUaWy7D21KRLjzrYI5rnxpRPgzlwZBftWZlWHf81Ox43+PuDE96hicdQL9n3y5j23f0pdEzg+g1pBIWXYH07ds4X2rXxl+c7CXKa1F+bm4ODHnOl4MLiwtKvSWtd5uB8rH2DBa8SbFWq0VHBlXAdgp0+NrAiUrmPM9ARZTXojys8rNh03oeQ35iemTVmpW3u29OTI8sW74UQF/qLQnVhR74e7OyPZBMEITcvAMdvrYLl87Bw1s24wN/79Hj+RAvCEKGJ72rvx2KvdbagCVAFixBFMULl85BMozExIIgrF23OgZ9SqHkonhSgFXg4If7yZznQXwwGCTKa1EePpp16WoN27xChVvvNuMT17DPYNGsvt19E735wOVrrQ2JSxIP5X8AB2q92wx8B2TfuP1V4pJE1umPoN+197el3hIosLC4QBAENtnU7DhEki0f6gpSvI0UAHOeZ/USThQ6OBlRPiTlZ2dn4a4w7OxJ6BuFxQU4e5I15zESuxDOtkSDXRkDiTGedfHDCIEjCqZhp2+i14g9OlEeLwEFHKAATLbx+XwOBrQhp0aUD0n5pqYmSZJYvGp0DBbrrFdEEARlCYhgJeVliYHLgiBgyqnZcaA82ul4aNZIVx4C7xjYZBpnRLtIgRhXoNRbIklSWVmZISh0cCFE+ZCULyj4dTG8z2sqeNp6691mGaCRs0qq4i7MgvY4S3PksmzYgE1RFBtbLk/NjiPlsbSp2XE8BNryWJqyPjwnSGlIgVhToPVusyRJqZs3OhjQhpwaUV6d8nNzc7A6EufHuFl3DXQGhK/MEoe9JSeL0G8+OeOHTXTCQBrkMuuKUfY0PBBRXikOxThbAfjSCC14oD0YEOXVKT8wMCBJkidzB08nmZge2bBpvfJVI/S3yPANZcJTVjDM0957x1t2UvmuLJbA2viyKqneB5AtL1OJNh2pwJGCPHoPVhvxNMcG9ZGvSQlOec7lJ6vqPlPlOKJWaYxX1X3mciWEnciIJaiWD/0WKc/a8jjJBz02NMfGkZiL85OCpefpAyMIMtUA2fIgi5zyZ8+e5fzkOUxkVEU2ToIUBMHlSsBJ7sDlLVtTO3xtSvtd1m/BmSMIwpatqVDC5Iz/WmtDbt4ByKs6EmAu9iYA0Q+R11obTld4ZYejTVLARgrAagcFBQWqdKNIUIAor055+B5uTX2VRotn/ebgeEFrGn3lsgenYJKj9S3bK4pibt4BHAzw0Dduf8W+P5XhSa+/Xgd7EdxQFDxZRT8PROJ9wOSMv7zyFMy+Z9+ZwgNRgBSwlwK3u29KkpSTk0NA11CAKK9OeVhquLmt0aRGD6+zyigPm6Iosm4WkypAxZICDlDg4ZM+mmajwXfYRZRXpzwsX9PhazOjJ0zO+M9Ul7uT3d6yk32Pu/EQPQMdsNIZ3hPgLgqQAqSAqgLw6mJY0sVzAqK8OuXh43+cb72qNr5QkejnUTXYwcnOOtNDlUPxpAApMDU7vmz50oV3o+IZ4mHPnSivTnnzdAGnPL65KuuohcUFoXbJUtImKUAKTM2OQ1cNS7p4TmAezWKkBXK2AfkcG/N0QVt+w6b1bZ0tKBO4a8gpj4JQgBTgUYCzhxPlecS0aRrONmAd5admx8Evv2VrKvv0NdSLUTbVnapNClijgLKHT05OJiW9xXYuDG/YtP6jjz6Kt3dlzbNZrbnEYY+ibAOqg7qllA9baUpACpACnAqo9vD5+fnS0lKA+9dffw19vqenB+gviiJGquLAYZFEebigRPlxzk5FyUiBmFJAlfLBYLCh4d8f2GGB7vP5AP1paWm//PJLjNPc5/OxldddW6I8UZ74TgrYWIGIKI/OHFEUBwYGdHPTmoylpaVEeR6TIlQbkF0msuVt3M952gGlcaoCoXq4ti3vciX84x//kFEgdjbn5+dra2sFQSDK87TbUG1AdkGJ8kR5UsCWCoTq4aqUR2c9eGxwE0z7q1evJiW9JYpidXU1AGJ+ft7r9eKz3IKCAtbPMz8//+WXX+LezMxM9rmuat65ubmUFSnoNbp16xZk37I1FfOyZUJKfJAAZULkhk3rFxbw4fmICkjEg0ubpgnVBojytuzSNm2FVG3zFAjVw2WUZ/nIumt8Ph9wNnt31vfffw/chzFgfn5+//79giBcvXo1GAzeu3dPEAR06ONeGBLgcHiLgHuVeefn54uKfv28hCAIwGgoGVEeDAZxMJDZ8qWlpS5XAowHU1NTmZmZBw8elLFMuUmUB03IlifokwK2VCAs5YGn8H/nzp1nz55l7XH01ANwYRMWuWSJrySvbC9gHSkv2yujNuzFxMFgUBYjSw+QwpEDbykmJyd51uMkyhPlbdm3zbMNqWR7KRCW8jJzWGbqqvKUZTo7SEC4rKwMc6ma0rhXNS/O/8HbAoxBRzyWIKs8DAZQLP/Ef6I8UZ4oTwrYWAGTKI82virHo9mLTNdBedbvhEOObNxSbhLlifI27uH2sjqptmYoYDblWRYjQNHWVt2LY4Dq3mgoDxWYmpras28XUJ51+2D1ZAGiPAhCfnliPSlgSwVMojw6wdlHtSw9wXki23v16tU7d+6EzQuPatkxAErDGBxF2Ck0c3NzBw8exIcKPf96lZcoz79iHVHelj3cDNuQyrSXAqqUZ+exaD+fRLub5SnQHHelpaXhtJbS0lJ4nQpBjJMge3p6sndnAYW18+L8H5iBA4nZAQPHCeB+T0/P2bNn4YhYGcil6lBiRyP6ujeqQZQnypMCtlRASXlcxoB9+KmEOHpOMBnLWUAD6xsRRVH2wFM2I/6jjz5CQzsYDGrkBcpv2ZpaXV2tnC+Ph87MzBQEQRRFr9f7yy+/zM3NlZaWPn78WBaPFAsVII8NKEOUt2UPt5fVSbU1QwEl5UPBLnbilR4bU+tGlCfKE99JASsUmJgeKa88ZTjo7Uh5mRfeVMSTxwblJVvein5ueA+3UYE3bn+Vle0B58DadasvXDp34dK52903bXQKuqsKfHcnuwVB0F1IqIxEeaRYqADZ8qAMUZ4ob6ICVXWfCYKwZ9+u8R+Hp2bHH/h74TPuqt/+DYUzO8azfIcRzvCzsB3l8cmqy5VgzbqYRHmivIl0M7xL27HAiemRZcuXyj7nCx+GdDDllXwnygeDQZx7g498VR8Lh7LK9cUT5YnyRHlzFWi92wwzJWT+mb7H3acrvHYct7TrHIrvRHl9jI4+F1GeKG8u47SJEA97gfL/nhJXdhKcNo48cW2+E+Wj57W+EojyRHmivLkKgHMG79AXVqTasGl9/fU6GegnZ/wlJ4sSlyRCykP5H8B4AD59QRC2bE0d/3H4wqVzkCY37wAOGJAXMq5dt/pQ/gel3hIsX1Zyhie9q78d9hYWF0AucChB4aIowk2GdrFY/tTsOA/f4UBsLkPCgDB9+IuTXER5ory5jDOkJ9u9kL7H3YhvgB2wfvhpP5wajgQXLp2bmh2/1vrrN0sB61Oz48BilyvhdIX3dvdNcPTD41zIXlhc4HIlALvh0e6efbtgFyaGkmHMEEURHwm03m2Gunkyd7R1tsCx4NAaxeIV4ec7nHipt8TYn/ivvwXvdqi/goKCzLj8u3fvHtCNKE+UJ8pboYDMoAbkyTiOm4hmYDGa82ihsyzGEQLN/77H3YfyP8ABgB0wsGQ8Fo5AUDhsHsr/QLtYKLytswXmR+LQRYHYUaChoYEoDwoQ5a1gHJp+FLhx+yuYRgk4qG04j+RVAgLIq3x+C5RHgx02IXtu3gF0yCDBMSXeGeCcHzw6Wvd4jUIViwmmZsc7fG24PqKy/soYYw35Um9JWFu+oaGhJy7/pqenifJEeeK7FQq03m1WApQ1z1VZzJIUKO9yJaCHR0Z51oEOYGUNc9a3MzU7joeGWmlQPlSxbN0gzM96Zd4oY8gvz4JMNUweG5CF3oqygndR9mebZu973O3J3IFPSuEsWLYi5dGLIjtT4DK7V0Z5SP/A34uv18KQgCWztjyUxmPLhypWVj3c5GE9JjYqQJRXJTsbSZQnyhPfzVUAUIsudaAbRAKL0QOO5JURELgcypafmB7Bt2qnZsdv3P4qcUmirORQeWF6zLLlSwVBkN1waBQrq55sU5v1ssTRbxLlWaCrhonyRHlzGRd9N7Z7CWi249NRmAbDTnRBo3vL1lScKlNYXAAvUoHl7nIlwCaOCmDdQ/mYEYpC4x1LhmHmWmtD4pLEDZvWo/NHlgDV1i4Wk4UKhGJ9qPS644nyqmRnI4nyRHmivLkKTEyPHD2eH3g5dKa6HOdTspPWAXCsv0UURXyIyj4CFUWxrbNl197f4lNNlyuhf7Tn2ImPu/rb4aGuKIolJ4tYB9EDf+/R4/mQRRRFHGxYHz3uxRd0J6ZHtIvl4bKS9Ty5IkpDlGeBrhomyhPlzWVcRD2WEjtSAZb1hp8gUV6V7GwkUZ4oT5QnBaxQAFhPlGf5a02YKE+Ut6KHG963qUBSABQgWz7sUEGUJ8oT5Z2mwP7cnAxP+sMnffEwEhDlifKcbYDmyzuNdPEAuFDnmLIiRRCEvsfdoRI4KZ6zh4dFoYMTkC1Ptjzx3WkKEOUdjGwdp0aUJ8o7jXFOMlT1nQtRXgcKHZyFKE+UJ8o7TQGivIORrePUiPJEeacxTp/966RcRHkdKHRwFqI8UZ4o7zQFiPIORraOUyPKE+WdxjgnWeX6zmXL1lRBEDp8bfqy2ysXIEwH++InC1GeKE+Ud5oCsKBNS/s1e/FaX22J8mGHK6I8Ud5pjNMHCyflIsqHBV9cJSDKE+WJ8k5TgCgfVxAPe7JEeaK80xjnJKtc37kQ5cOCL64SEOWJ8kR5pylAlI8riIc9WaI8Ud5pjNNn/9ou18T0iDvZjZ8T4QmIoui8JcwAYWFJF88JiPJEeaK8XRWov17HA3dMI/v2rO0GNtUKE+XDDmBEeaK8XRmn2ufjLRKcM8hxjYA72b3wkT/n6UOUJ8pztgFaeZhYb0sFOnxtGmRnd9Vfr3Me4qdmxzl7eFgUOjiBsbb8i5/Gnr0JxFRb4mwDRHlbMi6mmtpiVebYiY9ZmquGMzzpi1U9s4/L2cMdDPGwp2Ys5UefD166WsN/Xzj2etjsUYGzDRDlifJ2VeDhk77EJYmqcMdIB692wNnDw6LQwQmMpfz9oc6sbA/nN2p6Bjr27Ntl9jN/zjZAlLcr48w2FW1RfnnlKQS6MnDsxMe2OAt9leTs4Q6GeNhTM5zyy5YvPZT/QVtnS1d/e4evTfUHuwqLCzZsWj845tN3cTlzcbYBojxR3sYKTEyPwAplSsS7k91mW1KcXdGkZJw9PCwKHZzAWMr7HnW5k92iKEKx2v9FUdywaf3w036Trj4Uy9kGiPI2ZpypDcguhV9rbVAifiGmvPKUXU5BXz05e7iDIR721EAiffIqcwHlVRubaiRRnthKChimwJ59u2TdbMvWVGUvdVgMUX5RKC+KYuKSRPYnSRIY+BgpSZLLlUCUN6yHO6zr0unoUKBnoEMURRb08bD4MFHeYsrfH+pc8R8ppyu8D5/0jT4fxN+11oYMT3rPQAfEDD/t7/C1fV5TkfbeO+SXJ9CTAoYpwM6q3LNvl46hwnZZiPLWUz7Dk/7A3ytrKi3t19K3bxt9PsjG3x/q9GTuIMob1sNZcSkcnwrg4jaOXLJG9ZoS5a2nvCdzh+yR/tjr4cLigsQlifXX69jZ8UR54jspYLwCVXWfCYLgyCVriPJhga6aAAZCVfV0RAK40ZZ/9iYwOOYr9ZaAX37VmpX11+vGXg+/+Glsana8Z6CDbHnjO7mOy0ZZHKZAVraH/9VEu5872fKqZGcjDad82nvv4Ht2o88HvWUnjx7PP1KQB7/C4oIz1eXQAm/c/ip9+zby2BDoY1cB9kkmhS1TIKKBhyjPAl01bCzlewY6Vq1Z2dhyGS7TszeBwMuhsdfDE9Mj8IPNqdnxyRn/iU8KUzdvlLl3Irq+PIk52wDNl49d1PJcZpPSWMY1OhCrQERXk7OHq+IvTiKNpfz9oU53snvBeNe+X5yYHqm/Xpe4JHHtutX0VhThNXYVAPTMvwrQzxoFQHCivLHDj7GU73vc7U52u1wJ9dfrQoH+2ZtAbcP5tetWb9maeuKTwrHXwxFd00gTc470ZMvHLmojveQGpifKWwN3PApR3li+Q2nGUj7wcuhMdXmGJ33L1tTmtkZ4yirrdM/eBHyPugbHfIGXQxPTI6ppZFmi2STKE771K0CUR/5aEyDKxz7lYX35sdfDw0/7Q9ny0SBbR16ivH7G6ZDbYVmI8tbAHY9ClI99ygdeDt3uvslOisdePzE9crv75uSMH2OsCRDlifL6FSDKI3+tCRDlY5/yvkdd6du31dRXdfW3Dz/tD7wcgt/gmO9MdXn69m1mz6hRjhxEef2MU6oZbzFEeWvgjkchytuC8vD0VZIkWJgsKekt+ImiuGrNSqI8MddOChDlkb/WBIjydqE8XCnl/9TNG82eN6m0NcmWtxNVlddvcWOI8tbAHY9ClI99ysN8+fTt2/BlV0/mjsQliaIobtmaim+9WtlzifJEef0KEOWRv9YEiPKxT3nfo649+3bdH+pkX3Z9+KTv85qKUm+JbE1Ka1hPlNfPOGuuUCwfhShvDdzxKET52Kf85Ixf1Sfz7E3gdvdNjVelzOvpRHmivH4FiPLIX2sCRPnYp3z/aE/JySLVR6w9Ax1Hj+dbb84T5fUzzryx1y4lE+WtgTsehSgf+5S/P9SZsiLlSEFe/fW6hq+/rL9eB4FLV2ty8w5s2ZqqOgCY2uWJ8kR5/QqwlP958lHK8qUQIwiCy5XweuTvvd80YYwgCAf2Zs+/Cnx6/CgbKQiCKIrf/60FWWZgYO7FKBzOvENEWlvU5N23N//z6UM2O+46/adiNh7DoFtERODs4WbQ0y5lgkQRqaqRGL/uLSr+BEHYn5sTeDmkkd2MXZxtgNax0Y9CMy5bjJQJ0EEGzb0YfX93FiIe4if6O5OWJAqCwJKrvrriwN7sfz59CFl0ILj3m6ami1V4aFmA3av7ELIyDdyEEVFJ+flXAQA9qxV7XKK8GSOHGZRXEP7XCHeyu7mt0frOS5QnfOtXQEb5+VcBtOhZBIM1DYY8MOv0n4pfj/wdwp8ePxop5QHc7CFYFCr36jgEW6DhYagh3O7ICifKm8Fx7TKNpTx83bvUW3Lpag37q79e19XfPv7jv78SZSXrifL6GWfldYrNYykpP/8qUF9dIQgCa6jKfCY/Tz4qPnYE6QYI/q716m8y0gVBSN28EQeA9qbLcB8gCEL+h78D/8aF/zmFkYIgNH5RiUXNvwqo7tU4xPyrQOMXlVCgKIqy0gDHcJrvvr15uPtbTNl0sQqIjLDGcgRBOJqXi3cq4JLq/aap+NgR2CWj/NyL0YuVZUn/mlKdle2R3fewZ0e2vDav9e01lvJ9j7uPnfh4cMz34qcx/EH/hV2qM3BM7eBEeaK8fgVUKS8z54HpAHpwRLDuFHTTA8RhhIBkUA7cATR+UcmyD5KFsuWVe+HoykPAmCSKYnvT5flXgfamy4IgyIpFzz7EA9mhVnMvRv9SUghjD3uCsnEOdh3Ny/1/99t/k5F+YG/2m7GB93dn4fAACRq/qMRjkcdGH6/15TKW8s/eBMZ/VFkv/uGTviMFeRs2raenr/qJY+pgSIWrKqBKeZk5D0xnzV7WXYOUVzIUbVgl+5Qcx8R4dBbWgFHlIXBAghOB/6xnCYqFRwtwd9LXfgOM7u//1jLR33mxsmz+VQASILWhWHRDKWvL2vKyvOSx0UfqaHIZS3lZT3n2JjD6fPDCpXNp770jiqIFX4aSVWBqdpxseRpX9CsQivKIud5vmsDaRZ7+9c9/ZN01QHkEImspz78KPPvhu0+PHy0+duRiZVmUtrzqIWSEZYcKWRjHib/++Y9g8h/Ym910sQqcS7Jy0M8D44o25eGU0cFFlI+G1/rymkT5Z28CD5/0ectOLlu+VBRF6CxEef24UQ5fFGOBAqEojwb12nWrz/33fwIxAXZKlwj7aJSlPKATnTzmUR4HABnZ2U2oGJwOQvxoXi6kUaU8FqtNeVleorw+UkeTy3DKT874lXyXJCl180aaL0+Ut5kCGpQHeCHplG4N4CMSU+lOQd4pPTa4iwUxhmV7NQ6B/iIwpeEpKPjosTS2nuiTgUMonULw0BWMffSta1Meqwd+eZiKinll1QDBIxq/Oe/Wo6Gk3fMaS/nJGf/pCq872Q32uyiKiUsSjx7P7/C19Y/21DacN/srr8rmwdkGaL68zfirvNJmxGhQHgCKjgig1afHj7JebwQczEJpuliFk2cO7M3GvQsW0K0rNZAG8Pfz5COgoXJWDMzmxL311RUQVj3E/KsAPEGFE1n42vKtKzUysOJm7zdNCF8YeHAuEJQD82TgQHAHg6cA5YMaMP5BDIyCcy9GYfqNKIpH83JhFx4LKzD/KgC7IrqUnD3c7qSOpv7GUn5wzAcTpQRBSEp663SFd/hpv/Xfh2IbCWcbIMoT5VUUAOiwGKKwqQoQ5aOheai8xlL+2ZvA8NN+eNyale1p62xhv9/97E3A7G95s3yHMFFeBV5KmShGVQGivKlMVxZOlA9F6mjijaU89JRnbwLwAdjC4oL9uTmf11Q8fNLX97j7dIWXVisj5tpJAaK8EsSmxhDlo6F5qLxmUB6totHngwD3DZvWu5PdqZs30nx5OzEOL2TcBojypjJdWThRPhSpo4k3lfIAh/Efh2HZYXorihBvMwWI8koQmxpDlI+G5qHyWkB5YH3PQMeefbvIlrcZ5uLWiocTJ8qbynRl4UT5UKSOJt5Yyk/O+H2PukKRocPXZv18GzjBsBLRHBsaflQUIMorQWxqDFE+LKp0JDCW8r5HXbv2/ha++zo545+c8eMHYLv62/fn5oAt/+KnsYdP+prbGi14GEuUV4FXqHGY4mUKEOVNZbqycKK8DoiHzWI45d3J7mXLl+7Zt+vYiY+PHs/P3p2Vle3xZO5wJ7vXrlsNlB9+2u/J3CFJUm7eAbO/K0KUJ8rrV4AorwSxqTFE+bDI1pHADMrDlVL+X7VmJaw83Pe4253sFgRhw6b1Zq9FTJTXzziZYRuHmwZSHt4IxZVhtFkJCwzgKvZsXlwtR/XdUe1iY38vUV4HxMNmMYPyLleC8idJUtp77wDTJ6ZHvGUnPZk7Pq+pMNtTT5QnyutXYLEojx+lYtcMwBECQE+UB7ODs4eHRaGDExhL+ftDnWnvvXPj9lcPn/TJfsNP+0efDz57E4BLMznjD7wcMhvxtPKwfsDFoeWuPGUDKR+pHQ1LxODyYWx2ojx7pYjyYccnYyk//LT/dIXX+iXJ2IsuC3O2AZpjQ+OBiuW1+LwAACAASURBVAJGUR5Xn0dq47cA165b/ZuMdPgeE4typPyzH75LWb6U/aQ4Uh4dO7g0Jn60T3WZMygfsrtcCc9++O4vJYW4zBkeHQtRfvkPnEjaHw7EcnQEyGMTFtk6EhhO+fLKU6qUH30+WH+9TnWXjMvGbhLlVeBlrMQOLs0oyqMHBigPfnZY1/fZD9+9vzuLXf0R4IiUfz3ydxgkcIRAysN6k8Pd3070d/J8/A+xC0ve/yYjHT4IlbQkERfXhM+JgDsIDgS7cHlk5RLK7IcD8RD6AkR5HRAPm8VYyt8f6kzfvu3G7a8CL4fwN/y0v6u//Ux1eYYnnd6KIubaSQEDKa+kNnzRe7j7W1UgsunZ8PyrAJjw+R/+7v3dWUhnvF2AOsN/dhlk9igsyiEj+wAAhxPYhTcKMDhBStUPB7KH0BcmyodFto4ExlLe96jLneyWJCkp6S32l/ivr7evWrOSKG8nxjnYSOc8NZMoD6TGtebxsSpLRpbsbBgp//7uLFi0HVAOCEZAs0Upw+znqzQoD8dlv36l/eFA5YEijSHK64B42CxmUB6ulPL/lq2pZs+bVHZe8tjQuKJfAfMoD9/lAO88GsssE1mys2Gk/Ok/FUM8ZAfKqxbFFgvhiCjPlgm3EaE+HKg8UKQxRPmwyNaRwAzKu5PduXkHjhTkHSnIO5T/QYYn3Z3s3rNvV2PLZQsm1chAT5TXzziZlHG4aRLle79pgk/rzb8KNH5RyWIUsciSnQ3jJ2fBdc76XiCMbvSLlWWqH/+TfXCc9cPgFwRVv/wHI9P7u7PwjgGgz344EOuvL0CU1wHxsFmMpfz9oU5P5o6u/vax18PjP/77F3g5NDjmq6mv6hnooK+IEHPtpIBRlGed5i5XQl/7jVtXavCrfkpKAnnh6Ox/lyvhzH+VYszpPxXjNJt33978ZmwA5sws+Fg0Pv4HgwFMrfmu9SpM4ME3sODbsOBNEkURv12O1Nb+cCAm0xeAU4vInuC048Ki0MEJjKX86PPB2obzSoP92ZtATX3V0eP5FixcI2shnG2AZlLaCb6ya2zeJkBHH7Aolw4FiPJmDDbGUv7FT2OTM36ZwT76fPDo8XyXK2HtutXklyeY2kkBorwOUkeThSgf+5RXNar6R3tSVqQIgrA/N8fstcmUFSBb3k5UVV6/xY0hykeDbB15ifI2pfyLn8Za7zbXX697+KRPZuZb0IWJ8kR5/QoQ5XWQOposRHkbUf7FT2MT0yNjr4fHXg9PTI9YQPNQhyDK62dcKE3jJ54oHw2ydeQlytuF8hPTIxcunUvfvs2d7IY5lM1tjdZb8cAiojxRXr8CRHkdpI4mC1HeFpQf/3H42ImPJUmC6wX/k5Leqqr7DBektNIWJMrrZ5yV1yk2j0WUjwbZOvIS5WOf8i9+GqttOO9yJcBkXFhlXhRFQRBSVqR09bdb35eJ8kR5/QqwpgqFLVMgIkxw9nAz6GmXMkGiiFTVSDz+4/D+3BxRFD2ZOy5cOtfW2XK7++alqzUHP9yflPRWycki5VR6jdIM2cXZBmi+vH4UGnKdYrMQy7hGB2IViKgxcPZwuxDZjHoaS/n7Q52r1qz0lp1kPxjy4qexwMuhxpbLh/I/oLeiCKakAClgpAJE+bADg+GUz/CkD475lIMxLH6gukuZ2MAYzjZAtryRHc/A60dFkQLaCnD28LAodHACYyk/OObbn5vT4WuTPWgNvBwq9ZZs2ZpKKw8TTEkBUsBIBYjyYccnYyk/9nr44If7V61ZWV55qqu/vWego6u/vbbhfIYnXRTFnBx693XWyPatbePQXlIgHhQgyltM+anZ8WutDfDNEPyKCMyqdLkSGlsuWz9rnrMNkMeGhh9SwJYKcPbwsCh0cAJjbfmp2fHJGf/nNRWJSxLZZ+aiKB478fGivATL2QaI8rbs4fFgq9I5aivA2cMdDPGwp2Y45QH0N25/lfbeOzBfftnypacrvNbProG2wdkGiPJEeVLAlgpw9vCwKHRwAjMoD3gdfT748Ekf/KyfJo/DP2cbIMrbsofjZaZA3CrA2cMdDPGwp2Ys5QMvh25331T1zEzO+Dt8bdbjnrMNEOWJ8nGqwP7cnAxPuvWz34waljh7eFgUOjiBsZT3Pepa+MprbcP5+0OdgZdDsCblwsSb4af9n9dULEpb4mwDRPk4ZZxRrLFvOfDxh77H3TY9Bc4e7mCIhz01wynvTnZLkpSU9BYsSIn/Xa6EVWtWWm8xcLYBojxRPk4VIMqHpaTdE5hBeXZ2DRvesGk9fREwTlFiUzsxHqpNlLc7xMPW31jK3x/qdCe7095751D+B/DL8KQvfHdeFMUtW1PPVJeruuxN7Upky9O4QgpoKUCUD0tJuycwlvK+R13Zu7N6BjrQIz/6fPCBv/dMdXmpt2RRJlMS5bV6uKkDLBVuCwWI8naHeNj6G0v5yRm/qk9mcsZ/u/tmY8tlmmNDzCUFYksBonxYSto9gbGUf+DvLfWWqIL+/lDn0eP51pvzZMvHFlNsYd7GVSWJ8naHeNj6G0v5+0OdK/4j5ejx/MaWy9daGxpbLkOg4esvD+V/QGtSEnBJgZhTYO261YIg9Ax02HRs47TjwqLQwQmMpbzvUZc72S2KosuVIEkSrHAAAUEQ9uzbFXg5ZHFb4mwDNJMy5uhjcUOJ28NleNIFQWhpv2ZTBTh7uIMhHvbUzKA8O3sSw4lLEmlNSiIpKRBzChDlw1LS7gmMpfz9oc6UFSklJ4tqG87XNpyvqa+CX23DeeWnRawxHThHerLlY44+1rQPOgpR3u4QD1t/Yym/8Jr0sRMfD475Xvw0hr9nbwLWLyuPnZcoT/gmBbQUIMqHpaTdExhL+ckZf6hZNIGXQw1ffzn2ehj5a02AKK/Vw625BnSUWFaAKG93iIetv7GU73vcffDD/f2jPZMzftmvua3Rk7mD1rEh5pICsaUAUT4sJe2ewFjKwwoHKStSsrI9e/btOnbi48LigsLiguzdWe5k99p1q4nysdXDY9nGpLpZowBR3u4QD1t/YykPMylxXo0ssGrNStUXpkxtzOSxoXGFFNBSgCgflpJ2T2AG5UXFH+B+y9ZUorxWfzN1uKPCSQFVBfbs2yUIQm3DedW9sR/JacfZndTR1N9Yyt8f6kx7753mtsbBMR/+bnffLDlZdPDD/feHOp+9CVjcbDjbAM2kpOEnThX4/R9yBUGoqvvM4p5p1OE4e3g0lLR7XmMpPzE90tJ+TYnysdfDl67W0GplccoRo/ozlWOGAkR5u0M8bP2Npfzo88H663Wq0yV7BjpotTKiPCkQcwoQ5cNS0u4JjKX8/aHO1M0byytP9Qx04O/+UGeHr+3o8XxarSzmergZtiGVaS8FiPJ2h3jY+htLeZhj43IlJCW9JfuJokirlRHlSYGYU4AoH5aSdk9gBuVlEyhh0+VKoNXKYq6H28vqpNqaoQBR3u4QD1t/YymPq5XhOmWf11QcKchL375tz75doRY/MKPpYplwgmF1oDk2NALFqQJE+bB0sHsCYymvXK3s2ZvA2OvhB/7e0xXe1rvNyuk3iGOTAkT5OIWXSe3JecUS5e0O8bD1N5byGquV3R/qLCwusN6cJ8oT5UkBLQVKvSWCIJR6S2w6gHH28LAodHACYykPq5U98PdOzvifvQngb3LG39zWmL592+CYz+K2xNkGyGOjBQKLrxkdzkoFiPIO5jucmrGUh9XK0rdvO3o8H9Ypg/979u1KSnqLVisjkpICMacAUZ4oH5FVob1aWU5ODn33NeY6eUQXmBI7TwGiPFE+olaNX/dWrFcmZmV7+h53W//RKPLY0LhCCmgpQJQnykdEeVit7FprAy5VhgHrn7tCzYnyWj08oqtLiR2pAFGeKB9Rww61WllEhRibmChPlCcFtBQgyhPl9TH3xU9jE9Mj8Juc8esrxJBcRHmtHm6IxFSIrRUgyhPldTTgiemR8spTq9asXLZ86bLlS3PzDvQMdFjvkYeaE+WJ8qSAlgLllacEQTh24mMdXT0WsnD2cMejXOMEQSIDL9bw0/49+3a5XAnsajbLli+9cOncooCesw3QfHktEBjYPqioWFOgqu4zQRB+/4fcWKsYZ304e7gGBB2/y1jKT874vWUnRVEUBAGm2SDrV61Z2TPQwXnhDEzG2QaI8kT5OFWAKE+Ujwi4w0/707dvEwTBk7mjtuH8pas1W7amllee2p+bk7gkseRkkfU+eqJ8nMIrooYbz4mJ8kT5iNr//aHOFf+R4i07Ofy0/8VPY32Puz2ZOx74ewMvhy5drcnwpD980hdRgdEnJsoT5UkBLQWI8kT5iDh7f6gzw5PeP9oDue4PdXoydww/7Z+aHYddtI6NVn+LSGtKTAoYogBRnigfUUMaHPMdyv8AsA5k92Tu6B/tGX0+WOot2Z+bY/27UWTL07hCCmgpQJQnykdE+cDLoROfFHb1t0Mu36OuZcuXupPd7mR34pLEM9XltL68Vn+LSGtKTApEpMDE9Ig72Y3TIXgCoiha72ON6KSmZsc57TjHo1zjBEGiSIUNlf7Zm8CN21+VV54a/3F4anacXbxs197foo0fKrsZ8ZxtgObY0PDjfAXqr9fxwB3T2GLRec4ergFBx+8ylvJTs+MT0yPNbY1A+eGn/b//Q25Wtqemvsp6Xw2MGZxtgCjvfMaZYUTYrswMTzpCXDvgTnZPTI/E/gly9nDHo1zjBA2n/NTsOLplnr0JBF4OjT4fXJT3oYjyBG5SQK5Ah69NG+64t/56Xewjnjw2GnDHXcZSPvByqMPXpjopfnLGH2qXqW2Jc6QnW16OA1OvChW+iAocO/ExojxUIMOTvog1jOjQnD0ckReHAWMp73vUleFJv3S1xveoa+z1MC5YNvp8sKruM5ovTyQlBRZfgYdP+hKXJIbiO8R3+NoiQu0iJibKhx23DKe8O9ktSRLMq4HVyuC/JEmr1qy0/ok9ZxsgW37x6bOIpIi3Q8MKZaFAb6+Vyzh7eFgUOjiBGZQP1Xg2bFpv/TQbzjZAlCfKx5ECE9MjC2uPqHZUd7LbelssmlGWs4c7GOJhT81YysPXvdPeeyc378Dv/5Cbm3cgffs2WLwsdfPG8spT1j+052wDRPk4Ylw0THFM3mutDaqUL688Za9z5OzhYVHo4ATGUt73qCsr29PV3x54OQS/4af9vkdd5ZWnSr0lizKZkrMNEOWJ8nGnwJ59u2Sg37I11V6Ipzk2PIOTsZSfnPGr3u1NzvjbOlsaWy6rTr8xtV0R5eMOXqa2JycV3jPQATfayPqW9mu2O0HOHs5DQ6emMZbyD/y93rKTqjb7/aHOYyc+Vt1larvibANky9NgEI8KsLMq9+zbZWpXNKlwzh7uVILznJexlIeVhwuLC661NjS3NeKvseXykYK8LVtTVS19k64+FMvZBojy8cg4U1ueLQrHxW1ssWSNqqScPZyHhk5NYyzlYeEaURQlSUpckog/SZJEUdyzb1fg5ZDqlTIvkrMNEOWJ8nGqAKxJaYsla1QxwdnDnUpwnvMyg/Lo5WMDLldCw9dfWr/UAWcbIMrHKeNUwRFvkVnZHutnvxklMmcP56GhU9MYS/n7Q50pK1JOfFJ44dI59ldTX9Xha8P1bYy6vjzlcLYBojxRnhSwpQKcPdypBOc5L2Mp3/e4+0hB3gN/77M3AdmPh8hmpOFsA0R5W/ZwM1oMlWkvBTh7OA8NnZrGWMpPzvhDed7Hfxym1cqIpKQAKWCwAkT5sIOTsZRHI0BmyD97E/A96iosLgg1BmBGwwOcbYBseYP7nuEX0tYFsk+oKBylArKWwNnDw6LQwQkMp/zkjL+x5XLJyaITnxSyv9y8A8uWL234+kvZNTJ7k7MNEOWJ8iYqECXXKDurgAwZnD3cwRAPe2rGUn5yxn+6wutOdsteqcPNhV1nqssDL4csewmWsw0Q5U1knKxbxuEmQGr+VYB+0SgAMsraD2cPD4tCBycwlvLDT/vTt29jx11lOCnprYXl8CxbuYyzDRDlifImKkCUjwbumJcor28oMpby8O5rycmi2903+0d74Nf3uPt2983ahvNp771Tf73uxu2vbtz+anDMZ83ESqK8ifCSWVW0GUoBojySOpoAUT4WKD845svNO9A/2qNs7b5HXZ7MHbTCATE3HhUgykcDd8xLlI8Fyo+9Hj5d4W3rbFG+4zo45juU/wF9RSQeGacc8+MthiiPpI4mQJSPBcq/+Gmsf7SnvPKUcsbkxPRIc1vj2Othizs4eWxoXFl8BYjy0cAd8xLlY4HyQPDR54OqPvfJGb/Sxjcb+gZTfmENv9qG8/tzczI86SkrUqDZ0f/FVcCd7M7wpO/Zt+tMdbn1PkGeFgz6IK0ooE8BkFEmOGcP18dHZ+QCiWS6OWmTsw1wzbGpqvsscUni4hKNjh5WgROfFMba2ltQZ31oo1yoAMgowxNnD3cGr/WdBVEedAtD+dHng/tzc6CRrV23+tx//2fXzf/9f/fbsf1RYBEVmOjv7Lr5v/XVFVnZHrhGae+90zPQIcPBIm4S5Q1pHkR5orxqL+Yc6bUo//BJHzhnRFE881+lhrRXKsQkBdqbLruT3YIgiKIYO9+3I8obcrmJ8kR5sygPH0F+9+3NZLwb0lfNLuTN2MD//d3/EQQhZUVKjLhuiPKGXHSiPFHeFMrDl3REUSTEG9JRrSnk58lH7769WRCEIwV5qs3C4kiivCHXnShPlFftuVF5bEafD8Lj1ouVZYY0UyrEMgWGu7+F5ZM6fG2qLcPKSBnlf558lLJ8KUQKguByJbwe+XvvN00YIwjCgb3Z868Cnx4/ykaCJ+r7v7VYJqP2gSb6O5OWJB7Ny9VOxrlXdrKgAJsXpJBdOM4ero+PzshFT1/hOqr75cGQf/ftzWxTo7BdFABqHDvxsYwL1m8Cnljd5l6Mvr87CxEPuwCagiCc/lMxJq6vrjiwN/ufTx9CFlEUI6V87zdNTRersMAoA2xpxlJ+/lUAh7rGLyqV9STK6xt1iPJalAePPBnyyv5mi5jh7m8FQVi7brX1WJcdUUn5+VcBtOhZBMPIxJqxp/9U/Hrk7yD4p8ePRkp5GBvYQ0Rz7YwtTVkTGDZCnSNRnigv61mwyXk/p27LLyyeKQjCcPe3yuZIMbZQAFwcqi3DykhVys+/CtRXVwiC8O7bm//59CHoCZRHzP08+aj42BGUGij/XevV32SkC4KQunkjDgDtTZeT/v+XOfI//B0UeOF/TmGkIAhKA1k1Fxyu8YtKyLt23er2psvzrwKy0i5WloHfCTxOslyCIBzNy4VqwGm6XAnPfvjuLyWFcFFUBx6ivD6Oa+ciW17LlgenPHYk7GwUsIsCMKvSSqCrHisU5WXmPDAdQA9OG9Y9gm56gDigE5JBOXAH0PhFJevzgWSqSA2bq/GLSpmbSFYalICUZ2sOKXEAg/HpNxnp3/+tBVCOu9i2RJTX5rW+vUR5LcqH6pxsu6RwLCugeo+vCmJTIzUaEktDYDr4pgGdrLsGKQ/IhmSsb2f+VWDuxSiLWrxdUKU8XjhZLhm7e79pwnsLGeVhDICqAqCR+FAIZmRrBbuI8vqQrSMXUZ6X8nMvRv9SUgj3sKIoNn5ROdHfee6//xO7SqQB6CF4ww5NP9R0Be29kR5ad3rrqwHsQJUirbl5lN+yNbWts4VzbNCgPEgqimLvN01/KSn859OHECMIwl///EfWXQOUR27KKP/sh+8+PX60+NiRi5VlnLb8/KuAai4Zr1nN+SmPzRsGGPaJApwgUV4Hr/VlIcpzUf7nyUfgCUXPZtfN/01aksjOhWA7A2eYbe4QZinf134DZ1Mo93IeIvpki14NEF8VCmHPzjzKQ8n7c3N41kfToDya27ByBpwRwHTh0bHMBmdZyVIeuIxOHk7Kh8oFjQ2HE1bkSCmPhbA1Z5s9W/j8qwBUCXPJ9qpeTUCYPvzFSS6iPBfl4X5Tdnc80d/JQlnWInk2NZr7wt33X0oKkfI8pZmUZtGrAVZhbFIeHiSWeku0X7LVprwSbRCD3g+4sjLrmKU8hE//qVjme8G5iarmiEYuaPCg+dyL0YuVZdAUMQtbJawn5IKHru1Nl9nBhqU8nJ3qBYVcyuENDkeU1zcsEeXDU17ZCY3iqQblJ/o73cnuRad8LFQjxikP6HEnu+uv14Vy4GhTHlwxMup9evwoa1Ug4nGCCk6eObA3G/embt5460oNpMEHszAxH9yMbNPVyDX3YhRn1LAZf558hKXhHBuc9Q/jAXo10Z8J9Idafdd6Fd8IU54yCAX/2dMnyuvjO+QiyoenPNgvoe4iwblZfOwINM3UzRu//1sLmlQH9mYPd38L3h40/J/98B3ErF23OmlJ4rtvb34zNgCdB9p9fXUF9mFBEP5SUsju1XFEWd+G2WzQ69AHNfdilD2L4e5vzasG8uXA3mxwAuR/+Ds8R5kakBiJ8OyH72CZGlEUkSM4Py99+zZ2aISLEgq+0cSzPMJwhidd9VVbSMBeBQrrUED1apLHJuwAQJSPlvJgj7tcCcPd3z774buU5UthPECQHc3LhTDEs/Y7e+sKafDmt766gh1X2L2RHlHWneCgp/9UzNYEyx/u/hbiwZIyrxpwFHjq+P7uLDRIgeZQH2WYrXPvN01JSxKbLlbBDcetKzWyM51/FVDlQjRwx7xIdmXgSEGezFkPaZTVo5iIFFC9mkR5ojxnG1B/KwpaFWAxlK8QLH28u4SbU/CQvr87C6n96fGjEGbTs8xCzsL0fA28siXg7DqNI+L9MhjvaOqyY4ysTOx7BlYDy4QAy3FlDLuXDUM9WbAe2JsNMsJrrnhrAmWqcgFJHU2ArYMyvPCmRXnlKSwfEsgUoM1IFVC9mpw9PCwKHZyAbPnwtjxQRnUy30R/p4yPOAmBZROwGCgPCdBnmrJ8qdJihXkXSlseUkZ6RGVfavyisvjYke//1vL+7izVMjGLKuVVs4Q9cSwTAjJ9YK431ofdy4Zl545lwjxXoAA7L0WVCwjfaAJQsvb/tetWX2ttmJodh2RYWwroU0D1ahLlw45PRPnwlMcJXgB6WPDg2Q/fXfifUzi7mfXSAM1D2emsBQ0zCkJRnn0lnSUdlMx/RFmPwpdcwL8ER8cywRae6O+E76UAu9FANrAabFFQQ4gB9WCiKqsMxIN6OP61N12Gl++hBNirTXn4Zm+GJz3Knzbf2b2//0MuUV7WCPVtEuXDAl01AVGei/L4wBPnD+AaHbALnqYKggBvnwOwoFG++/bmC/9zCsKAKnAoC4Lwf3/3f2C+wfu7s+DZI94x4Ax9URTrqytke/H5LecR2U6FoPzrn/8I1f5LSaHqWcCKWpDG2Gqw+oAmUENYO4U9FjygBvUA7hP9nVglePra136j6WIVRLLXRdUvb+U32UVRPPFJ4ejzQag/exUorEMBkFF2B0a2vCrZ2UiiPC/ldTRKyrLoCii50NbZ0tJ+LfoflKzxP+29d1rvNgOSINmiq2H3Ciiv5tTsOFGeBbpqmChPlA/YvfNr1F+VCzJjUN+mBt/RHY8lE+U1rhH/LtWrSZRXJTsbSZQnyhPlxxHH/AFVyicuSfSWnVQWQpTnR7lGSqI8y27+MFFei/LwSbmfJx9ptDzaFcsKwBVUYjf6GCXlldPk8SjalMd36PCpcpSS4nxTeHzNloa7VNc8wJScyTC9NQGiPD/Z2ZREeS3Kr123euEL0RP9ndY0YjqK4QpYQ/m0997RXp9Sm/I4i9QoyuOHqJSU117ZhtUfQK89GLDpLQgT5Vl284eJ8lqUz/D8+kUe1ZcqLWjTdIgoFXg98ndBENzJbrSpDQwAcdzJ7tqG82GLDUt52arCUZ44Dhvs/CUskxPfnMmwWAsCRHl+srMpifJalC/1lsCHzSxowXQIwxWAldb35+aEpbCOBDhLkievjPL4Hb6161b/JiMdPpsHqzaqfu1v/lUAv8/HfmkP3mrGCaYwzRdew2ZfPgDoX6wsS1qSKIpiVraHXS2SlR2XG1NNploHNju8XaHx5T9lCeyc2nff3jzc/S1OVm66WAUjDY5VRHmW3fxhorwW5Tt8bbAqAH36le3Mtgj/+p7XipQFW57H1uYhtSxN3+NuWYzGJkt59tWtZz989/7uLFjTApCt/Nofu4gFLkaPrhh2RV94tU2V8lA4fOEPwqquGI1kbC6gOdaBbQ9QH9Uv/4UqAR9LwOtsQHY8C/iyChyCKM9PdjYlUV6L8lOz4/Di4rtvb6ZnsGxnjv0wrK+Z9t47GvC1bBdLeWAxvM7GWg8AQSXpYFRAexbfUob1iHgoLyshlCtGI5lsl6wObGNgUQ7JYDDQLgH2Qsq+9htwzwFfiL1YWYblE+VZdvOHifJhKD/6fBBMwk+PH8XWRoEYVwCWjhBFsWegwzKUaxyIpTw8/8SVpXE9apbXrD0r4yO6OGA8YHMBVdEKxsXyoDQ0vUNRXiOZdh3YxqCsjyrlZWeB9ytNF6v++uc/wuU7sDe76WIV3OjAIYjy/GRnUxLlw1B+ana8pf0aNK+sbA/b5tjGTeEYUeDnyUe4er7q1HUNFpu3S0Z5cJSDdx7n1bB8DEt51VzAYiXlZYwORXmNZLJdwGisA3vp2bPQsOWVJUCt4LOIOAbgEAiHIMqz7OYPE+XDU35qdryq7rOFtWQFQVi4lzzzX6U0t5Lt2DESfjM2UF9dAZNfRVGMHcTL1qTs/aYJF9tp/KISWIlcU3ps0M5V/dIeLieHX3dSUh4LB788rImk9MtrJwNXjGod2AbAUh7GBryH0C4Bjo6OKYA+qIHlE+X5yc6mJMpzUX5qdvzhkz6YnABNTRAEK9e9woNSQKmAO9mNDhBBENLeeydGHDV4cwB1BlpN9HfeulIDqBVFseliFeIVHvU3XazC00FkwwwZSIBfyGKXk0vdvBE8jwrVTQAAD/hJREFU2rDOPpaAowg8qBBF8Wjev9fIVAV9qGQ4/UZZB6QwcBwSKL/8F7aE3m+asErwSFZ26wwyoqoQAISxUKOwTAGiPC/loUnVX6/bn5sDdr0SNxSzuArs2berqu4zGQViYRNkQRpSQJ8CIKPsghLlZUxXbhLlI6O8rIXRJinAowBRXh/WZbmI8kqC88QQ5Ynyetbq4kEbpUEFiPIyXuvbJMrzMF2ZhihPlCfKm64AUV4f1mW5iPJKgvPEEOWJ8qYzDk3auA0Q5WW81rdJlOdhujINUZ4oT5Q3XQGivD6sy3IR5ZUE54khyhPlTWdc3JrweOJEeRmv9W0S5XmYrkxDlCfKE+VNV4Aorw/rslxEeSXBeWKI8kR50xmHJm3cBgBP9N8QBWStCBDGA7u4TUOUJ8oT5U1XwBC6USGgAFE+0uGKKE+UN51xsm5Jm6SAgQqQLR8W+kR5ojxRnhSwsQJEeaI8ZxsQZEo5fvQz0JiiouyugKonxC4nxdnDZR08rjYdTzPONkCUt7E1ZxcexWw9ifLOhj5RHq4vUZ4oH78KEOWJ8jFrgvBUjGz5+IUXT/ugNPiRE5tKwdnDnc1x7bMjW55seRoG4l0BsuW1KWn3vUR5ony8M86mNqyB1SbK253j2vUnyhPlifLxrgBRXpuSdt9LlCfKxzvjDDSKbVoUUd7uHNeuP1GeKE+Uj3cFiPLalLT7XqI8UT7eGWdTA9zAahPl7c5x7foT5YnyRPl4V4Aor01Ju+8lyhPl451xBhrFNi2KKG93jmvXnyhPlCfKx7sCRHltStp9L1GeKB/vjLOpAW5gtYnydue4dv2J8kR5ony8K0CU16ak3fcS5Yny8c44A41imxZFlLc7x7XrT5QnyhPl40KBiekRd7IbgM75XxTFh0/6YnzoAoRpYy7O9xLlifJxwbgYR5U11au/XsfJd0hW6i2xpmLRHMVYyvt8Ppcr4R//+IeBA4PP50tKequgoMDAMiMqiihPlCfKx5ECGZ50TtC7k90T0yPR8NeavAZSfn5+fv/+/YIglJWVRYRR7cSlpaWCIBg+eGgflN1LlAc16CsicUQ6a+gTm0fp8LVxUr7+el1snoKsVgZSfnJyMinprSiJ7PP5vv76axayZMvLLpnhm5xtgChPlI8XBY6d+Dgs6DM86YZ3RZMK5OzhLHZDhcvKytLS0kAcGalDZVHGl5aW6s6rLM2QGLLlQUaifLwwziTW2KjYh0/6EpckaoO+w9dmlzMyivJzc3NFRUX37t0DZdLS0n755ZeIIDs/P19bWysIAlHe4sbD2QaI8kT5OFKgvPKUBuWPnfjY4l4azeE4e3hYXoOnBV3zoigODAwoc83Pz3/55Zfg2BEEITMz0+/3B4NBNhK0FUXx66+/bmhowE22wPn5ea/XqywnGAxiFhhprl69Csk++uijSAceqD/Z8qADUT6OGBcNU5yRd2J6ZMvWVFXQu5PdsT97kr0KhlB+fn7+8OHDMLUGIXvw4EEZ5XEMqK6uRhzjY9W5ubmUFSlKW97n8wmCwA4bmPLq1atYDowKcER8YFtdXT0wMIDplVWS1VB1kygPshDlifLxpcC11n/bmDLWl1eeYhka+2FDKD85OVlaWgosQKQivhGdAF905gD0MRlmlHls8KEuxsvKwYxYMo40ONtHlgWrxBMgyoNKRPn4Ylzsw8uCGu7Zt0uG+C1bUy04rrGHMITySFWZIAjZYDCILA5lUGMCpDnARUZ53GTLAYijva80/yEBm4WH75CGKE+UJ77HqQI9Ax2iKLJca2m/ZiyCLSgtesrPz8/LXN4IYjSug8EgRoZCbTSUx2EGRgigPN4lBINBorxGW+JsA2TLxynpNJpOPOxiZ1Xu2bfLjqfM2cM1LN/JyUnWZg8Gg+h/R+OateVZ9LPFRk95PBxAnz0QUV6jcXK2AaI8UT4eFcDFbWyxZI1qP+fs4SyOZWGv1yvzseATUUEQWMtd5leBcq5evXrnzh12GJCNGXATgATHIUTDVAfKaySQnYL2Jkikqp4zIjnbAFE+HhnnjCYe5VlU1X0mCIItlqxRPVPOHh6Kg8BTmOvCpoEXVmFuDO5Fa33L1lSYQNnT05O9OwsmOCK+wQbv6ek5e/ZsMBgE9ws79wadPzAe3Lt3LynprS1bU3H9HBhOXK4EmHwpK5mtJ0+YKA8qEeWJ8vGrQFa2xxZL1hhLeUQnPJlQGs7sEwt0nsjmucsc+lNTU5mZmTA2eL3eX375BR3uUBreGUxNTQHKIXFBQQHOhcd42PX999/D6jrKegaDwbS0tO+//16b9UR5onz80k2VGhRpLwWitOW1+Rj7ewH9hw8fnp6eDlVborw65d3JbkmS7Gvg2KujUm1JAd0KQFcNBTjHx+MNh8uVUFZWNjc3pzxlorw65VM3b5Qk6YG/V3fjo4ykAClggQJEeQS9IAjLli+9deuWDPREeXXK5+TkSJLUerfZgmZKhyAFSAF9CgReDkmSlLp5o4xr8bPJIh7DmZmZjx8/RhGI8uqULyoqkiSppr5KX+OjXKQAKWCBAveHOiVJyt6dhUSLtwCSXRkoKioCZz1RXp3yZWVlkiSdrvBa0FLpEKQAKaBPgea2RkmSDh8+HG9wx/NVwp2NSUp6q7q6miivTvkrV65IknTik0J9jY9ykQL8ClTVfSaK4u3um/xZKCUoUFNfJUkSLjSG7IufAMt0jbDLleDgNgPDWNiLLp8vf+fOHUmSbPrOt4Mvp/NObXLGv2vvbyN9L6n1bnNtw/ko1TCkkCjrEGX2Um+JJEnw8lHYTu7IBBpkl+36/R9yo1Q7ZrPrpPz09LQkSXb5wHHMqk8VC6tA3+PuIwV58K3R4af9YdNPzY7DwBAl5Q0phKe2Le3XzPutXbfa5Uqora3tUfwtvFZq/Z/X68209k+G8lCboiiOPh/kuV52TKOT8sFgEKbZNLZctuNpU53tokBtw/nBMR+Y80pwX7h0Dr7et3bdamiK5ZWn2O/5Xbh0rrC4AF6SvN19s+9xN+zF29BrrQ2YPjfvwPiPw1Oz48pCQC48nCAIh/I/GP9xGG81RFFs62w5ejwfdk3NjmPJa9et9mTugJKVssOHNULRh+LNViAnJ8flSpAkSXlpHBOjn/Lw1OJIQZ5jtKATiTUFJqZHzlSXT82Ot95tFgRhy9ZUlpWwwsyFS+cAtei7h3h2SCgsLsC9E9Mjy5YvBcqz4QuXzrF+IdVCMAHsxfrAQHIo/4OegY4MT/qefbu6+tsTlyRCHR74e3ft/W2oG5H9uTkZnnQzfqvWrBRFcdnyparWs/WGPBxRcVNhboTGILFh0/p79+4Fg0GAYKw1fgPro5/yfr9fkqRly5caWBsqihRgFQC4Y0dFUk/NjgOgXa4EoGfr3Wbcqwpo3MuSHY81OeMHUuOqZLJC4CYADweFYJmyxFg9QRBy8w509bfjgawMZO/OkiRJ+RKQI/3voU4KGw8bSEp6i31WQZQH9eRPXyE2LS2N3o2yst/G27FKvSVoAgOF0dMiwy6rjJK5oWz5qdnxB/7ewuKCo8fzz1SXo6k+NTsuK0R2OHTUgLUuSwyVab3bjL6gQ/kfsDW0IPzwSR88OZudnQ1FwHiIZ+EOYZwmj6dPlAcp1CkPs+YPfrjfglZLh4g3BRZWSTp24mM8a7DrQ1nTmEwJ6KnZcZbywGsYLSAM9juUz2nLh/URQX0mZ/zgnUern62nqeETnxTG+Uz5f5OLwXz69m2q61MS5bUoPz09Datk0FIHpvbYOCwcXCjIXNYHgpFg3YNzfHLGf6a6HObUy3iN3AcPPjxZBcpjSqXHBneh+Oh8H/9xGL79jTVR2vKtd5vh8ezU7PiFS+cspvzDJ33QMdn3+NF0jasAQH7Z8qXKD6GgDkR5LcovPLiAZ7Dp27dhZ6AAKRClAuD1hv7JPiZFswws+skZP06GEUXxwqVzcNyJ6RGYk4ORE9MjGZ70he9UbNi0/nb3TZxmg46XDZvWX7paA1NxgN3KQmAggbyiKMKL31gC1A2fx/Y97q6/XofVYB8FRykOT3Yy5JHgLleC1+vVdlsR5cNQfm5ubu261ZIk0ZRKnu5HaUgBsxXo8LUBtsiQh2+OI/FDBYjyYSgfDAZra2slSUrfvo2Wmze7A1P5pEBYBfbs2yVJktfrDQU1ipcpQJQPT/m5uTlYbt76iQRhWzwlIAXiSoEz1eUwtUbj00gyxtEmUT485YPB4OPHj+FpD61SGVdMoZONKQVgBUpJku7cuUPs5leAKM9F+WAwCOuXkYM+pro9VSZ+FHjg7122fKkkSQuvmPIDjlLSu6/YBtTny+NuCMB8G3eyu8PXFj+9i86UFFh0BQIvh7ZsTZUk6eDBg7JeSZthFSBbHiTionwwGDx8+DAse0Az6Be951MF4kSBB/5eQHxaWpr2lMGwvIvPBET5yCg/Nzd38OBBUA3WmYqTnkanSQosigKtd5vBUZOWljY1NRWfmI7yrInykVEeUnu9XhCusLiAplcuSueng8aDAjCjBhw1ZMXrZj1MEXSqn3liesSd7HYnu8Pqw+uxwYJu3boFs248mTvoW27xQBw6RysVeODvPfjhfrClaGo8YkdfAPzMNfVVVl5By44Fb8nt3LkzrDgRU37hMyMDAwPwWuyvtsaH+x/4ey07MToQKeBUBQIvh058UggmlDvZHecLC4clF08CmDbi1Nd9vGUnOb/9q4fywWBw4S6yrKwMWqQkSYXFBQ+f9Dm1+9F5kQKmKjAxPXK6wgteeEmSCgoKyBHPA/GwafB1H+ct03J/qBPwC99L0ZZCJ+Wh0Onp6aKiIri7lCTJk7njTHX5/aFOU7sEFU4KOEOBh0/6auqrDn64H62lnJwcWqNGG1iR7j179qwkSavWrHSSe/n+UGf69m2SJBUVFfEIEhXl4QB+v7+goABZv/AVmy1bU098UtjYcrn1bjNB3xlIorOIXoGHT/pa7za33m32lp30ZO5gu0z27iweo4ynS1MamQLwaa1fnRveEruz/v5Q5+kKL5gFqZs3cj6ZN4DyoOnc3NytW7eKiopSVqSwzRfDq9asxDAFSIH4UWDZ8qXojZGd9eHDh69cuUJL08i4bOzm3NwcfBZJJr7tNvGeD6x4TsQHg0HDKM9eGJ/Pd/bs2aKiopx//dlOTaowKWCGAjt37szJyTl8+PDZs2dv3bq1QB+211DYVAUGBgYKCgp27txpxpW1rMy0tLSCgoJIb/tMobypV4sKJwVIAVKAFOBXgCjPrxWlJAVIAVLAfgoQ5e13zajGpAApQArwK0CU59eKUpICpAApYD8FiPL2u2ZUY1KAFCAF+BUgyvNrRSlJAVKAFLCfAkR5+10zqjEpQAqQAvwKEOX5taKUpAApQArYTwGivP2uGdWYFCAFSAF+BYjy/FpRSlKAFCAF7KcAUd5+14xqTAqQAqQAvwL/H8F6RJVN4K9GAAAAAElFTkSuQmCC)"
      ],
      "metadata": {
        "id": "ljHgojCAH0Ws"
      }
    },
    {
      "cell_type": "code",
      "source": [],
      "metadata": {
        "id": "YECtTHHsYikl"
      },
      "execution_count": null,
      "outputs": []
    },
    {
      "cell_type": "code",
      "source": [
        "#we need 2 classes Environment and Agent and 1 Simulation Function\n",
        "\n",
        "class Environment:\n",
        "  pass\n",
        "\n",
        "\n",
        "class Agent:\n",
        "  pass\n",
        "\n",
        "\n",
        "def agent_simulation(agent, environment):\n",
        "  pass\n",
        "\n",
        "\n"
      ],
      "metadata": {
        "id": "2FzuyjSh0AQP"
      },
      "execution_count": null,
      "outputs": []
    },
    {
      "cell_type": "code",
      "source": [
        "class Environment:\n",
        "    def __init__(self, initial_state):\n",
        "        self.initial_state = initial_state #Initial state could be fixed or random\n",
        "\n",
        "    def get_percept(self):\n",
        "      #initial condition of environment , that would be perceived by agent\n",
        "      pass\n",
        "\n",
        "    def effect_on_environment(self):\n",
        "        self.state = 'Taskdone'\n",
        "\n",
        "\n",
        "class SimpleReflexAgent:\n",
        "    def __init__(self):\n",
        "        pass\n",
        "\n",
        "    def act(self, percept):\n",
        "        #Determine action based on the initial percept\n",
        "        pass\n",
        "\n",
        "\n",
        "def run_agent(agent, environment):\n",
        "    # The agent reacts to the initial stimulus/Percept\n",
        "    percept = environment.get_percept()\n",
        "    action = agent.act(percept)\n",
        "    print(f\"Percept: {percept}, Action: {action}\")\n",
        "\n",
        "\n",
        "# Create instances of agent and environment\n",
        "agent = SimpleReflexAgent()\n",
        "environment = Environment(initial_state=0)  # Start with any initial condition (high/low , 1/0, True/False , high/med/low etc based on scenario)\n",
        "\n",
        "# Run the agent in the environment (only once)\n",
        "run_agent(agent, environment)\n"
      ],
      "metadata": {
        "id": "_TNnD7a-YYxG"
      },
      "execution_count": null,
      "outputs": []
    },
    {
      "cell_type": "markdown",
      "source": [],
      "metadata": {
        "id": "xwnWyUaHYYcS"
      }
    },
    {
      "cell_type": "markdown",
      "source": [
        "#**Simple Reflex-Based Hand-Pulling Agent: Code1**\n",
        "\n",
        "Imagine a robot or an automated hand safety system designed to detect the heat level of objects and prevent harm by retracting upon touching dangerously hot surfaces. This system uses a reflex agent to make immediate decisions based on perceptual input from the environment."
      ],
      "metadata": {
        "id": "6C4Ur_anYZPZ"
      }
    },
    {
      "cell_type": "code",
      "source": [
        "class Environment:\n",
        "    def __init__(self, heat_level='High'):\n",
        "        self.heat_level = heat_level\n",
        "\n",
        "    def get_percept(self):\n",
        "        \"\"\"Return the heat level of the object as the percept.\"\"\"\n",
        "        return 'Hot' if self.heat_level == 'High' else 'Cool'\n",
        "\n",
        "\n",
        "class SimpleReflexAgent:\n",
        "    def __init__(self):\n",
        "        pass\n",
        "\n",
        "    def act(self, percept):\n",
        "        \"\"\"Determine action based on the percept (heat level).\"\"\"\n",
        "        if percept == 'Hot':\n",
        "            return 'Pull hand away, you touched the hot object'\n",
        "        else:\n",
        "            return 'You have not touched any hot object , No need to pull away'\n",
        "\n",
        "\n",
        "def run_agent(agent, environment):\n",
        "    # The agent reacts to the heat stimulus only once\n",
        "    percept = environment.get_percept()\n",
        "    action = agent.act(percept)\n",
        "    print(f\"Percept: {percept}, Action: {action}\")\n",
        "\n",
        "\n",
        "# Create instances of agent and environment\n",
        "agent = SimpleReflexAgent()\n",
        "environment = Environment()  # Start with a hot object\n",
        "\n",
        "# Run the agent in the environment (only once)\n",
        "run_agent(agent, environment)\n"
      ],
      "metadata": {
        "colab": {
          "base_uri": "https://localhost:8080/"
        },
        "id": "8Dp7ukM_Zwm0",
        "outputId": "557c86ce-e884-4b69-bae6-34be500eabc5"
      },
      "execution_count": null,
      "outputs": [
        {
          "output_type": "stream",
          "name": "stdout",
          "text": [
            "Percept: Hot, Action: Pull hand away, you touched the hot object\n"
          ]
        }
      ]
    },
    {
      "cell_type": "markdown",
      "source": [
        "#Example # 2 (Vaccumm Cleaner)"
      ],
      "metadata": {
        "id": "-ODLhBhloGp2"
      }
    },
    {
      "cell_type": "code",
      "source": [
        "\n",
        "\n",
        "class Environment:\n",
        "    def __init__(self, state='Dirty'):\n",
        "        self.state = state\n",
        "\n",
        "    def get_percept(self):\n",
        "        return self.state\n",
        "\n",
        "    def clean_room(self):\n",
        "        self.state = 'Clean'\n",
        "\n",
        "\n",
        "class SimpleReflexAgent:\n",
        "    def __init__(self):\n",
        "        pass\n",
        "\n",
        "    def act(self, percept):\n",
        "        if percept == 'Dirty':\n",
        "            return 'Clean the room'\n",
        "        else:\n",
        "            return 'Room is clean'\n",
        "\n",
        "\n",
        "def run_agent(agent, environment, steps):\n",
        "    for step in range(steps):\n",
        "        percept = environment.get_percept()\n",
        "        action = agent.act(percept)\n",
        "        print(f\"Step {step + 1}: Percept - {percept}, Action - {action}\")\n",
        "        if percept == 'Dirty':\n",
        "            environment.clean_room()\n",
        "\n",
        "\n",
        "# Create instances of agent and environment\n",
        "agent = SimpleReflexAgent()\n",
        "environment = Environment()\n",
        "\n",
        "# Run the agent in the environment for 5 steps\n",
        "run_agent(agent, environment, 5)\n"
      ],
      "metadata": {
        "colab": {
          "base_uri": "https://localhost:8080/"
        },
        "id": "aHJQvDs5osNn",
        "outputId": "26e8d8df-2dad-479a-fcf2-059543fb189b"
      },
      "execution_count": null,
      "outputs": [
        {
          "output_type": "stream",
          "name": "stdout",
          "text": [
            "Step 1: Percept - Dirty, Action - Clean the room\n",
            "Step 2: Percept - Clean, Action - Room is clean\n",
            "Step 3: Percept - Clean, Action - Room is clean\n",
            "Step 4: Percept - Clean, Action - Room is clean\n",
            "Step 5: Percept - Clean, Action - Room is clean\n"
          ]
        }
      ]
    },
    {
      "cell_type": "code",
      "source": [
        "#another method using Inheritance (another logic)\n",
        "\n",
        "class Environment:\n",
        "    def __init__(self, state='Dirty'):\n",
        "        self.state = state\n",
        "\n",
        "    def get_percept(self):\n",
        "        return self.state\n",
        "\n",
        "    def clean_room(self):\n",
        "        self.state = 'Clean'\n",
        "\n",
        "    def run_agent(self, agent, steps):\n",
        "        \"\"\"Simulates the environment interacting with the agent.\"\"\"\n",
        "        for step in range(steps):\n",
        "            percept = self.get_percept()\n",
        "            action = agent.act(percept)\n",
        "            print(f\"Step {step + 1}: Percept - {percept}, Action - {action}\")\n",
        "            if percept == 'Dirty':\n",
        "                self.clean_room()\n",
        "\n",
        "class Agent(Environment):  # Inheriting from Environment\n",
        "    def __init__(self, state='Dirty'):\n",
        "        super().__init__(state)  # Initialize environment state\n",
        "\n",
        "    def act(self, percept):\n",
        "        \"\"\"Define the agent's action based on percept.\"\"\"\n",
        "        if percept == 'Dirty':\n",
        "            return 'Clean the room'\n",
        "        else:\n",
        "            return 'Room is clean'\n",
        "\n",
        "# Create an agent instance (inherits from Environment)\n",
        "agent = Agent()\n",
        "\n",
        "# Run the agent in the environment for 5 steps\n",
        "agent.run_agent(agent, 5)\n"
      ],
      "metadata": {
        "colab": {
          "base_uri": "https://localhost:8080/"
        },
        "id": "WxsNP_DTY2hY",
        "outputId": "2a6f20ef-3ec8-4e91-c726-4d25e9a89706"
      },
      "execution_count": null,
      "outputs": [
        {
          "output_type": "stream",
          "name": "stdout",
          "text": [
            "Step 1: Percept - Dirty, Action - Clean the room\n",
            "Step 2: Percept - Clean, Action - Room is clean\n",
            "Step 3: Percept - Clean, Action - Room is clean\n",
            "Step 4: Percept - Clean, Action - Room is clean\n",
            "Step 5: Percept - Clean, Action - Room is clean\n"
          ]
        }
      ]
    },
    {
      "cell_type": "markdown",
      "source": [
        "#Example 3 Simple Reflex Agent Code Example #3 (2D Grid-Based Vacuum Cleaner Simulation: Smart Cleaning Robot (Reflex Baed))"
      ],
      "metadata": {
        "id": "EpFPBztgV4Ju"
      }
    },
    {
      "cell_type": "code",
      "source": [
        "class SimpleReflexAgent:\n",
        "    def __init__(self):\n",
        "        self.position = 0  # Start at position 0 (top-left corner)\n",
        "\n",
        "    def act(self, percept):\n",
        "        # If the current position is dirty, clean it\n",
        "        if percept == 'Dirty':\n",
        "            return 'Clean the room'\n",
        "        else:\n",
        "            return 'Move to the next room'\n",
        "\n",
        "    def move(self):\n",
        "        # Move to the next position in the grid\n",
        "        if self.position < 8:  # Stay within bounds of the grid\n",
        "            self.position += 1\n",
        "        return self.position\n",
        "\n",
        "\n",
        "class Environment:\n",
        "    def __init__(self):\n",
        "        # Create the environment with a 3x3 grid, where 'Dirty' and 'Clean' states are defined\n",
        "        self.grid = ['Clean', 'Dirty', 'Clean',\n",
        "                     'Clean', 'Dirty', 'Dirty',\n",
        "                     'Clean', 'Clean', 'Clean']\n",
        "\n",
        "    def get_percept(self, position):\n",
        "        # Return the state of the current position\n",
        "        return self.grid[position]\n",
        "\n",
        "    def clean_room(self, position):\n",
        "        # Clean the room at the given position\n",
        "        self.grid[position] = 'Clean'\n",
        "\n",
        "    def display_grid(self, agent_position):\n",
        "        # Display the current state of the grid in a 3x3 format\n",
        "        print(\"\\nCurrent Grid State:\")\n",
        "        grid_with_agent = self.grid[:]  # Copy the grid\n",
        "        grid_with_agent[agent_position] = \"👽\"  # Place the agent at the current position\n",
        "        for i in range(0, 9, 3):\n",
        "            print(\" | \".join(grid_with_agent[i:i + 3]))\n",
        "        print()  # Extra line for spacing\n",
        "\n",
        "\n",
        "def run_agent(agent, environment, steps):\n",
        "    for step in range(steps):\n",
        "        percept = environment.get_percept(agent.position)\n",
        "        action = agent.act(percept)\n",
        "        print(f\"Step {step + 1}: Position {agent.position} -> Percept - {percept}, Action - {action}\")\n",
        "\n",
        "        # If the room is dirty, clean it\n",
        "        if percept == 'Dirty':\n",
        "            environment.clean_room(agent.position)\n",
        "\n",
        "        # Display the grid state with the agent's position\n",
        "        environment.display_grid(agent.position)\n",
        "\n",
        "        # Move to the next position\n",
        "        agent.move()\n",
        "\n",
        "\n",
        "# Create instances of agent and environment\n",
        "agent = SimpleReflexAgent()\n",
        "environment = Environment()\n",
        "\n",
        "# Run the agent in the environment for 9 steps (to cover the 3x3 grid)\n",
        "run_agent(agent, environment, 9)\n"
      ],
      "metadata": {
        "id": "DqU00PMNV5AF"
      },
      "execution_count": null,
      "outputs": []
    }
  ]
}
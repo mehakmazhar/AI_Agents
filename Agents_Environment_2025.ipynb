{
  "nbformat": 4,
  "nbformat_minor": 0,
  "metadata": {
    "colab": {
      "provenance": []
    },
    "kernelspec": {
      "name": "python3",
      "display_name": "Python 3"
    },
    "language_info": {
      "name": "python"
    }
  },
  "cells": [
    {
      "cell_type": "markdown",
      "source": [],
      "metadata": {
        "id": "1xgKkHkpQEl1"
      }
    },
    {
      "cell_type": "markdown",
      "source": [
        "#**Simple Reflex Agent**"
      ],
      "metadata": {
        "id": "p0TbFAg2HxUM"
      }
    },
    {
      "cell_type": "markdown",
      "source": [
        "![image.png](data:image/png;base64,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)"
      ],
      "metadata": {
        "id": "ljHgojCAH0Ws"
      }
    },
    {
      "cell_type": "code",
      "source": [],
      "metadata": {
        "id": "YECtTHHsYikl"
      },
      "execution_count": null,
      "outputs": []
    },
    {
      "cell_type": "code",
      "source": [
        "#we need 2 classes Environment and Agent and 1 Simulation Function\n",
        "\n",
        "class Environment:\n",
        "  pass\n",
        "\n",
        "\n",
        "class Agent:\n",
        "  pass\n",
        "\n",
        "\n",
        "def agent_simulation(agent, environment):\n",
        "  pass\n",
        "\n",
        "\n"
      ],
      "metadata": {
        "id": "2FzuyjSh0AQP"
      },
      "execution_count": null,
      "outputs": []
    },
    {
      "cell_type": "code",
      "source": [
        "class Environment:\n",
        "    def __init__(self, initial_state):\n",
        "        self.initial_state = initial_state #Initial state could be fixed or random\n",
        "\n",
        "    def get_percept(self):\n",
        "      #initial condition of environment , that would be perceived by agent\n",
        "      pass\n",
        "\n",
        "    def effect_on_environment(self):\n",
        "        self.state = 'Taskdone'\n",
        "\n",
        "\n",
        "class SimpleReflexAgent:\n",
        "    def __init__(self):\n",
        "        pass\n",
        "\n",
        "    def act(self, percept):\n",
        "        #Determine action based on the initial percept\n",
        "        pass\n",
        "\n",
        "\n",
        "def run_agent(agent, environment):\n",
        "    # The agent reacts to the initial stimulus/Percept\n",
        "    percept = environment.get_percept()\n",
        "    action = agent.act(percept)\n",
        "    print(f\"Percept: {percept}, Action: {action}\")\n",
        "\n",
        "\n",
        "# Create instances of agent and environment\n",
        "agent = SimpleReflexAgent()\n",
        "environment = Environment(initial_state=0)  # Start with any initial condition (high/low , 1/0, True/False , high/med/low etc based on scenario)\n",
        "\n",
        "# Run the agent in the environment (only once)\n",
        "run_agent(agent, environment)\n"
      ],
      "metadata": {
        "id": "_TNnD7a-YYxG"
      },
      "execution_count": null,
      "outputs": []
    },
    {
      "cell_type": "markdown",
      "source": [],
      "metadata": {
        "id": "xwnWyUaHYYcS"
      }
    },
    {
      "cell_type": "markdown",
      "source": [
        "#**Simple Reflex-Based Hand-Pulling Agent: Code1**\n",
        "\n",
        "Imagine a robot or an automated hand safety system designed to detect the heat level of objects and prevent harm by retracting upon touching dangerously hot surfaces. This system uses a reflex agent to make immediate decisions based on perceptual input from the environment."
      ],
      "metadata": {
        "id": "6C4Ur_anYZPZ"
      }
    },
    {
      "cell_type": "code",
      "source": [
        "class Environment:\n",
        "    def __init__(self, heat_level='High'):\n",
        "        self.heat_level = heat_level\n",
        "\n",
        "    def get_percept(self):\n",
        "        \"\"\"Return the heat level of the object as the percept.\"\"\"\n",
        "        return 'Hot' if self.heat_level == 'High' else 'Cool'\n",
        "\n",
        "\n",
        "class SimpleReflexAgent:\n",
        "    def __init__(self):\n",
        "        pass\n",
        "\n",
        "    def act(self, percept):\n",
        "        \"\"\"Determine action based on the percept (heat level).\"\"\"\n",
        "        if percept == 'Hot':\n",
        "            return 'Pull hand away, you touched the hot object'\n",
        "        else:\n",
        "            return 'You have not touched any hot object , No need to pull away'\n",
        "\n",
        "\n",
        "def run_agent(agent, environment):\n",
        "    # The agent reacts to the heat stimulus only once\n",
        "    percept = environment.get_percept()\n",
        "    action = agent.act(percept)\n",
        "    print(f\"Percept: {percept}, Action: {action}\")\n",
        "\n",
        "\n",
        "# Create instances of agent and environment\n",
        "agent = SimpleReflexAgent()\n",
        "environment = Environment()  # Start with a hot object\n",
        "\n",
        "# Run the agent in the environment (only once)\n",
        "run_agent(agent, environment)\n"
      ],
      "metadata": {
        "colab": {
          "base_uri": "https://localhost:8080/"
        },
        "id": "8Dp7ukM_Zwm0",
        "outputId": "557c86ce-e884-4b69-bae6-34be500eabc5"
      },
      "execution_count": null,
      "outputs": [
        {
          "output_type": "stream",
          "name": "stdout",
          "text": [
            "Percept: Hot, Action: Pull hand away, you touched the hot object\n"
          ]
        }
      ]
    },
    {
      "cell_type": "markdown",
      "source": [
        "#Example # 2 (Vaccumm Cleaner)"
      ],
      "metadata": {
        "id": "-ODLhBhloGp2"
      }
    },
    {
      "cell_type": "code",
      "source": [
        "\n",
        "\n",
        "class Environment:\n",
        "    def __init__(self, state='Dirty'):\n",
        "        self.state = state\n",
        "\n",
        "    def get_percept(self):\n",
        "        return self.state\n",
        "\n",
        "    def clean_room(self):\n",
        "        self.state = 'Clean'\n",
        "\n",
        "\n",
        "class SimpleReflexAgent:\n",
        "    def __init__(self):\n",
        "        pass\n",
        "\n",
        "    def act(self, percept):\n",
        "        if percept == 'Dirty':\n",
        "            return 'Clean the room'\n",
        "        else:\n",
        "            return 'Room is clean'\n",
        "\n",
        "\n",
        "def run_agent(agent, environment, steps):\n",
        "    for step in range(steps):\n",
        "        percept = environment.get_percept()\n",
        "        action = agent.act(percept)\n",
        "        print(f\"Step {step + 1}: Percept - {percept}, Action - {action}\")\n",
        "        if percept == 'Dirty':\n",
        "            environment.clean_room()\n",
        "\n",
        "\n",
        "# Create instances of agent and environment\n",
        "agent = SimpleReflexAgent()\n",
        "environment = Environment()\n",
        "\n",
        "# Run the agent in the environment for 5 steps\n",
        "run_agent(agent, environment, 5)\n"
      ],
      "metadata": {
        "colab": {
          "base_uri": "https://localhost:8080/"
        },
        "id": "aHJQvDs5osNn",
        "outputId": "26e8d8df-2dad-479a-fcf2-059543fb189b"
      },
      "execution_count": null,
      "outputs": [
        {
          "output_type": "stream",
          "name": "stdout",
          "text": [
            "Step 1: Percept - Dirty, Action - Clean the room\n",
            "Step 2: Percept - Clean, Action - Room is clean\n",
            "Step 3: Percept - Clean, Action - Room is clean\n",
            "Step 4: Percept - Clean, Action - Room is clean\n",
            "Step 5: Percept - Clean, Action - Room is clean\n"
          ]
        }
      ]
    },
    {
      "cell_type": "code",
      "source": [
        "#another method using Inheritance (another logic)\n",
        "\n",
        "class Environment:\n",
        "    def __init__(self, state='Dirty'):\n",
        "        self.state = state\n",
        "\n",
        "    def get_percept(self):\n",
        "        return self.state\n",
        "\n",
        "    def clean_room(self):\n",
        "        self.state = 'Clean'\n",
        "\n",
        "    def run_agent(self, agent, steps):\n",
        "        \"\"\"Simulates the environment interacting with the agent.\"\"\"\n",
        "        for step in range(steps):\n",
        "            percept = self.get_percept()\n",
        "            action = agent.act(percept)\n",
        "            print(f\"Step {step + 1}: Percept - {percept}, Action - {action}\")\n",
        "            if percept == 'Dirty':\n",
        "                self.clean_room()\n",
        "\n",
        "class Agent(Environment):  # Inheriting from Environment\n",
        "    def __init__(self, state='Dirty'):\n",
        "        super().__init__(state)  # Initialize environment state\n",
        "\n",
        "    def act(self, percept):\n",
        "        \"\"\"Define the agent's action based on percept.\"\"\"\n",
        "        if percept == 'Dirty':\n",
        "            return 'Clean the room'\n",
        "        else:\n",
        "            return 'Room is clean'\n",
        "\n",
        "# Create an agent instance (inherits from Environment)\n",
        "agent = Agent()\n",
        "\n",
        "# Run the agent in the environment for 5 steps\n",
        "agent.run_agent(agent, 5)\n"
      ],
      "metadata": {
        "colab": {
          "base_uri": "https://localhost:8080/"
        },
        "id": "WxsNP_DTY2hY",
        "outputId": "2a6f20ef-3ec8-4e91-c726-4d25e9a89706"
      },
      "execution_count": null,
      "outputs": [
        {
          "output_type": "stream",
          "name": "stdout",
          "text": [
            "Step 1: Percept - Dirty, Action - Clean the room\n",
            "Step 2: Percept - Clean, Action - Room is clean\n",
            "Step 3: Percept - Clean, Action - Room is clean\n",
            "Step 4: Percept - Clean, Action - Room is clean\n",
            "Step 5: Percept - Clean, Action - Room is clean\n"
          ]
        }
      ]
    },
    {
      "cell_type": "markdown",
      "source": [
        "#Example 3 Simple Reflex Agent Code Example #3 (2D Grid-Based Vacuum Cleaner Simulation: Smart Cleaning Robot (Reflex Baed))"
      ],
      "metadata": {
        "id": "EpFPBztgV4Ju"
      }
    },
    {
      "cell_type": "code",
      "source": [
        "class SimpleReflexAgent:\n",
        "    def __init__(self):\n",
        "        self.position = 0  # Start at position 0 (top-left corner)\n",
        "\n",
        "    def act(self, percept):\n",
        "        # If the current position is dirty, clean it\n",
        "        if percept == 'Dirty':\n",
        "            return 'Clean the room'\n",
        "        else:\n",
        "            return 'Move to the next room'\n",
        "\n",
        "    def move(self):\n",
        "        # Move to the next position in the grid\n",
        "        if self.position < 8:  # Stay within bounds of the grid\n",
        "            self.position += 1\n",
        "        return self.position\n",
        "\n",
        "\n",
        "class Environment:\n",
        "    def __init__(self):\n",
        "        # Create the environment with a 3x3 grid, where 'Dirty' and 'Clean' states are defined\n",
        "        self.grid = ['Clean', 'Dirty', 'Clean',\n",
        "                     'Clean', 'Dirty', 'Dirty',\n",
        "                     'Clean', 'Clean', 'Clean']\n",
        "\n",
        "    def get_percept(self, position):\n",
        "        # Return the state of the current position\n",
        "        return self.grid[position]\n",
        "\n",
        "    def clean_room(self, position):\n",
        "        # Clean the room at the given position\n",
        "        self.grid[position] = 'Clean'\n",
        "\n",
        "    def display_grid(self, agent_position):\n",
        "        # Display the current state of the grid in a 3x3 format\n",
        "        print(\"\\nCurrent Grid State:\")\n",
        "        grid_with_agent = self.grid[:]  # Copy the grid\n",
        "        grid_with_agent[agent_position] = \"👽\"  # Place the agent at the current position\n",
        "        for i in range(0, 9, 3):\n",
        "            print(\" | \".join(grid_with_agent[i:i + 3]))\n",
        "        print()  # Extra line for spacing\n",
        "\n",
        "\n",
        "def run_agent(agent, environment, steps):\n",
        "    for step in range(steps):\n",
        "        percept = environment.get_percept(agent.position)\n",
        "        action = agent.act(percept)\n",
        "        print(f\"Step {step + 1}: Position {agent.position} -> Percept - {percept}, Action - {action}\")\n",
        "\n",
        "        # If the room is dirty, clean it\n",
        "        if percept == 'Dirty':\n",
        "            environment.clean_room(agent.position)\n",
        "\n",
        "        # Display the grid state with the agent's position\n",
        "        environment.display_grid(agent.position)\n",
        "\n",
        "        # Move to the next position\n",
        "        agent.move()\n",
        "\n",
        "\n",
        "# Create instances of agent and environment\n",
        "agent = SimpleReflexAgent()\n",
        "environment = Environment()\n",
        "\n",
        "# Run the agent in the environment for 9 steps (to cover the 3x3 grid)\n",
        "run_agent(agent, environment, 9)\n"
      ],
      "metadata": {
        "id": "DqU00PMNV5AF"
      },
      "execution_count": null,
      "outputs": []
    },
    {
      "cell_type": "markdown",
      "source": [
        "#**Model Based Reflex Agent**"
      ],
      "metadata": {
        "id": "X_wxejewGck6"
      }
    },
    {
      "cell_type": "markdown",
      "source": [
        "![image.png](data:image/png;base64,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)"
      ],
      "metadata": {
        "id": "HM8_qxBuH8Ql"
      }
    },
    {
      "cell_type": "markdown",
      "source": [
        "#Model Based Agent Code Example #1 (Vacuum Cleaner)"
      ],
      "metadata": {
        "id": "4m_rSeQsrJwp"
      }
    },
    {
      "cell_type": "code",
      "source": [
        "l=[9.9,99]\n",
        "d={'name':'mehak'}\n",
        "d."
      ],
      "metadata": {
        "id": "gAXskPpL5scD"
      },
      "execution_count": null,
      "outputs": []
    },
    {
      "cell_type": "code",
      "source": [
        "class ModelBasedAgent:\n",
        "    def __init__(self):\n",
        "        self.model = {}\n",
        "\n",
        "    def update_model(self, percept):\n",
        "        self.model['current'] = percept\n",
        "        print(self.model)\n",
        "\n",
        "\n",
        "    def predict_action(self):\n",
        "        if self.model['current'] == 'Dirty':\n",
        "            return 'Clean the room'\n",
        "        else:\n",
        "            return 'Room is clean'\n",
        "\n",
        "    def act(self, percept):\n",
        "        self.update_model(percept)\n",
        "        return self.predict_action()\n",
        "\n",
        "\n",
        "class Environment:\n",
        "    def __init__(self, state='Dirty'):\n",
        "        self.state = state\n",
        "\n",
        "    def get_percept(self):\n",
        "        return self.state\n",
        "\n",
        "    def clean_room(self):\n",
        "        self.state = 'Clean'\n",
        "\n",
        "\n",
        "def run_agent(agent, environment, steps):\n",
        "    for step in range(steps):\n",
        "        percept = environment.get_percept()\n",
        "        action = agent.act(percept)\n",
        "        print(f\"Step {step + 1}: Percept - {percept}, Action - {action}\")\n",
        "        if percept == 'Dirty':\n",
        "            environment.clean_room()\n",
        "\n",
        "\n",
        "# Create instances of agent and environment\n",
        "agent = ModelBasedAgent()\n",
        "environment = Environment()\n",
        "\n",
        "# Run the agent in the environment for 5 steps\n",
        "run_agent(agent, environment, 5)\n"
      ],
      "metadata": {
        "id": "BjbHoLo8HXni",
        "colab": {
          "base_uri": "https://localhost:8080/"
        },
        "outputId": "bc26bc1f-5de4-413f-ca83-1511cc8e15a1"
      },
      "execution_count": null,
      "outputs": [
        {
          "output_type": "stream",
          "name": "stdout",
          "text": [
            "{'current': 'Dirty'}\n",
            "Step 1: Percept - Dirty, Action - Clean the room\n",
            "{'current': 'Clean'}\n",
            "Step 2: Percept - Clean, Action - Room is clean\n",
            "{'current': 'Clean'}\n",
            "Step 3: Percept - Clean, Action - Room is clean\n",
            "{'current': 'Clean'}\n",
            "Step 4: Percept - Clean, Action - Room is clean\n",
            "{'current': 'Clean'}\n",
            "Step 5: Percept - Clean, Action - Room is clean\n"
          ]
        }
      ]
    },
    {
      "cell_type": "markdown",
      "source": [
        "#Example 3 Simple Reflex Agent Code Example #3 (2D Grid-Based Vacuum Cleaner Simulation: Smart Cleaning Robot (Model Baed))"
      ],
      "metadata": {
        "id": "VGvXSloudZZh"
      }
    },
    {
      "cell_type": "code",
      "source": [
        "class SimpleReflexAgent:\n",
        "    def __init__(self):\n",
        "        self.position = 0  # Start at position 0 (top-left corner)\n",
        "        self.environment_model = ['Clean', 'Dirty', 'Clean',\n",
        "                                  'Clean', 'Dirty', 'Dirty',\n",
        "                                  'Clean', 'Clean', 'Clean']  # Initial model of the environment\n",
        "\n",
        "    def act(self, percept):\n",
        "        # If the current position is dirty, clean it\n",
        "        if percept == 'Dirty':\n",
        "            self.environment_model[self.position] = 'Clean'  # Clean the environment model\n",
        "            return 'Clean the room'\n",
        "        else:\n",
        "            return 'Room is clean'\n",
        "\n",
        "    def move(self):\n",
        "        # Move to the next position in the grid\n",
        "        if self.position < 8:\n",
        "            self.position += 1\n",
        "        return self.position\n",
        "\n",
        "    def update_model(self, position, percept):\n",
        "        # Update the agent's internal model with the percept\n",
        "        self.environment_model[position] = percept\n",
        "\n",
        "    def get_model(self):\n",
        "        return self.environment_model\n",
        "\n",
        "\n",
        "class Environment:\n",
        "    def __init__(self):\n",
        "        # Create the environment with a 3x3 grid, where 'b', 'e', and 'f' are dirty\n",
        "        self.grid = ['Clean', 'Dirty', 'Clean',\n",
        "                     'Clean', 'Dirty', 'Dirty',\n",
        "                     'Clean', 'Clean', 'Clean']\n",
        "\n",
        "    def get_percept(self, position):\n",
        "        # Return the state of the current position\n",
        "        return self.grid[position]\n",
        "\n",
        "    def clean_room(self, position):\n",
        "        # Clean the room at the given position\n",
        "        self.grid[position] = 'Clean'\n",
        "\n",
        "    def display_grid(self, agent_position):\n",
        "        # Display the current state of the grid in a 3x3 format\n",
        "        print(\"\\nCurrent Grid State:\")\n",
        "        grid_with_agent = self.grid[:]  # Copy the grid\n",
        "        grid_with_agent[agent_position] = \"👽\"  # Place the agent at the current position\n",
        "        for i in range(0, 9, 3):\n",
        "            print(\" | \".join(grid_with_agent[i:i + 3]))\n",
        "        print()  # Extra line for spacing\n",
        "\n",
        "\n",
        "def run_agent(agent, environment, steps):\n",
        "    for step in range(steps):\n",
        "        percept = environment.get_percept(agent.position)\n",
        "        action = agent.act(percept)\n",
        "        print(f\"Step {step + 1}: Position {agent.position} -> Percept - {percept}, Action - {action}\")\n",
        "\n",
        "        # Update agent's internal model based on percept\n",
        "        agent.update_model(agent.position, percept)\n",
        "\n",
        "        # Display the grid state with agent's position\n",
        "        environment.display_grid(agent.position)\n",
        "\n",
        "        if percept == 'Dirty':\n",
        "            environment.clean_room(agent.position)\n",
        "\n",
        "        agent.move()\n",
        "\n",
        "\n",
        "# Create instances of agent and environment\n",
        "agent = SimpleReflexAgent()\n",
        "environment = Environment()\n",
        "\n",
        "# Run the agent in the environment for 9 steps (to cover the 3x3 grid)\n",
        "run_agent(agent, environment, 9)\n"
      ],
      "metadata": {
        "colab": {
          "base_uri": "https://localhost:8080/"
        },
        "id": "SjoE1hJAdXp6",
        "outputId": "52b1d5b0-b9f1-429d-c173-6ed14d29de63"
      },
      "execution_count": null,
      "outputs": [
        {
          "output_type": "stream",
          "name": "stdout",
          "text": [
            "Step 1: Position 0 -> Percept - Clean, Action - Room is clean\n",
            "\n",
            "Current Grid State:\n",
            "👽 | Dirty | Clean\n",
            "Clean | Dirty | Dirty\n",
            "Clean | Clean | Clean\n",
            "\n",
            "Step 2: Position 1 -> Percept - Dirty, Action - Clean the room\n",
            "\n",
            "Current Grid State:\n",
            "Clean | 👽 | Clean\n",
            "Clean | Dirty | Dirty\n",
            "Clean | Clean | Clean\n",
            "\n",
            "Step 3: Position 2 -> Percept - Clean, Action - Room is clean\n",
            "\n",
            "Current Grid State:\n",
            "Clean | Clean | 👽\n",
            "Clean | Dirty | Dirty\n",
            "Clean | Clean | Clean\n",
            "\n",
            "Step 4: Position 3 -> Percept - Clean, Action - Room is clean\n",
            "\n",
            "Current Grid State:\n",
            "Clean | Clean | Clean\n",
            "👽 | Dirty | Dirty\n",
            "Clean | Clean | Clean\n",
            "\n",
            "Step 5: Position 4 -> Percept - Dirty, Action - Clean the room\n",
            "\n",
            "Current Grid State:\n",
            "Clean | Clean | Clean\n",
            "Clean | 👽 | Dirty\n",
            "Clean | Clean | Clean\n",
            "\n",
            "Step 6: Position 5 -> Percept - Dirty, Action - Clean the room\n",
            "\n",
            "Current Grid State:\n",
            "Clean | Clean | Clean\n",
            "Clean | Clean | 👽\n",
            "Clean | Clean | Clean\n",
            "\n",
            "Step 7: Position 6 -> Percept - Clean, Action - Room is clean\n",
            "\n",
            "Current Grid State:\n",
            "Clean | Clean | Clean\n",
            "Clean | Clean | Clean\n",
            "👽 | Clean | Clean\n",
            "\n",
            "Step 8: Position 7 -> Percept - Clean, Action - Room is clean\n",
            "\n",
            "Current Grid State:\n",
            "Clean | Clean | Clean\n",
            "Clean | Clean | Clean\n",
            "Clean | 👽 | Clean\n",
            "\n",
            "Step 9: Position 8 -> Percept - Clean, Action - Room is clean\n",
            "\n",
            "Current Grid State:\n",
            "Clean | Clean | Clean\n",
            "Clean | Clean | Clean\n",
            "Clean | Clean | 👽\n",
            "\n"
          ]
        }
      ]
    },
    {
      "cell_type": "markdown",
      "source": [
        "#3.2.2 Model Based Agent Code Example #2 (Closing Window When it Starts to Rain)"
      ],
      "metadata": {
        "id": "0BnBPx0QeYDt"
      }
    },
    {
      "cell_type": "code",
      "source": [
        "class Environment:\n",
        "    def __init__(self, rain='No', windows_open='Open'):\n",
        "        self.rain = rain\n",
        "        self.windows_open = windows_open\n",
        "\n",
        "    def get_percept(self):\n",
        "        \"\"\"Returns the current percept (rain status and window status).\"\"\"\n",
        "        return {'rain': self.rain, 'windows_open': self.windows_open}\n",
        "\n",
        "    def close_windows(self):\n",
        "        \"\"\"Closes the windows if they are open.\"\"\"\n",
        "        if self.windows_open == 'Open':\n",
        "            self.windows_open = 'Closed'\n",
        "\n",
        "\n",
        "class ModelBasedAgent:\n",
        "    def __init__(self):\n",
        "        self.model = {'rain': 'No', 'windows_open': 'Open'}\n",
        "\n",
        "    def act(self, percept):\n",
        "        \"\"\"Decides action based on the model and current percept.\"\"\"\n",
        "        # Update the model with the current percept\n",
        "        self.model.update(percept)\n",
        "\n",
        "        # Check the model to decide action\n",
        "        if self.model['rain'] == 'Yes' and self.model['windows_open'] == 'Open':\n",
        "            return 'Close the windows'\n",
        "        else:\n",
        "            return 'No action needed'\n",
        "\n",
        "def run_agent(agent, environment, steps):\n",
        "    for step in range(steps):\n",
        "        # Get the current percept from the environment\n",
        "        percept = environment.get_percept()\n",
        "\n",
        "        # Agent makes a decision based on the current percept\n",
        "        action = agent.act(percept)\n",
        "\n",
        "        # Print the current percept and the agent's action\n",
        "        print(f\"Step {step + 1}: Percept - {percept}, Action - {action}\")\n",
        "\n",
        "        # If the agent decided to close the windows, update the environment\n",
        "        if action == 'Close the windows':\n",
        "            environment.close_windows()\n",
        "\n",
        "# Create instances of agent and environment\n",
        "agent = ModelBasedAgent()\n",
        "environment = Environment(rain='Yes', windows_open='Open')  # It's raining and windows are open\n",
        "\n",
        "# Run the agent in the environment for 5 steps\n",
        "run_agent(agent, environment, 5)\n"
      ],
      "metadata": {
        "colab": {
          "base_uri": "https://localhost:8080/"
        },
        "id": "QEzVdkyDeZkZ",
        "outputId": "6514bade-33ec-4bea-c64e-c570972c2af8"
      },
      "execution_count": null,
      "outputs": [
        {
          "output_type": "stream",
          "name": "stdout",
          "text": [
            "Step 1: Percept - {'rain': 'Yes', 'windows_open': 'Open'}, Action - Close the windows\n",
            "Step 2: Percept - {'rain': 'Yes', 'windows_open': 'Closed'}, Action - No action needed\n",
            "Step 3: Percept - {'rain': 'Yes', 'windows_open': 'Closed'}, Action - No action needed\n",
            "Step 4: Percept - {'rain': 'Yes', 'windows_open': 'Closed'}, Action - No action needed\n",
            "Step 5: Percept - {'rain': 'Yes', 'windows_open': 'Closed'}, Action - No action needed\n"
          ]
        }
      ]
    },
    {
      "cell_type": "markdown",
      "source": [
        "#**Goal Based Reflex Agent**"
      ],
      "metadata": {
        "id": "FKHbvcJQHNBu"
      }
    },
    {
      "cell_type": "markdown",
      "source": [
        "![image.png](data:image/png;base64,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)"
      ],
      "metadata": {
        "id": "zAGOKERcIAm3"
      }
    },
    {
      "cell_type": "code",
      "source": [
        "class GoalBasedAgent:\n",
        "    def __init__(self):\n",
        "        self.goal = 'Clean'\n",
        "\n",
        "    def formulate_goal(self, percept):\n",
        "        if percept == 'Dirty':\n",
        "            self.goal = 'Clean'\n",
        "        else:\n",
        "            self.goal = 'No action needed'\n",
        "\n",
        "    def act(self, percept):\n",
        "        self.formulate_goal(percept)\n",
        "        if self.goal == 'Clean':\n",
        "            return 'Clean the room'\n",
        "        else:\n",
        "            return 'Room is clean'\n",
        "\n",
        "\n",
        "class Environment:\n",
        "    def __init__(self, state='Dirty'):\n",
        "        self.state = state\n",
        "\n",
        "    def get_percept(self):\n",
        "        return self.state\n",
        "\n",
        "    def clean_room(self):\n",
        "        self.state = 'Clean'\n",
        "\n",
        "\n",
        "def run_agent(agent, environment, steps):\n",
        "    for step in range(steps):\n",
        "        percept = environment.get_percept()\n",
        "        action = agent.act(percept)\n",
        "        print(f\"Step {step + 1}: Percept - {percept}, Action - {action}\")\n",
        "        if percept == 'Dirty':\n",
        "            environment.clean_room()\n",
        "\n",
        "\n",
        "# Create instances of agent and environment\n",
        "agent = GoalBasedAgent()\n",
        "environment = Environment()\n",
        "\n",
        "# Run the agent in the environment for 5 steps\n",
        "run_agent(agent, environment, 5)\n"
      ],
      "metadata": {
        "id": "AkprvfyrHYFi",
        "colab": {
          "base_uri": "https://localhost:8080/"
        },
        "outputId": "bac28434-ac0d-45a8-9c8b-c9234b49988c"
      },
      "execution_count": null,
      "outputs": [
        {
          "output_type": "stream",
          "name": "stdout",
          "text": [
            "Step 1: Percept - Dirty, Action - Clean the room\n",
            "Step 2: Percept - Clean, Action - Room is clean\n",
            "Step 3: Percept - Clean, Action - Room is clean\n",
            "Step 4: Percept - Clean, Action - Room is clean\n",
            "Step 5: Percept - Clean, Action - Room is clean\n"
          ]
        }
      ]
    },
    {
      "cell_type": "markdown",
      "source": [
        "#**Utility Based Agent**"
      ],
      "metadata": {
        "id": "6YM9mQdyGCkJ"
      }
    },
    {
      "cell_type": "markdown",
      "source": [
        "#3.4.2 Vaccumm Cleaner"
      ],
      "metadata": {
        "id": "8m1oP8VYrwJw"
      }
    },
    {
      "cell_type": "code",
      "source": [
        "class UtilityBasedAgent:\n",
        "    def __init__(self):\n",
        "        self.utility = {'Dirty': -10, 'Clean': 10}\n",
        "\n",
        "    def calculate_utility(self, percept):\n",
        "        return self.utility[percept]\n",
        "\n",
        "    def select_action(self, percept):\n",
        "        if percept == 'Dirty':\n",
        "            return 'Clean the room'\n",
        "        else:\n",
        "            return 'No action needed'\n",
        "\n",
        "    def act(self, percept):\n",
        "        action = self.select_action(percept)\n",
        "        return action\n",
        "\n",
        "\n",
        "class Environment:\n",
        "    def __init__(self, state='Dirty'):\n",
        "        self.state = state\n",
        "\n",
        "    def get_percept(self):\n",
        "        return self.state\n",
        "\n",
        "    def clean_room(self):\n",
        "        self.state = 'Clean'\n",
        "\n",
        "\n",
        "def run_agent(agent, environment, steps):\n",
        "    total_utility = 0\n",
        "    for step in range(steps):\n",
        "        percept = environment.get_percept()\n",
        "        action = agent.act(percept)\n",
        "        utility = agent.calculate_utility(percept)\n",
        "        print(f\"Step {step + 1}: Percept - {percept}, Action - {action}, Utility - {utility}\")\n",
        "        total_utility += utility\n",
        "        if percept == 'Dirty':\n",
        "            environment.clean_room()\n",
        "    print(\"Total Utility:\", total_utility)\n",
        "\n",
        "\n",
        "# Create instances of agent and environment\n",
        "agent = UtilityBasedAgent()\n",
        "environment = Environment()\n",
        "\n",
        "# Run the agent in the environment for 5 steps\n",
        "run_agent(agent, environment, 5)\n"
      ],
      "metadata": {
        "id": "SBCw3kkpGF9i",
        "outputId": "af3736d4-180e-42c7-bb8d-4b182442f64d",
        "colab": {
          "base_uri": "https://localhost:8080/"
        }
      },
      "execution_count": null,
      "outputs": [
        {
          "output_type": "stream",
          "name": "stdout",
          "text": [
            "Step 1: Percept - Dirty, Action - Clean the room, Utility - -10\n",
            "Step 2: Percept - Clean, Action - No action needed, Utility - 10\n",
            "Step 3: Percept - Clean, Action - No action needed, Utility - 10\n",
            "Step 4: Percept - Clean, Action - No action needed, Utility - 10\n",
            "Step 5: Percept - Clean, Action - No action needed, Utility - 10\n",
            "Total Utility: 30\n"
          ]
        }
      ]
    },
    {
      "cell_type": "markdown",
      "source": [
        "#3.4.2 Utility Based Agent Code Example # 2 (Choosing a Movie to Watch)"
      ],
      "metadata": {
        "id": "RHR-rL1jr7pY"
      }
    },
    {
      "cell_type": "code",
      "source": [
        "class Environment:\n",
        "    def __init__(self, movies=None):\n",
        "        if movies is None:\n",
        "            movies = {'Movie A': 8, 'Movie B': 6, 'Movie C': 9}\n",
        "        self.movies = movies\n",
        "\n",
        "    def get_percept(self):\n",
        "        \"\"\"Returns the list of movies and their review scores.\"\"\"\n",
        "        return self.movies\n",
        "\n",
        "\n",
        "class UtilityBasedAgent:\n",
        "    def __init__(self, mood_factor=0.7):\n",
        "        self.mood_factor = mood_factor\n",
        "\n",
        "    def utility(self, review):\n",
        "        \"\"\"Compute utility based on review score and mood factor.\"\"\"\n",
        "        return review * self.mood_factor\n",
        "\n",
        "    def act(self, percept):\n",
        "        \"\"\"Decides which movie to watch based on utility and displays calculations.\"\"\"\n",
        "        best_movie = None\n",
        "        best_utility = -float('inf')\n",
        "\n",
        "        print(\"Utility Calculations:\")\n",
        "        for movie, review in percept.items():\n",
        "            movie_utility = self.utility(review)\n",
        "            print(f\"  {movie}: Review Score = {review}, Utility = {movie_utility:.2f}\")\n",
        "            if movie_utility > best_utility:\n",
        "                best_movie = movie\n",
        "                best_utility = movie_utility\n",
        "\n",
        "        return best_movie\n",
        "\n",
        "\n",
        "def run_agent(agent, environment):\n",
        "    percept = environment.get_percept()\n",
        "    best_choice = agent.act(percept)\n",
        "    print(f\"\\nAvailable Movies: {percept}\")\n",
        "    print(f\"Best Movie to Watch: {best_choice}\")\n",
        "\n",
        "\n",
        "# Create instances of agent and environment\n",
        "agent = UtilityBasedAgent(mood_factor=0.8)\n",
        "environment = Environment({'Movie A': 7, 'Movie B': 9, 'Movie C': 5})\n",
        "\n",
        "# Run the agent in the environment\n",
        "run_agent(agent, environment)\n"
      ],
      "metadata": {
        "colab": {
          "base_uri": "https://localhost:8080/"
        },
        "id": "t4YqrdYXso87",
        "outputId": "aeebde1e-71e9-4a6d-f3ae-3fab21ecb5d5"
      },
      "execution_count": null,
      "outputs": [
        {
          "output_type": "stream",
          "name": "stdout",
          "text": [
            "Utility Calculations:\n",
            "  Movie A: Review Score = 7, Utility = 5.60\n",
            "  Movie B: Review Score = 9, Utility = 7.20\n",
            "  Movie C: Review Score = 5, Utility = 4.00\n",
            "\n",
            "Available Movies: {'Movie A': 7, 'Movie B': 9, 'Movie C': 5}\n",
            "Best Movie to Watch: Movie B\n"
          ]
        }
      ]
    },
    {
      "cell_type": "markdown",
      "source": [
        "#**Learning Agent**"
      ],
      "metadata": {
        "id": "DCWKLuyUHQSD"
      }
    },
    {
      "cell_type": "markdown",
      "source": [
        "![image.png](data:image/png;base64,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)"
      ],
      "metadata": {
        "id": "dLIJCqFsIG83"
      }
    },
    {
      "cell_type": "markdown",
      "source": [
        "![image.png](data:image/png;base64,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)"
      ],
      "metadata": {
        "id": "qAboIqMB3d_r"
      }
    },
    {
      "cell_type": "code",
      "source": [
        "import random\n",
        "\n",
        "class LearningBasedAgent:\n",
        "    def __init__(self, actions):\n",
        "        self.Q = {}\n",
        "        self.actions = actions\n",
        "        self.alpha = 0.1  # Learning rate\n",
        "        self.gamma = 0.9  # Discount factor\n",
        "        self.epsilon = 0.1  # Exploration rate\n",
        "\n",
        "    def get_Q_value(self, state, action):\n",
        "        return self.Q.get((state, action), 0.0)\n",
        "\n",
        "    # def select_action(self, state):\n",
        "    #     if random.uniform(0, 1) < self.epsilon:\n",
        "    #         return random.choice(self.actions)\n",
        "    #     else:\n",
        "    #         return max(self.actions, key=lambda a: self.get_Q_value(state, a))\n",
        "\n",
        "    def learn(self, state, action, reward, next_state):\n",
        "        old_Q = self.get_Q_value(state, action)\n",
        "        best_future_Q = max([self.get_Q_value(next_state, a) for a in self.actions])\n",
        "        self.Q[(state, action)] = old_Q + self.alpha * (reward + self.gamma * best_future_Q - old_Q)\n",
        "\n",
        "    def act(self, state):\n",
        "        action = self.select_action(state)\n",
        "        return action\n",
        "\n",
        "class Environment:\n",
        "    def __init__(self, state='Dirty'):\n",
        "        self.state = state\n",
        "\n",
        "    def get_percept(self):\n",
        "        return self.state\n",
        "\n",
        "    def clean_room(self):\n",
        "        self.state = 'Clean'\n",
        "        return 10\n",
        "\n",
        "    def no_action_reward(self):\n",
        "        return 0\n",
        "\n",
        "def run_agent(agent, environment, steps):\n",
        "    for step in range(steps):\n",
        "        percept = environment.get_percept()\n",
        "        action = agent.act(percept)\n",
        "        if percept == 'Dirty':\n",
        "            reward = environment.clean_room()\n",
        "            print(f\"Step {step + 1}: Percept - {percept}, Action - {action}, Reward - {reward}\")\n",
        "        else:\n",
        "            reward = environment.no_action_reward()\n",
        "            print(f\"Step {step + 1}: Percept - {percept}, Action - {action}, Reward - {reward}\")\n",
        "        next_percept = environment.get_percept()\n",
        "        agent.learn(percept, action, reward, next_percept)\n",
        "\n",
        "\n",
        "# Create instances of agent and environment\n",
        "agent = LearningBasedAgent(['Clean the room', 'No action needed'])\n",
        "environment = Environment()\n",
        "\n",
        "# Run the agent in the environment for 5 steps\n",
        "run_agent(agent, environment, 5)\n"
      ],
      "metadata": {
        "id": "FfDHo19fIGK8"
      },
      "execution_count": null,
      "outputs": []
    },
    {
      "cell_type": "markdown",
      "source": [
        "#============================== TASKS =================="
      ],
      "metadata": {
        "id": "OInoZA7TohX5"
      }
    },
    {
      "cell_type": "markdown",
      "source": [
        "#**Task #1**"
      ],
      "metadata": {
        "id": "cuc6BSIa-Yj8"
      }
    },
    {
      "cell_type": "markdown",
      "source": [
        "A company’s security system consists of nine critical components (A through I). Each component can be either safe or vulnerable due to security flaws. A security agent is responsible for scanning the entire system, identifying vulnerabilities, and patching them to prevent attacks.\n",
        "\n",
        "You are tasked with simulating a cybersecurity exercise using the given environment and agent. Complete the following steps:\n",
        "\n",
        "**Initial System Check:**\n",
        "\n",
        "The system environment is initialized with random vulnerabilities. Display the initial state of the system, showing which components are safe and which are vulnerable.\n",
        "\n",
        "**System Scan:**\n",
        "\n",
        "The security agent scans each component. If a component is vulnerable, the agent logs a warning and adds it to a list for patching. If it is secure, a success message is logged.\n",
        "\n",
        "**Patching Vulnerabilities:**\n",
        "\n",
        "After the scan, the agent patches all vulnerable components, marking them as safe. Display messages indicating which components have been patched.\n",
        "\n",
        "Final System Check:\n",
        "**bold text**\n",
        "Display the system’s final state, confirming that all vulnerabilities have been patched."
      ],
      "metadata": {
        "id": "ocSzlngI-QOW"
      }
    },
    {
      "cell_type": "code",
      "execution_count": null,
      "metadata": {
        "colab": {
          "base_uri": "https://localhost:8080/"
        },
        "id": "yVLMd0jF9X0H",
        "outputId": "fc53af2e-9119-488d-9697-acc9862ed925"
      },
      "outputs": [
        {
          "output_type": "stream",
          "name": "stdout",
          "text": [
            "\n",
            "System Vulnerability Environment:\n",
            "Component A: ❌ Vulnerable\n",
            "Component B: ✅ Safe\n",
            "Component C: ✅ Safe\n",
            "Component D: ✅ Safe\n",
            "Component E: ✅ Safe\n",
            "Component F: ❌ Vulnerable\n",
            "Component G: ❌ Vulnerable\n",
            "Component H: ✅ Safe\n",
            "Component I: ✅ Safe\n",
            "\n",
            "🔍 Scanning for vulnerabilities...\n",
            "⚠️ Vulnerability detected in Component A!\n",
            "✅ Component B is secure.\n",
            "✅ Component C is secure.\n",
            "✅ Component D is secure.\n",
            "✅ Component E is secure.\n",
            "⚠️ Vulnerability detected in Component F!\n",
            "⚠️ Vulnerability detected in Component G!\n",
            "✅ Component H is secure.\n",
            "✅ Component I is secure.\n",
            "\n",
            "Scan complete.\n",
            "\n",
            "🛠 Patching vulnerabilities...\n",
            "✅ Component A has been patched.\n",
            "✅ Component F has been patched.\n",
            "✅ Component G has been patched.\n",
            "\n",
            "All vulnerabilities have been patched.\n",
            "\n",
            "System Vulnerability Environment:\n",
            "Component A: ✅ Safe\n",
            "Component B: ✅ Safe\n",
            "Component C: ✅ Safe\n",
            "Component D: ✅ Safe\n",
            "Component E: ✅ Safe\n",
            "Component F: ✅ Safe\n",
            "Component G: ✅ Safe\n",
            "Component H: ✅ Safe\n",
            "Component I: ✅ Safe\n"
          ]
        }
      ],
      "source": [
        "import random\n",
        "\n",
        "class SystemEnvironment:\n",
        "    def __init__(self):\n",
        "        # Define a grid simulating system components with potential vulnerabilities\n",
        "        self.grid = {\n",
        "            'Component A': random.choice(['Safe', 'Vulnerable']),\n",
        "            'Component B': random.choice(['Safe', 'Vulnerable']),\n",
        "            'Component C': random.choice(['Safe', 'Vulnerable']),\n",
        "            'Component D': random.choice(['Safe', 'Vulnerable']),\n",
        "            'Component E': random.choice(['Safe', 'Vulnerable']),\n",
        "            'Component F': random.choice(['Safe', 'Vulnerable']),\n",
        "            'Component G': random.choice(['Safe', 'Vulnerable']),\n",
        "            'Component H': random.choice(['Safe', 'Vulnerable']),\n",
        "            'Component I': random.choice(['Safe', 'Vulnerable']),\n",
        "        }\n",
        "\n",
        "    def display_environment(self):\n",
        "        \"\"\"Displays the current state of the environment.\"\"\"\n",
        "        print(\"\\nSystem Vulnerability Environment:\")\n",
        "        for component, status in self.grid.items():\n",
        "            vulnerability_status = \"❌ Vulnerable\" if status == \"Vulnerable\" else \"✅ Safe\"\n",
        "            print(f\"{component}: {vulnerability_status}\")\n",
        "\n",
        "class SecurityAgent:\n",
        "    def __init__(self, environment):\n",
        "        self.environment = environment\n",
        "        self.vulnerabilities_found = []\n",
        "\n",
        "    def scan_system(self):\n",
        "        \"\"\"Scans the system for vulnerabilities.\"\"\"\n",
        "        print(\"\\n🔍 Scanning for vulnerabilities...\")\n",
        "        for component, status in self.environment.grid.items():\n",
        "            if status == \"Vulnerable\":\n",
        "                print(f\"⚠️ Vulnerability detected in {component}!\")\n",
        "                self.vulnerabilities_found.append(component)\n",
        "            else:\n",
        "                print(f\"✅ {component} is secure.\")\n",
        "        print(\"\\nScan complete.\")\n",
        "\n",
        "    def patch_vulnerabilities(self):\n",
        "        \"\"\"Patches all detected vulnerabilities.\"\"\"\n",
        "        print(\"\\n🛠 Patching vulnerabilities...\")\n",
        "        for component in self.vulnerabilities_found:\n",
        "            self.environment.grid[component] = \"Safe\"\n",
        "            print(f\"✅ {component} has been patched.\")\n",
        "        self.vulnerabilities_found.clear()\n",
        "        print(\"\\nAll vulnerabilities have been patched.\")\n",
        "\n",
        "# Example usage\n",
        "environment = SystemEnvironment()\n",
        "security_agent = SecurityAgent(environment)\n",
        "\n",
        "# Display initial environment\n",
        "environment.display_environment()\n",
        "\n",
        "# Agent scans for vulnerabilities\n",
        "security_agent.scan_system()\n",
        "\n",
        "# Agent patches the vulnerabilities\n",
        "security_agent.patch_vulnerabilities()\n",
        "\n",
        "# Display the updated environment\n",
        "environment.display_environment()\n"
      ]
    },
    {
      "cell_type": "markdown",
      "source": [
        "#Task 2"
      ],
      "metadata": {
        "id": "91I99i5VAESC"
      }
    },
    {
      "cell_type": "code",
      "source": [
        "import random\n",
        "\n",
        "class ServerEnvironment:\n",
        "    def __init__(self):\n",
        "        self.servers = {\n",
        "            'Server 1': random.choice(['Underloaded', 'Balanced', 'Overloaded']),\n",
        "            'Server 2': random.choice(['Underloaded', 'Balanced', 'Overloaded']),\n",
        "            'Server 3': random.choice(['Underloaded', 'Balanced', 'Overloaded']),\n",
        "            'Server 4': random.choice(['Underloaded', 'Balanced', 'Overloaded']),\n",
        "            'Server 5': random.choice(['Underloaded', 'Balanced', 'Overloaded']),\n",
        "        }\n",
        "\n",
        "    def display_environment(self):\n",
        "        print(\"\\nSystem Load Status:\")\n",
        "        for server, status in self.servers.items():\n",
        "            print(f\"{server}: {status}\")\n",
        "\n",
        "class LoadBalancerAgent:\n",
        "    def __init__(self, environment):\n",
        "        self.environment = environment\n",
        "\n",
        "    def balance_load(self):\n",
        "        print(\"\\nBalancing load across servers...\")\n",
        "        for server, status in self.environment.servers.items():\n",
        "            if status == 'Overloaded':\n",
        "                print(f\"⚠️ {server} is overloaded! Redistributing tasks...\")\n",
        "                self.environment.servers[server] = 'Balanced'\n",
        "            elif status == 'Underloaded':\n",
        "                print(f\"✅ {server} is underloaded, no action needed.\")\n",
        "        print(\"\\nLoad balancing complete.\")\n",
        "\n",
        "# Example usage\n",
        "environment = ServerEnvironment()\n",
        "load_balancer = LoadBalancerAgent(environment)\n",
        "\n",
        "environment.display_environment()\n",
        "load_balancer.balance_load()\n",
        "environment.display_environment()\n"
      ],
      "metadata": {
        "colab": {
          "base_uri": "https://localhost:8080/"
        },
        "id": "kElGzQo-AGF5",
        "outputId": "be80c05c-4b05-4aa9-f6d6-eeee7936be2b"
      },
      "execution_count": null,
      "outputs": [
        {
          "output_type": "stream",
          "name": "stdout",
          "text": [
            "\n",
            "System Load Status:\n",
            "Server 1: Overloaded\n",
            "Server 2: Overloaded\n",
            "Server 3: Overloaded\n",
            "Server 4: Underloaded\n",
            "Server 5: Overloaded\n",
            "\n",
            "Balancing load across servers...\n",
            "⚠️ Server 1 is overloaded! Redistributing tasks...\n",
            "⚠️ Server 2 is overloaded! Redistributing tasks...\n",
            "⚠️ Server 3 is overloaded! Redistributing tasks...\n",
            "✅ Server 4 is underloaded, no action needed.\n",
            "⚠️ Server 5 is overloaded! Redistributing tasks...\n",
            "\n",
            "Load balancing complete.\n",
            "\n",
            "System Load Status:\n",
            "Server 1: Balanced\n",
            "Server 2: Balanced\n",
            "Server 3: Balanced\n",
            "Server 4: Underloaded\n",
            "Server 5: Balanced\n"
          ]
        }
      ]
    },
    {
      "cell_type": "markdown",
      "source": [
        "#Task 3"
      ],
      "metadata": {
        "id": "hfyBDHJhBMyc"
      }
    },
    {
      "cell_type": "markdown",
      "source": [
        "A network of servers has a set of backup tasks that need to be completed regularly. Some backups are successful, while others fail. The Backup Management Agent is responsible for ensuring all failed backups are retried and completed.\n",
        "\n",
        "Task:\n",
        "Create a list of backup tasks with either \"Completed\" or \"Failed\" statuses.\n",
        "The Backup Management Agent scans for failed backups and retries them.\n",
        "After retrying, display the updated task statuses."
      ],
      "metadata": {
        "id": "euDohDTeBPRF"
      }
    },
    {
      "cell_type": "code",
      "source": [
        "import random\n",
        "\n",
        "class BackupEnvironment:\n",
        "    def __init__(self):\n",
        "        self.backups = {\n",
        "            f'Backup Task {i}': random.choice(['Completed', 'Failed']) for i in range(1, 11)\n",
        "        }\n",
        "\n",
        "    def display_backups(self):\n",
        "        print(\"\\nBackup Task Status:\")\n",
        "        for task, status in self.backups.items():\n",
        "            print(f\"{task}: {status}\")\n",
        "\n",
        "class BackupManagementAgent:\n",
        "    def __init__(self, environment):\n",
        "        self.environment = environment\n",
        "\n",
        "    def manage_backups(self):\n",
        "        print(\"\\nManaging backup tasks...\")\n",
        "        for task, status in self.environment.backups.items():\n",
        "            if status == 'Failed':\n",
        "                print(f\"⚠️ {task} failed. Retrying...\")\n",
        "                self.environment.backups[task] = 'Completed'\n",
        "        print(\"\\nBackup management complete.\")\n",
        "\n",
        "# Example usage\n",
        "environment = BackupEnvironment()\n",
        "backup_agent = BackupManagementAgent(environment)\n",
        "\n",
        "environment.display_backups()\n",
        "backup_agent.manage_backups()\n",
        "environment.display_backups()\n"
      ],
      "metadata": {
        "id": "CDDowQhpBOgd"
      },
      "execution_count": null,
      "outputs": []
    },
    {
      "cell_type": "markdown",
      "source": [
        "#Task 4 utility"
      ],
      "metadata": {
        "id": "aLlNZi1nDCk1"
      }
    },
    {
      "cell_type": "markdown",
      "source": [
        "A cybersecurity exercise is being conducted for a company’s security system, which consists of nine critical components (A through I). Each component of the system can either be Safe or have Vulnerabilities of varying severity. The company wants to ensure that its system remains secure, but it only has access to a basic security service that can patch Low Risk Vulnerabilities. High Risk Vulnerabilities require purchasing a premium security service to patch.\n",
        "\n",
        "In this scenario, the goal is to simulate how a Utility-Based Security Agent scans and patches the system based on the vulnerabilities detected and the available resources (limited patching service).\n",
        "\n",
        "**Initial System Check:**\n",
        "\n",
        "Initialize the system environment with random vulnerabilities (Safe, Low Risk Vulnerable, and High Risk Vulnerable).\n",
        "Display the initial state of the system, showing which components are Safe and which have Vulnerabilities.\n",
        "\n",
        "**System Scan:**\n",
        "\n",
        "The security agent will scan each component.\n",
        "If a component is Vulnerable, the agent logs a warning.\n",
        "If it is Safe, a success message is logged.\n",
        "\n",
        "**Patching Vulnerabilities:**\n",
        "\n",
        "The agent will patch all Low Risk Vulnerabilities.\n",
        "The agent will log a message for High Risk Vulnerabilities indicating the need for premium service to patch them.\n",
        "\n",
        "**Final System Check:**\n",
        "\n",
        "Display the system’s final state to confirm that all Low Risk Vulnerabilities have been patched.\n",
        "The High Risk Vulnerabilities will remain unresolved unless the premium service is purchased."
      ],
      "metadata": {
        "id": "f7ZQ46Z5DfB8"
      }
    },
    {
      "cell_type": "code",
      "source": [
        "import random\n",
        "\n",
        "class SystemEnvironment:\n",
        "    def __init__(self):\n",
        "        # Define a grid simulating system components with different vulnerabilities\n",
        "        self.grid = {\n",
        "            'Component A': random.choice(['Safe', 'Low Risk Vulnerable', 'High Risk Vulnerable']),\n",
        "            'Component B': random.choice(['Safe', 'Low Risk Vulnerable', 'High Risk Vulnerable']),\n",
        "            'Component C': random.choice(['Safe', 'Low Risk Vulnerable', 'High Risk Vulnerable']),\n",
        "            'Component D': random.choice(['Safe', 'Low Risk Vulnerable', 'High Risk Vulnerable']),\n",
        "            'Component E': random.choice(['Safe', 'Low Risk Vulnerable', 'High Risk Vulnerable']),\n",
        "            'Component F': random.choice(['Safe', 'Low Risk Vulnerable', 'High Risk Vulnerable']),\n",
        "            'Component G': random.choice(['Safe', 'Low Risk Vulnerable', 'High Risk Vulnerable']),\n",
        "            'Component H': random.choice(['Safe', 'Low Risk Vulnerable', 'High Risk Vulnerable']),\n",
        "            'Component I': random.choice(['Safe', 'Low Risk Vulnerable', 'High Risk Vulnerable']),\n",
        "        }\n",
        "\n",
        "    def display_environment(self):\n",
        "        \"\"\"Displays the current state of the environment.\"\"\"\n",
        "        print(\"\\nSystem Vulnerability Environment:\")\n",
        "        for component, status in self.grid.items():\n",
        "            vulnerability_status = f\"🔒 {status}\" if status != 'Safe' else \"✅ Safe\"\n",
        "            print(f\"{component}: {vulnerability_status}\")\n",
        "\n",
        "class SecurityAgent:\n",
        "    def __init__(self, environment):\n",
        "        self.environment = environment\n",
        "        self.vulnerabilities_found = []\n",
        "\n",
        "    def utility(self):\n",
        "        \"\"\"Calculates utility as the sum of vulnerabilities' importance in the system.\"\"\"\n",
        "        utility_value = 0\n",
        "        for status in self.environment.grid.values():\n",
        "            if status == 'Low Risk Vulnerable':\n",
        "                utility_value += 1  # Low risk vulnerabilities can be patched (utility = 1)\n",
        "            elif status == 'High Risk Vulnerable':\n",
        "                utility_value += 3  # High risk vulnerabilities (requires premium service)\n",
        "        return utility_value\n",
        "\n",
        "    def scan_system(self):\n",
        "        \"\"\"Scans the system for vulnerabilities and calculates utility.\"\"\"\n",
        "        print(\"\\n🔍 Scanning for vulnerabilities...\")\n",
        "        for component, status in self.environment.grid.items():\n",
        "            if status == 'Low Risk Vulnerable':\n",
        "                print(f\"⚠️ Low Risk Vulnerability detected in {component}!\")\n",
        "                self.vulnerabilities_found.append(component)\n",
        "            elif status == 'High Risk Vulnerable':\n",
        "                print(f\"⚠️ High Risk Vulnerability detected in {component}. You need to purchase premium service to patch.\")\n",
        "            else:\n",
        "                print(f\"✅ {component} is secure.\")\n",
        "        print(\"\\nScan complete.\")\n",
        "\n",
        "    def patch_vulnerabilities(self):\n",
        "        \"\"\"Patches only low-risk vulnerabilities.\"\"\"\n",
        "        print(\"\\n🛠 Patching vulnerabilities...\")\n",
        "        for component in self.vulnerabilities_found:\n",
        "            self.environment.grid[component] = 'Safe'\n",
        "            print(f\"✅ {component} has been patched (Low Risk).\")\n",
        "        self.vulnerabilities_found.clear()\n",
        "\n",
        "    def take_action(self):\n",
        "        \"\"\"Decides whether to scan or patch based on the utility of actions.\"\"\"\n",
        "        print(\"\\nEvaluating system security...\")\n",
        "        current_utility = self.utility()\n",
        "        if current_utility > 0:\n",
        "            print(f\"Utility is {current_utility}. Vulnerabilities found. Taking action...\")\n",
        "            self.scan_system()  # Scan first\n",
        "            self.patch_vulnerabilities()  # Patch Low Risk Vulnerabilities\n",
        "        else:\n",
        "            print(\"✅ No vulnerabilities detected. System is secure.\")\n",
        "\n",
        "# Example usage\n",
        "environment = SystemEnvironment()\n",
        "security_agent = SecurityAgent(environment)\n",
        "\n",
        "# Initial system check\n",
        "print(\"\\n--- Initial System Check ---\")\n",
        "environment.display_environment()\n",
        "\n",
        "# Agent evaluates the system and takes actions based on utility\n",
        "security_agent.take_action()\n",
        "\n",
        "# Final system check\n",
        "print(\"\\n--- Final System Check ---\")\n",
        "environment.display_environment()\n"
      ],
      "metadata": {
        "colab": {
          "base_uri": "https://localhost:8080/"
        },
        "id": "_4R8hBXIDflD",
        "outputId": "05eb2df6-290c-4367-cd7c-ce3ec85a274e"
      },
      "execution_count": null,
      "outputs": [
        {
          "output_type": "stream",
          "name": "stdout",
          "text": [
            "\n",
            "--- Initial System Check ---\n",
            "\n",
            "System Vulnerability Environment:\n",
            "Component A: 🔒 High Risk Vulnerable\n",
            "Component B: ✅ Safe\n",
            "Component C: 🔒 Low Risk Vulnerable\n",
            "Component D: ✅ Safe\n",
            "Component E: ✅ Safe\n",
            "Component F: 🔒 High Risk Vulnerable\n",
            "Component G: 🔒 High Risk Vulnerable\n",
            "Component H: 🔒 Low Risk Vulnerable\n",
            "Component I: 🔒 High Risk Vulnerable\n",
            "\n",
            "Evaluating system security...\n",
            "Utility is 14. Vulnerabilities found. Taking action...\n",
            "\n",
            "🔍 Scanning for vulnerabilities...\n",
            "⚠️ High Risk Vulnerability detected in Component A. You need to purchase premium service to patch.\n",
            "✅ Component B is secure.\n",
            "⚠️ Low Risk Vulnerability detected in Component C!\n",
            "✅ Component D is secure.\n",
            "✅ Component E is secure.\n",
            "⚠️ High Risk Vulnerability detected in Component F. You need to purchase premium service to patch.\n",
            "⚠️ High Risk Vulnerability detected in Component G. You need to purchase premium service to patch.\n",
            "⚠️ Low Risk Vulnerability detected in Component H!\n",
            "⚠️ High Risk Vulnerability detected in Component I. You need to purchase premium service to patch.\n",
            "\n",
            "Scan complete.\n",
            "\n",
            "🛠 Patching vulnerabilities...\n",
            "✅ Component C has been patched (Low Risk).\n",
            "✅ Component H has been patched (Low Risk).\n",
            "\n",
            "--- Final System Check ---\n",
            "\n",
            "System Vulnerability Environment:\n",
            "Component A: 🔒 High Risk Vulnerable\n",
            "Component B: ✅ Safe\n",
            "Component C: ✅ Safe\n",
            "Component D: ✅ Safe\n",
            "Component E: ✅ Safe\n",
            "Component F: 🔒 High Risk Vulnerable\n",
            "Component G: 🔒 High Risk Vulnerable\n",
            "Component H: ✅ Safe\n",
            "Component I: 🔒 High Risk Vulnerable\n"
          ]
        }
      ]
    },
    {
      "cell_type": "markdown",
      "source": [
        "#Task 5"
      ],
      "metadata": {
        "id": "9SLGdZoUF39f"
      }
    },
    {
      "cell_type": "markdown",
      "source": [
        "In a hospital, a delivery robot is tasked with delivering medicines to patients, assisting nurses, and performing other related activities in an efficient manner. The goal of the robot is to automatically move through hospital corridors, pick up medicines, deliver them to the correct patient rooms, and perform various tasks such as scanning patient IDs or alerting staff.\n",
        "\n",
        "**Components:**\n",
        "**Agent:** The hospital delivery robot, which can move around, interact with patient rooms, pick up medicines, deliver them, and alert nurses or doctors when needed.\n",
        "\n",
        "**Environment:** The hospital layout, including:\n",
        "Corridors\n",
        "Patient rooms\n",
        "Nurse stations\n",
        "Medicine storage areas\n",
        "\n",
        "**Actions:**\n",
        "Move to a location (room, station, etc.).\n",
        "Pick up medicine from storage.\n",
        "Deliver medicine to the patient’s room.\n",
        "Scan patient ID for verification.\n",
        "Alert staff for critical situations.\n",
        "\n",
        "**Perceptions:**\n",
        "Room numbers (where the robot should deliver the medicine).\n",
        "Patient schedules (timing for when patients need their medicines).\n",
        "Medicine type (specific medicines to be delivered to patients).\n",
        "Staff availability (alerts if staff assistance is needed).\n",
        "\n",
        "**Goal-Based Agent Approach:**\n",
        "\n",
        "**Goal:** Deliver medicine to patients based on a schedule and room number, while ensuring all deliveries are correctly made. The robot must scan the patient's ID before delivering and alert nurses or doctors if needed.\n"
      ],
      "metadata": {
        "id": "rulEN0T4GYqm"
      }
    },
    {
      "cell_type": "code",
      "source": [
        "import random\n",
        "import time\n",
        "\n",
        "class HospitalEnvironment:\n",
        "    def __init__(self):\n",
        "        self.rooms = {\n",
        "            'Room 101': {'medicine': 'Painkiller', 'scheduled_time': '08:00 AM'},\n",
        "            'Room 102': {'medicine': 'Antibiotics', 'scheduled_time': '09:00 AM'},\n",
        "            'Room 103': {'medicine': 'Insulin', 'scheduled_time': '10:00 AM'},\n",
        "            'Room 104': {'medicine': 'Cough Syrup', 'scheduled_time': '11:00 AM'},\n",
        "            'Room 105': {'medicine': 'Vitamins', 'scheduled_time': '12:00 PM'}\n",
        "        }\n",
        "        self.medicine_storage = {\n",
        "            'Painkiller': True,\n",
        "            'Antibiotics': True,\n",
        "            'Insulin': True,\n",
        "            'Cough Syrup': True,\n",
        "            'Vitamins': True\n",
        "        }\n",
        "\n",
        "    def get_room_info(self, room_number):\n",
        "        \"\"\"Returns information about the room, including medicine and scheduled time.\"\"\"\n",
        "        return self.rooms.get(room_number)\n",
        "\n",
        "    def update_medicine_stock(self, medicine):\n",
        "        \"\"\"Reduces the stock after medicine is delivered.\"\"\"\n",
        "        if self.medicine_storage.get(medicine):\n",
        "            self.medicine_storage[medicine] = False  # Mark medicine as delivered\n",
        "            print(f\"✅ {medicine} has been delivered.\")\n",
        "        else:\n",
        "            print(f\"⚠️ {medicine} is out of stock or already delivered.\")\n",
        "\n",
        "class HospitalRobot:\n",
        "    def __init__(self, environment):\n",
        "        self.environment = environment\n",
        "        self.current_room = None\n",
        "\n",
        "    def move_to_room(self, room_number):\n",
        "        \"\"\"Simulates moving to a room.\"\"\"\n",
        "        print(f\"🚗 Moving to {room_number}...\")\n",
        "        time.sleep(1)  # Simulate time taken to move\n",
        "        self.current_room = room_number\n",
        "        print(f\"✅ Arrived at {room_number}.\")\n",
        "\n",
        "    def pick_up_medicine(self, medicine):\n",
        "        \"\"\"Simulates picking up medicine from storage.\"\"\"\n",
        "        if self.environment.medicine_storage.get(medicine):\n",
        "            print(f\"🧑‍⚕️ Picking up {medicine} from storage...\")\n",
        "            time.sleep(1)\n",
        "            return medicine\n",
        "        else:\n",
        "            print(f\"⚠️ {medicine} is not available.\")\n",
        "            return None\n",
        "\n",
        "    def scan_patient_id(self):\n",
        "        \"\"\"Simulate scanning the patient's ID for verification.\"\"\"\n",
        "        print(\"🔒 Scanning patient ID...\")\n",
        "        time.sleep(1)\n",
        "        print(\"✅ Patient ID verified.\")\n",
        "\n",
        "    def deliver_medicine(self, medicine, room_number):\n",
        "        \"\"\"Deliver the medicine to the correct room after scanning.\"\"\"\n",
        "        room_info = self.environment.get_room_info(room_number)\n",
        "        if room_info:\n",
        "            print(f\"🧑‍⚕️ Delivering {medicine} to {room_number} at {room_info['scheduled_time']}.\")\n",
        "            self.environment.update_medicine_stock(medicine)\n",
        "            print(f\"✅ {medicine} delivered to {room_number}.\")\n",
        "        else:\n",
        "            print(f\"⚠️ Room {room_number} not found.\")\n",
        "\n",
        "    def alert_staff(self):\n",
        "        \"\"\"Simulate alerting staff if needed (e.g., for emergencies or after completing deliveries).\"\"\"\n",
        "        print(\"📢 Alerting staff...\")\n",
        "        time.sleep(1)\n",
        "        print(\"✅ Staff has been alerted.\")\n",
        "\n",
        "    def complete_task(self):\n",
        "        \"\"\"Complete the task of delivering medicine to a room.\"\"\"\n",
        "        print(\"\\n⚙️ Task Start\")\n",
        "\n",
        "        for room_number, info in self.environment.rooms.items():\n",
        "            print(f\"\\n📝 Delivering medicine to {room_number}...\")\n",
        "            self.move_to_room(room_number)\n",
        "            medicine = self.pick_up_medicine(info['medicine'])\n",
        "            if medicine:\n",
        "                self.scan_patient_id()\n",
        "                self.deliver_medicine(medicine, room_number)\n",
        "            else:\n",
        "                print(f\"❌ Could not deliver {info['medicine']} to {room_number}.\")\n",
        "\n",
        "        print(\"\\n✅ All deliveries complete!\")\n",
        "        self.alert_staff()\n",
        "\n",
        "# Example usage:\n",
        "hospital_environment = HospitalEnvironment()\n",
        "robot = HospitalRobot(hospital_environment)\n",
        "\n",
        "# Robot starts its task of delivering medicines\n",
        "robot.complete_task()\n"
      ],
      "metadata": {
        "colab": {
          "base_uri": "https://localhost:8080/"
        },
        "id": "WiaVLxpsF5lm",
        "outputId": "bed09483-bac2-4d59-a53e-96f4752ef4fc"
      },
      "execution_count": null,
      "outputs": [
        {
          "output_type": "stream",
          "name": "stdout",
          "text": [
            "\n",
            "⚙️ Task Start\n",
            "\n",
            "📝 Delivering medicine to Room 101...\n",
            "🚗 Moving to Room 101...\n",
            "✅ Arrived at Room 101.\n",
            "🧑‍⚕️ Picking up Painkiller from storage...\n",
            "🔒 Scanning patient ID...\n",
            "✅ Patient ID verified.\n",
            "🧑‍⚕️ Delivering Painkiller to Room 101 at 08:00 AM.\n",
            "✅ Painkiller has been delivered.\n",
            "✅ Painkiller delivered to Room 101.\n",
            "\n",
            "📝 Delivering medicine to Room 102...\n",
            "🚗 Moving to Room 102...\n",
            "✅ Arrived at Room 102.\n",
            "🧑‍⚕️ Picking up Antibiotics from storage...\n",
            "🔒 Scanning patient ID...\n",
            "✅ Patient ID verified.\n",
            "🧑‍⚕️ Delivering Antibiotics to Room 102 at 09:00 AM.\n",
            "✅ Antibiotics has been delivered.\n",
            "✅ Antibiotics delivered to Room 102.\n",
            "\n",
            "📝 Delivering medicine to Room 103...\n",
            "🚗 Moving to Room 103...\n",
            "✅ Arrived at Room 103.\n",
            "🧑‍⚕️ Picking up Insulin from storage...\n",
            "🔒 Scanning patient ID...\n",
            "✅ Patient ID verified.\n",
            "🧑‍⚕️ Delivering Insulin to Room 103 at 10:00 AM.\n",
            "✅ Insulin has been delivered.\n",
            "✅ Insulin delivered to Room 103.\n",
            "\n",
            "📝 Delivering medicine to Room 104...\n",
            "🚗 Moving to Room 104...\n",
            "✅ Arrived at Room 104.\n",
            "🧑‍⚕️ Picking up Cough Syrup from storage...\n",
            "🔒 Scanning patient ID...\n",
            "✅ Patient ID verified.\n",
            "🧑‍⚕️ Delivering Cough Syrup to Room 104 at 11:00 AM.\n",
            "✅ Cough Syrup has been delivered.\n",
            "✅ Cough Syrup delivered to Room 104.\n",
            "\n",
            "📝 Delivering medicine to Room 105...\n",
            "🚗 Moving to Room 105...\n",
            "✅ Arrived at Room 105.\n",
            "🧑‍⚕️ Picking up Vitamins from storage...\n",
            "🔒 Scanning patient ID...\n",
            "✅ Patient ID verified.\n",
            "🧑‍⚕️ Delivering Vitamins to Room 105 at 12:00 PM.\n",
            "✅ Vitamins has been delivered.\n",
            "✅ Vitamins delivered to Room 105.\n",
            "\n",
            "✅ All deliveries complete!\n",
            "📢 Alerting staff...\n",
            "✅ Staff has been alerted.\n"
          ]
        }
      ]
    },
    {
      "cell_type": "markdown",
      "source": [
        "#Task 6"
      ],
      "metadata": {
        "id": "UP_dOZIFOmKI"
      }
    },
    {
      "cell_type": "code",
      "source": [
        "class FirefightingEnvironment:\n",
        "    def __init__(self):\n",
        "        # Define the 3x3 grid with locations labeled\n",
        "        self.grid = {\n",
        "            'a': None, 'b': None, 'c': 'Fire',\n",
        "            'd': None, 'e': 'Fire', 'f': None,\n",
        "            'g': None, 'h': None, 'j': 'Fire'\n",
        "        }\n",
        "        self.robot_position = 'a'  # Start position of the robot\n",
        "        self.path = ['a', 'b', 'c', 'd', 'e', 'f', 'g', 'h', 'j']  # Path from 'a' to 'j'\n",
        "\n",
        "    def display_environment(self):\n",
        "        \"\"\"Displays the current state of the environment.\"\"\"\n",
        "        print(\"\\nEnvironment Grid:\")\n",
        "        for i, key in enumerate(self.grid.keys(), 1):\n",
        "            status = \"🔥\" if self.grid[key] == \"Fire\" else \" \"\n",
        "            end_char = \"\\n\" if i % 3 == 0 else \" | \"\n",
        "            print(f\"{key} ({status})\", end=end_char)\n",
        "        print(\"\\n\")\n",
        "\n",
        "    def move_robot(self):\n",
        "        \"\"\"Moves the robot from 'a' to 'j', checking for fire at each location.\"\"\"\n",
        "        print(\"🚗 Robot starting at 'a' and moving towards 'j'...\\n\")\n",
        "        for position in self.path:\n",
        "            self.robot_position = position\n",
        "            print(f\"Robot moved to {position}.\")\n",
        "            self.sense_fire()\n",
        "\n",
        "    def sense_fire(self):\n",
        "        \"\"\"Checks if the robot is at a fire location.\"\"\"\n",
        "        if self.grid[self.robot_position] == \"Fire\":\n",
        "            print(f\"🔥 Fire detected at {self.robot_position}! Extinguishing...\")\n",
        "            self.extinguish_fire()\n",
        "        else:\n",
        "            print(f\"✅ No fire detected at {self.robot_position}.\")\n",
        "\n",
        "    def extinguish_fire(self):\n",
        "        \"\"\"Extinguishes fire at the current location.\"\"\"\n",
        "        self.grid[self.robot_position] = None\n",
        "        print(f\"✅ Fire at {self.robot_position} has been extinguished.\\n\")\n",
        "\n",
        "# Example usage\n",
        "env = FirefightingEnvironment()\n",
        "env.display_environment()\n",
        "env.move_robot()\n",
        "env.display_environment()\n"
      ],
      "metadata": {
        "colab": {
          "base_uri": "https://localhost:8080/"
        },
        "id": "rC4Ll5coOngY",
        "outputId": "51757544-339e-49ec-8e5e-07a0b7aae1b6"
      },
      "execution_count": null,
      "outputs": [
        {
          "output_type": "stream",
          "name": "stdout",
          "text": [
            "\n",
            "Environment Grid:\n",
            "a ( ) | b ( ) | c (🔥)\n",
            "d ( ) | e (🔥) | f ( )\n",
            "g ( ) | h ( ) | j (🔥)\n",
            "\n",
            "\n",
            "🚗 Robot starting at 'a' and moving towards 'j'...\n",
            "\n",
            "Robot moved to a.\n",
            "✅ No fire detected at a.\n",
            "Robot moved to b.\n",
            "✅ No fire detected at b.\n",
            "Robot moved to c.\n",
            "🔥 Fire detected at c! Extinguishing...\n",
            "✅ Fire at c has been extinguished.\n",
            "\n",
            "Robot moved to d.\n",
            "✅ No fire detected at d.\n",
            "Robot moved to e.\n",
            "🔥 Fire detected at e! Extinguishing...\n",
            "✅ Fire at e has been extinguished.\n",
            "\n",
            "Robot moved to f.\n",
            "✅ No fire detected at f.\n",
            "Robot moved to g.\n",
            "✅ No fire detected at g.\n",
            "Robot moved to h.\n",
            "✅ No fire detected at h.\n",
            "Robot moved to j.\n",
            "🔥 Fire detected at j! Extinguishing...\n",
            "✅ Fire at j has been extinguished.\n",
            "\n",
            "\n",
            "Environment Grid:\n",
            "a ( ) | b ( ) | c ( )\n",
            "d ( ) | e ( ) | f ( )\n",
            "g ( ) | h ( ) | j ( )\n",
            "\n",
            "\n"
          ]
        }
      ]
    },
    {
      "cell_type": "code",
      "source": [
        "l=[1,2,3,4,5]\n",
        "type(l)"
      ],
      "metadata": {
        "colab": {
          "base_uri": "https://localhost:8080/"
        },
        "id": "DqTqE1_lhuZ7",
        "outputId": "47bbd33e-dc14-438f-b6e5-43f7218cf8eb"
      },
      "execution_count": null,
      "outputs": [
        {
          "output_type": "execute_result",
          "data": {
            "text/plain": [
              "list"
            ]
          },
          "metadata": {},
          "execution_count": 1
        }
      ]
    },
    {
      "cell_type": "code",
      "source": [],
      "metadata": {
        "id": "O4xItxfQhzCB"
      },
      "execution_count": null,
      "outputs": []
    }
  ]
}
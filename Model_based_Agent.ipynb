{
  "nbformat": 4,
  "nbformat_minor": 0,
  "metadata": {
    "colab": {
      "provenance": []
    },
    "kernelspec": {
      "name": "python3",
      "display_name": "Python 3"
    },
    "language_info": {
      "name": "python"
    }
  },
  "cells": [
    {
      "cell_type": "code",
      "execution_count": null,
      "metadata": {
        "id": "V7uMK9fYF4VZ"
      },
      "outputs": [],
      "source": []
    },
    {
      "cell_type": "markdown",
      "source": [
        "#**Model Based Reflex Agent**"
      ],
      "metadata": {
        "id": "X_wxejewGck6"
      }
    },
    {
      "cell_type": "markdown",
      "source": [
        "![image.png](data:image/png;base64,iVBORw0KGgoAAAANSUhEUgAAAfcAAAFcCAIAAABazGBdAAAgAElEQVR4Ae2dcUwVx9r/J8IhSLIYItRcURtNIYq2Whq9oUXFYItRuTR4YyUYvZirlxTvrWL6k7feXmheJYRQtA0lpEKwghYSqaKQnCuUl+aIYiGgINQjFvSk1mhqStM0/MEf52fv8/6ezG93zzJnzzl7dg+PIWbO7OzM7Hee+eyzs7MzzE3/SAFSgBQgBUJXARa6l0ZXRgqQAqQAKeAmypMRkAKkACkQygoQ5UO5denaSAFSgBQgypMNkAKkACkQygoQ5UO5denaSAFSgBQgypMNkAKkACkQygoQ5UO5denaSAFSgBQgypMNkAKkACkQygoQ5UO5denaSAFSgBQgypMNkAKkACkQygoQ5UO5denaSAFSgBQgypMNkAKkACkQygoQ5UO5denaSAFSgBQgypMNkAKkACkQygoQ5UO5denaSAFSgBQgypMNkAKkACkQygoQ5UO5denaSIHZqcDw8HB1dXV+fn5ycrJk/X8JiS/l5OSUlpY6HA4dDUqU1yEanUIKkAImVWBqaio/P9/6YPd4BWlpaS6Xyyv1ifJeyUWJSQFSwLwKDA8Pg/M+P27+ztwdJypLrnRdcE06rf5nv9ZaVVe5vyBvYfxCSZIWLY5vamoSbwaivLhWlJIUIAXMq8DU1NTKVSskSXpjw+vdfXark121/gP3erZu3yJJ0gtxscPDw4KNQZQXFIqSkQKkgKkVgIGaNza8rsrHUIrcX5AnSVJycvLU1JRIkxDlRVSiNKQAKWBqBW7evClJ0vy4+aHqxfN3qbEnQ0nLEyVJOnnypEirGE35mzdvOhyO0v/8y8nJ2bp9S0LiSx5fNNABUmDWK7BocfzW7Vu2bt8Cveby5csOh0PQiRNBQGikOXnypCRJu/NyeBqGcLiqrlKSpJycHJHmM4LyU1NTTU1N+fn5ixbHz/o+SwKQAv5RICcnp7a29unTpyL9POTT5OTkSJJUVVcZwmTnL627zw6DNiItG1jKNzY2gvpo12teeyUrO7Oo+EhR8ZEvW8+02M/3jnTztacwKUAK8AoM3OtpsZ9vsZ+HXrMzd8cbG17HDgUvG6urqycnJ0U6fKimgSEB+7VWXrrQDs+Pmy9JkkiDBoryly9f5m3xjQ2vn6gsmQ1DZqFtWHR1JlFg4F5PVV1lVnYmdHVJkhISX6qurhbp8yGZBm57JmkdY6oBlyzSmv6nvMPhSEtLgxosS1haVVc5cK/HmMumUkiB2abA2JOh+uYa9KhWrlpx+fJlkZ4fYmmI8hoN6k/KT05O4vjMwviFJypLxp4MzbZeR9dLCgRFgfrmGph3IUmSjs8jNRhhiUNEeY1m8hvlXS4XfnV2uOjgiKs/KLZOhZICs1mBE5UlyxKWwgDOzZs3NXp+iB0iyms0qH8of/PmTZg/k7Q8kQbfZzNl6NqDrsCIqz89YxN8HtnY2KjR+UPpEFFeozX9QPmmpqYX4mIlSUrP2EQufNA7OVWAFBh7MgSfR0qSdPToUY3+HzKHiPIaTekr5ZuamkDf3Xk5NApPfCEFzKNARVUp9M333ntPAwGhcYgor9GOPlHe4XCAF19UfMQ8xk01IQVIAVDgy9YzMNUy5CdZEuUDQnmXywVj8fsL8qhTkQKkgDkVgE/hJUnq7OzUAIHVDxHlNVpQpy8/OTkJM2rSMzbRQI05uzfVihQABd49dAAWJXc6nRossPQhorxG8+mkfFZ2piRJScsT6XUroYQUML8CsCj5ylUrQnWZM6K8nyl/+fLl2bPIp/k7MNWQFJhRgRFX/5rXXnk+vVI5QF9YWMgU/9LS0qz1DS1R3s+Uh8+p6Y3rjF2LEpAC5lGgvrkGvpZSLmN59uxZxlhycvJvv/3mdrvr6uoYYxEREUH/rsrhcAhufUeU9yflwZFflrCUhuPN04GpJqSAiAIpqetUZ9A7HA6e8uPj4zExMYwxQcJq8MWXQ9PT05mZmYJ1IMprSO3duPzU1BQ48icqS0SsitLoVqCo+MjhooP4N/ygzzXpLCk7hjEQMCY+KzszJXUd/wcr0BkfD0MLulWd5Sfar7XCN7Eyd56n/PT0NIzhREREOByOzMxM8OsdDsd7773HGMvLywOgnD17Fm4GERERZ8+eRcpgfNLyRH7YB+MxPRbU2NiYlpbGGNudlwPPEydPnoTMocUhf7vdDpFJyxPTMzZBSiiXKI/6KwPeUb62thZeupIjH1BeKIZJ2fWhLtekc9HieNmh2RZPlPfR8GDehOyDWKA8b1ppaWm4eTSwOC8vz+l0pqWlZWVn/vbbb3V1dREREQBxu92Ojj+M9pw9exY8cRz2UU0/PT2dn5/PGIM8Ozs7Y2JioqLmwk0IskJfHp4w4KfL5crMzOTvVUR5JdwxxjvKw5v6mi8+9dHU6HRtBaC/8W67MT67p2eFSx3NzW0N/B/c5o2PJ8prW86MR8GdX7Q4HhHgdrt5X56Ph7CMtm63e2pqasmLS/i7ApAa4hHTz/f+BMp7Su92u+EWgiiHn8XFxfh6AA9hJrvzcvAOhLUlyqMUyoAXlJ+cnISpNTR7csa+5GMCYpknAUkZT8qIx8NkG4fDgTjwlvLgViPNMR9v44Hy6O8j9FUpD3cjHMbBgSMonSiPraAMeEH5xsZGSZK2bt8ibk+UUp8CxDJPupEynpQRjz9cdPD5TnJAUiCCPsrzdIZ8wN1WxgP9lfHeUt7tdk9PT8PovCw3orwS7hjjBeXz8vIkSaqoKhW3J0qpTwFimSfdSBlPyojHt9jPS5K0ctUKpACMyURFzVWdOqkcsUGnGyZfTk9PV1dXwxg9DLnw8ZCnMp5PD7cc2aMA3HvwbuRwOPLy8uCN69mzZ4nycGPDRtQIiFJ+amoKFiajzbjFuxOlJAXMqQDsNAILHgB/4fbJGEOqguMMc2zgKE6oh0NHjx6FeH4uzfT0NE6Pwbk0GukLCwsjIiKKi4thKAbn2MDoP87wOXv27Pj4+OXLlzEGx+uBbuTL+4HyN2/ehN3izWm1VCtSgBQQV2B3Xo7qd7AapAjQIaC86jOEVyUS5TXkEvXlYVCelp8U70i+pKRxCU/qwZx9T0cpXlABWHpeNp9SAxOBO0SUF2wyZTL/j9iUlv6+IwGtaqDUOhAxRHlPqpIynpTxKh5WO5BNUwkcyj3lDHPqca69p2Qi8eTLa6gk6su/9957kiRV1VV6ZUyUWFyBouIjgDDl/1nZmeL5hHZKorxf2vdK1wWYL6eBhkAfQsRDm/LvA3QUTZTXEE2U8vDJ3JetZ/xiZJSJUoGxJ0PLEpYqER8ZGQnLCShPmYUxuil/qaN51eqVjLGk5YnPnZV9+XtmoXp4yQP3emTTbDQYYYlDRHmNZhKlPCxfY7/WioZCAb8r0NBSq6R8Sdkxvxdk3Qz1Ub7n9tfR86IPFx10TTp7R7rTMzZlbNtsXRH8UnNY0EYDDdY6RJTXaC9RysPmf/TVq186mEYmGds286BfuWoFLRnEy6WP8hVVpTZbOI43TjwbfffQAefjW3zOsy28MH7h82+jNNBgrUNEeY32EqX8LBQxKN3++lBXREQEgr65rSEo1TBtobCWjrfVa7GfB0mzd2XR8yioBz1aAw3WOjQLASXegkR5p7fICHT6w0UHAUn00tVfUk88G03P2IT3Tt6v7x3p3rp9C2PMZgv/5/GjE89G9xfkMcYytm3u7G1PSV3HGNuZuwNqUlD4N0iZvHbNla4LMP6zL38P5Jy0PPFK1wUsK2Pb5oqqUjxdea7I1SnXj+PXsPMlHPGff8/feWr8y8nJSbPIv7CwOWFhc/jFsX0PizRQENMQ5U3HbnFrGHsytGhxPL10VVXMl/nyDS218AIWSH2l68LYk6GF8QtXrV7pfHyrxX4+el50VV0lYnpn7g4I22zhV7ou9Nz+Om5B7Olzn2HF4PSoqLmdve29I90L4xdCSoi32cIvdTTDOwDluZiJdkC51jTeqygQaAW0myboR4nyFqa8a9J5+txn9NJVtRdBx1Y9JBgJb18ZY4eLDuJIDvIiY9tmIHtU1NzB+zdck879BXkQBnYzxpYlLD1VU+6adMLp+CIXHgIOFx2EHODmAbVSnitY2+D68k1NTf9jkX9RUXOjoubyi2P7HhZso2AlI8pbm/LBshvzl6uP8hVVpfjq1TXpxCk3MkzD5csYjZR3TTonno3CwAtjrKquUnY6jM/g0wBPeeW5QZdanBGWGKCHywm6qkZWQLwFaVye7gdWUkAf5Vvs5222cHDAYeQd3HPAPQyzuCadDS219c014HcDo2V+PfRhOKuqrhJHZnA4HrKV3Sf4no/n8pFBCYszgigflAaasVDxFiTKW4lxMzZ8yCfQR/lLHc2XOppPVJZEz4uGD6M6e9tBq57bX8MrVnz7iu9pnw/il5QdgxKjoubWN9dU1VXi+1iYiNk70g0xjLHsXVnOx7cA8XgWDPtc6mhWnhvcxhJnBFE+uC3lqXTxFiTKz0z50+c+O1x0MCV1HTACOrCZ/09JXbcvf09FVSnsI+jJSqwYD7JbseZmq7M4I4jyZms7qI94CxLltSjf3WdPXrvGzEDXrlvcgtiGllpz2qi+WumbL6+vrNA+S5wRRHlzWoJ4CxLlPVK+oqoUPlB6IS72w8KCr+qrxm5cnX40avK/H4eutZ/7/MPCgldfToJ7wO68HHOaKdUqiAqIM4IoH8Rm0ihavAWJ8uqU7+6zA+L3vpP9091vTU52T9Ur/aAwMjKSMRYy+zj6Ml9eo8PMwkPijCDKm9M8xFuQKK9C+bEnQytXrWCM5e/N8QRQq8Sf/vg4Yyx6XnRoLGxJ4/L+Io44I4jy/tLcv/mItyBRXoXyMPF5Sfwffh0ftArNNer5VloqYyw01tolyvuLFOKMIMr7S3P/5iPegkR5FcrDyiSlHxRqoNNCh76qr2KMbUxf718jC0puRHl/yS7OCKK8vzT3bz7iLUiUV6E8zKtpP/e5hVCuUdUfh67BoI1/jSwouQWF8kEpNNDyijOCKB/ottCXv3gLEuVVKA9vLK370lVJfLgifcZkqrOCAtygFBpo2cUZQZQPdFvoy1+8BYnyKpSHXq1kpXhMT1sTTGRMWp7YWF1RsC9X/NxApAwZTgVlvnzIqMfTRJwRRHleN/OExVuQKO9/yo/duBoTLX1YWDD9aHSiv2v7m5uytqQju3vamq63N+NPTwHBZJ5Ol8WHJKcM628hqZ44I4jy+izt4c93J56N6jtX5CzxFiTK+5/ypz8+brOFN1ZXAGqnHg6/X/DXX+4PwM+jfz8gQnnBZDKae/oZMpwKynz5kFGPZ4c4I4jyvG7i4eEHfTVffDrjxpMTz0a7++w67gfiLUiU9z/luy82Ahd2//lPff9u4ck7duPqC3GxM1JeMBmfs3Y4ZDgVlAsJSqHiNNGXUpwRRHl9CsP6KC3282NPhjT+GlpqN6av1/E5i3gLEuX9T/mph8Pb3/z/9p8Dv/70x8djoiVABmPsw8KCqYfDR/9+AGJstvD6T8qmH40qk8HIz45tb8EmR+X/el+b6cqjIcOpoFxIUArVRxbxs8QZQZQXV5VP6RjsiFsQuzB+4e68nL37c1X/duflrFy1IiHxJaK8Coh5Nf0ehl6tZKVXMe3nPseVZGy2cPDfYTAHfXkcwf91fHBJ/B9efTkJBnZkyfij3RcbY6IlHA4SrFLIcCooFxKUQv1u1bIMifIyQfz+EygPxqP9f0LiS7BCtVd1EG9B8uVVbiHQJIIA1U4Gb1/Bcwc/HYnPnwi490R5HAJCW+Ff5/L5eArDiV7ZkDkTB+VCglJooPUXZwT58vraAigfFjYHdiuE/2FOMx9js4UT5VUorE908bOgV3si5ozxpz8+zvva6LCrUr7+k7L8vTl9/27Z/uYmbcp7S3a+niHDqaBcSFAKFTdXfSmJ8vp0Ez+ru8++5MUl+wvyrnRdsF9rhb+GltqU1HVftp6Bny3284eLDiavXUMjNkaD3kfKd19sxEH2qYfDhw78JSpq7o9D14DyjDEYf59+NAopr7c3T/R3yUZs+GRwn8CHgPZzn39VX8VDfMZwyHCK5suLU0Y7JVFeWx/fj3b32d/Y8Pr1oS4+K8dgx8b09fz4TGdv+xsbXu+76+CTiYTFW5BGbFRuIT5SvqetqftiY035R/CuNWl54u2uywDiX8cHN6asg5eo9Z+UIb4/+j//gPj/+sffph+NypJNPxodu3EVT/Tx7Stcne7/ZVYrYo5WTFNUfMSTRFnZmVa8IlmdxRlBIzYy6QR/dvfZZZNnnI9vlZQdW7Q4vrmt4fundyAfx2AHUV6FwoIq604G3Ts0FqSEuwtcEQjiCV6C8cGlvGHz5ceeDC1LWKrUJDIyUsfDtW5TDNyJRPnAaQs5gy/fO9INPyeejVbVVS55cYkkSatWr2xua+CTkS9vNOihe8umus84KmLaBL+ODzLGIiMjfTRr/lbhY1a6TzeyDg0ttUrKl5Qd0115U51IlA90c3T32de89or9WisUBF8/Xem6AH+OwY6HP991TTq/bD2TkrqOKG805bOyMxljNeUfmRbcXlWsp62JMbZy1QofzdpIwnqqqsF1yNi2mQf9ylUrxp4MeaqbteKJ8oFuL3j7Wt9cgwUB1uEnhJ2Pb+0vyKP58kYj3jXpLCk7xhjzZU6LVxQOdOIPCwsYYztzd6C16QsYTFjVShpch+tDXbAxJJSLT9mqdbNWJFE+0O3lGOyAT6I8LXLw8Oe7LfbzS15csua1V/j3sYIVE29BevuqchfBvs1PiAw0iwOU/51v2mCKbkNLraD1eEpmMGFVq2HYuDyWfrjoIFx4aLx0xesSZwS9fUXRvAoMP+jbnZezavXKzt521RO/+2HgSteFvruOEVc/7+arJlZGircgUV6F8q5J54nKEsZYTLRk6b1E7nzTBt/f+u7IP3/EMQPllbYe6JixJ0OLFseHzEtXlEucEUR5FM2rwMOf7zof3xpx9StXIpt4Nvrw57s+Llop3oJEeXXKuyadOCa7953szgtnAuRrByjbvn+3lH5QCF78osXxww/6vDJQ1cSzk/KuSefpc5+FzEtXbFlxRhDlUTSvAsMP+k6f+0w5XDPi6q/54tPvfhjwKjdlYvEWJMp7pLxr0llUfIQflgXMmfx/IDtWcmfuDr8g3gBfvqquUmnKFBMgBcQZQZTX1wSOwY5lCUt35+WcPvdZfXMN/F/zxac7c3foG4iXVUO8BYnyWpR3TTq7++w7c3fATrCITvMHliUszdi22fexeN6w4Kr5GP+GGWPJa9fgzDP/Zk65yRQQZwRRXiad4E/HYMf8uPnwCaTNFm6zhUdERIATtuTFJTpet8rKFW9BovwMlJcpO5t/GkB5KGJf/h5Pzx/mv7+atoYy0xVnBFFeJp3gT6B8ZGQkrk1ms4UzxiIiIpLXrrES5Qfu9ZyoLNmYvj4ldV30vGjTmvhsqxjMRSkqPtLdZxc0yhmTgYYzJtOdgG+j6HnRJypLlFnxaSjslQIyMYnyMkH8/hOWLmhua7g9fhP+vmw9szsvp6Ts2OD9Gzom1chqKN6C+n35sSdD7x763x0wvLI2SmywAv4amodqy0zNjz+VsiSvXXOpo5kvAtIE6JV1qGar2nDijCBfnrdA8fDEs1HlI+l3PwzUN9dc6bqgnHgjnjOkFG9BnZS/1NGMq3xkbUk//fHxzgtnYNnFUO0qFrquX8cHOy+caayu2PX2NhgHjFsQ6/sYvZLCgY6JjIwsKj7CWz9RXocdEuV5EzIsDHNslKB//uZJY0xSvHqBpfyljmawm4TEl3ramnSYHZ1imAJ3vmn7Y/JqaK+KqlJxG1JNCfkY8/+yhKXKdcGgaMPUC42CQDRZg4ozgnx5mXSCP3GOTc0Xn+Icm1M15RvT169ctcLU4/K4Vt/ed7JDadXG0OjPnq4CFjmInhet5KagyRqQDG8eyxKWenryIMp7amKNeKK8AdarLEI5x8ZmCw8Lm/P76inZmaaeLw9j8QmJLxHiNfqVCQ/tensbY2xj+nqlOZokBhbOLCo+orEiGFFeh2kR5YNi4bAjIE6wwcCyhKWXOprNOy5/fagLLIYGanR0tuCe8uPQtRfiYhljp899FhSjn7HQjG2bZ3zUIMrrsCKi/Iy2F4gEsC1UZ287zrEZftA34up/jvi9+3PNO2IDG+jsenubDlOjU4KuQOkHhX5ZnDIQXUIwT6K8Disiygtal3+Tff/0jnIec99dR/aurKTliTM6NDNWRvzNindzbDamr2eMhcBKjTq6Sgic8uPQNcbYosXxMxqQaRMQ5XXYIVE+6PY89mSo766jqPhI3ILfn6eXJSw1ry8PsyfvfNOmw9ToFDMoABMrg270uitAlNdhRUR53fbm+4nfP73Td9exd3/u/Lj58Oo1MjIyaXmieSkPjPjp7rc6TI1OMYMCIUP5qYfD29/cBPxijH1YWABbpUOMzRZ+vb0ZY2y2cFiB+dWXk365P+Cvhjh04C+MMf/mKVK3X8cHl8T/QbVo1SoR5X2HtY4cJp6N9o50787LiVsQC3xfGL+woPBvlzqa3z10wLyUB3MRMURKY04FVDu8DgsO1im8BSLoPywsALUn+ruWxP8BEA8xYzeu7n0n+5f7A5DYKyLXlH+kekvAeB15+ssqPBWtGq/a6OKjujRfXp+13x6/uXX7lqiouYyx5wM1sLDB90/vuCad3z+9Y94VDvg+5i97pXyMVEC1w+sz4qCcJbNA8Najoubid9enPz4Orj2oWv9J2fX25ulHo6r401B+7MbV9PUpSsrz8d7mqVGcjkOHDvxF9aaljFdtdKJ8oA144tno4P0bFVWl6RmbioqPDNzrAcS7Jp2wi4iPFRBvQe/evmIfm3o4DM+GEJO1JR0sHn4GYtNU1UdRHX3D21O8fTr2Nn9leo0SlYm9jVHt8D5am5GnowXihYNhwIyAqYfDBftyY6IlwN/Uw+H3C/4KpEYif1VfFRMt2WzhOIng6N//dzkmiJx6OIwxjLH/+sffoCxlvEaeE/1dO7a9BavOlv/rfawtNi6UFRMtMcaiouZO9Hdtf3MT3K4m+rsK9uXClSYtT7zddRk7V+kHhRtT1sGOxDzNsbik5Ymvvpwko79qo4szgnx5Xyx84tnodz8M2K+1FhT+7d1DB5rbGq50XdiXv8cyIzYyv2n60agyBu1bX8ByT8f6LlN2FuJD6UvKUnr7U7XD+2LEfjxXZBcRJeXBnQeujd24Wv6v95H78BMkAklttvD6T8p4eeH0xuoK4C9u6c4zlBeZj/eUJ8RnbUn/5f4A5o+ZKEuHEafG6orbXZehGng5MdESoB/yydqS3n7ucziKNeFPgTErorwfzdIvWcHKZbfHb9Z88emSF5eYeo6NrI91X2zkn46R8ugloWXrC1jx6VjflSrPwj6sPORLjJkpL7KLiMwCQQrEev0nZT8OXQOzzNqSjsM1yhEbpbzAR6A8D2JebVm87CfmCRWAqsL/+OYAcoMEjdUVPW1Nu97eBr58/Sdl049GZX0KLw0oz+cjKw4OyaoExak2OvnyfsG3t5mMPRmq+eLTlNR15p0vL+tjMotUUl757CnyxAp9UvbUjOarfOLGx1WbLTzoT8fQr2RV4q8a5354ejyHHKAP/zh0DWZT8JNG8ETlmACIZrOFb0hZi0PVkKFGh/fWUgOUHrGosWKfzALhosAO30pLLdiXO/1oFNS22cL5gXW0H3g8QkROPxptP/d5/t6cvn+3bH9zkx8pzxOZbwK85SQtTyz9oBDwvevtbV/VVykpDw/HjdUVRHntgSO4aQXIMv2b7cSz0Usdzcr9YL0tRfw+rXNcnu9d2DkxAL48/yAJNgp44vsbb7vwxMr3B74rwlnKJ26IN8/TMfZhWZXgTQYqcOq/j/1yf8CTRNOPRvHaVU9UveqxG1dfiIvtvtjIaygLQxt5a0/GpEf7YYxp7yIiuyhQg/9eTzlyyEsN6WFYo/tiI9xBZWMdhw78BRpLVhYf7ylPiI+Kmnu76zLcRYDgfFbozvNtjbcoOJevJ99T0MbgEvhqQDIasTHGYrVL+f7pHdV15CeejV7pusC/idXOx9NRQynP+yzoeii9Enz2xEOqT6zYE3gTl5k13zGgt/CA4OujXZbsWQRrKOtRyuI0no6xRGWVsGOP3biq6rhhBfgSMUNw6PgTZUVAb2eMJS1PVGIFhIVTwG6ysjNhSylv/9+Zu+Nw0UEdf0XFR5rbGjz98ZcDYfFdRLovNvJQhhsezK6BCwdtYV4AWCnMN7/zTdvGlHXP9+Qs/aAQJuDD69bui43wkpZ/OoS2wHhPecJw/MaUdfD2FYZi0LAhMPVweNfb2+B5i39/MP1odKK/C85ljO3+859wGihogq8Q4Cdc9diNq3DKqy8nwbJ0POghpQwW4ozQdqJNctSEvrxjsCM9Y9OljuYRVz//19BSuzF9/eD9G+DUFxUf6ext1zGxUrwFffLllR6TBuX5Q0Bw1SdW7AxeUV5GdswEbw+qZckojzX0C+WVVcIrAkce8Y0psQIyys94Il4vzAOBmRuqb0f4Dr9ocTz8NO3/tIsItqwvAb7RkfXijDAJx7WrYU7Kxy2IjYqaGz0vmv+LjIxclrB0+EFf313HkheXhIXNWfPaK7fHb2LTCAbEW9AnyoMvg5ACNuH7WP65FTmFk0bQsZURjbdmKz4dyx66ZQ/ssvuKJ4k8yYVS8yfKisAKzEh5Tz71jPEnKkt0OPKHiw7uy9+j8dwgu9moLlEJaXgjofCMChDlBbnp32Sw8rDMqhljYWFzVq1eOeLqvz1+M3ntmsjIyK3bt4y4+r0t3QjK4+MqPAUDmPCS4C2W8tkTLVLjiRXT8E/NWBxsQAgFwWMpPq7CqD2ejgGNspQ15C9Ex9MxFOqpSjDIzr8XVVYAB15gJjUkVp6oLKKnramxugKe3Pe+k2jRfAMAACAASURBVI2XzwdUO7y35hWg9Gg8tIsI32S+h1UbXZwR2k60SY6a0Jfv7rMveXHJ4aKDNV98Kvv7svXM2JOhhz/fvT1+036tdcTVb94RG9/tj3IwWAHVDh8ganubLe0iEiBjUG10ory39ult+utDXfvy9/TddShPtMa3rwEyR8o20AqodnilFQYlRnWIRlYTqH+gVQqx/FUbnSgvMy2//7w9fvNUTblyxiTs+q2M97YC4i3o07h8iHWG2XA5qh3eW/MKYnqivA4rVW10cUaYZExGuxpwOUG0TGXRjsGOlNR1NV982tnbjn/2a61FxUeS164x71dRMCtj7MZVHaZGp5hBAZh+o7RIq8QQ5XVYEVE+KOYNb18jIyPhDoT/22zhS15cYt51bFJSf58C3HnhjA5To1OCrsCv44PwwVFQjN4vhRLldVgRUd4vtudtJkD5sLA5/B+0xZrXXjEv5Xfn5TDG3i/4qw5To1OCrsBX9VWMsZTUdd7aq3nS+0h5mL+Ey0yqtgjOceK/LIVT4IMG/vMr1RzMFkmUD4oBd/fZV65aUVFVeqXrAv6dqik/XHTQMdgx8WzUx1qJj7l5Ny7f3NbAGHshLpafC2g2m6b6eFLgj8mrGWNFxUd8NK8gnm4A5fFLOiXl4dsOorz2EHlQjppzXD49Y5Nsjs33T+/Yr7WeqCwx79tX16QTBm12vb3NE0oo3pwKfFhYAHvWDD/oCyKmfSzaR8qLNw2uIyQ7hf9ST3bItD/Jl/fR6vSdPvFsVDYR/vund/55/GjcglhT7/vqmnReH+qKiIjgV4YyrXFTxVCBnrYm2PG1oaVWn8ma5CwfKQ/f1uEaLxpLeCLlZaec/vg4bvoBy9TAajmyVUhReQhAJrA6PLwAx1Ej3eu2yorQ+EmUN4n1Xh/qWpawNCxsztbtW777YcDHWgVqxAaqdaKyBOzm/YK//jo+qGFedMgMCpR+UAiI352X46NhBf10HynPLx2hvYQnUp4/BdbWjoqa21hdsf3NTbDkJI7wyFYh5ZseP6iGNSrwgQDeAeAn3LhnCF8ov6qSct1WvhRPYaJ80O0WK3Cpo/n0uc8G79/Q8bErZgKBwFLeNeksKj4CHn1C4kuN1RU/3f3Wk4VRfBAVaD/3OYzFM8Z25u4YezIkMxTL/fQj5fEtq+oSnhqUh4U0cN9BXHUO6gb/44pD0PpAbRzQR8rL1jUClx8WIMKFnpQ7jXhrUUT54Nr52JOhEVf/9aGuEVe/7y9d8VoCTnnXpLO7z568dg1adky0BI+iGEOBYCkQGRkJe49ABeIWxFp9oAYtG67IW8xhet5HBh/86N8PqC7hqUF5gPXpj4/DwvRIeRnZsVB09nGkyBPl+UVJoaqqa6nyOYuEQTTUEALijAjK21RvC4XLkV2jGX5e6bqwdfuW+XHzo+dFxy2IfffQAR0Lk6leiHgLejfHRllYSdmxjenrg4UzKldbgZWrVhwuOmjy160i272i4cH1iqBNNY2M8pAGnHp+CU8+GR+GERt+3y4gO+SgsW2ILBOkPH+iLA3ePKBieNdRvS7tSBANNYSAOCO8BW5Q0puT8rBgmayTZu/K8gvoxVvQV8rLTId+kgLeKiCy3Svm6SPlYUgE9g/pvHBGdQlPHMmBNUFhUw445dR/H4MKwAtYeGDCUXWNbUOwXOWKqspFSRHZGmupYhqRAFEe7cfIgPPxrZ25O2ANvuS1a7J3ZaWkrouKmitJUkVVqe9DN0R5p5HNSWX5ogB6OhrbvWL+PlJehImhl4Yoj/ZjZGDgXk9K6rq9+3N7bn89/KDvux8Ghh/09Y50v3vogF/ceaI8Ud4yCiDlNbZ7xc5JlNdxEyLKo/0YGejus7+x4fXn6w/LCu3sbX9jw+uyr6VkaUR+mojylzqaT1SW7M7L4V/V8h2bwn5XYOWqFVnZmbDJqqd5Nbo3fdXY7El2aF/+HpEtpZSXr9zuFY0eEusg3Ww+BURDDSEgzoigjLN7Wyhcjuwag/uzu8++5rVXZBt8Ox/fqqgqXbV6ZYhQfvhBH72YVSLM4JhlCUvt11qV5m7mTV+V271i/YnyOm5XRHm0HyMD3/0wsHX7liUvLikpO2a/1trZ215VV5mesSkqaq4FvooSUaqhpTZuQSy8ecjakv5hYUHnhTM0rV5HF9VxSueFM+X/en/vO9kvxP3eBBEREcq1a2bc3NX3BCVlx3T48tp7iRDlddgDUV4EWYFI09BSGxMTY7OFS5IUPS8aPk6Mippb31xjga+itBU5fe4zMKw/Jq++802bDrukU/yiwE93v937Tja0xbuHDmi3WrCOQvUYYxrbvWLdILFfxJk9mYBoqCEEaMRGJkggfj78+W59c838uPlo5JIklZQd832CjWvSKd6C/p9JOXCvB7z4Qwf+Mns6kpmvFBYcZoxd6mgOhCn7mKfIdq9YBPYWCnirAGoIAXFGeDtEHpT0JhyXR8F7R7pP1ZTvy98DQzd+QXyQKQ9j8X9MXm1m8M22ur1f8FfG2KLF8Z5exqJFGh/QHqKR1cdbtFF6VECmJFFeJojffw4/6Kv54lNYlezhz3edj28B352Pb50+95mpVx7W1gIWoI+MjKRdA011I/l1fDAh8aXnHb6k7Jh2C9LRWaIAUT7QDe0Y7EhIfGlf/p765pqGllr4q2+ugQmH5t0rakZdSsp+/zhw7zvZpmIcVWb60Wj5v95njIXAspQzGiElEFGAKC+iki9pHIMdMCIf+f/+RUXNjYqayxgz9b6vM15zVnbm8+/Cy//1PoHVbAr0tDUxxlauWjFjI1ICQQXgm4OBez2C6U2VjCgf6OYAytts4fgXFjaHMRYWNsfU+77OqMuyhKWMsZ62JrMxjuoDW3tHRkbO2IiUQFAB+OZA+XGj4OnBTUaUD7T+jsGOlNR1X7aeGbjXA38NLbU7c3f88/jRgXs9vr+DFW9BP8+xgVc9tLWIOW8q0DqBNu7Zkz9RPijTaVQLBeSZyvYmno3eHr8pq9Lwg7765hrZB7GyNII/g0x5czKOakWUF+w/gsmI8qrADUqkCSk/4uqvb65R7vzX2dsusjDfjEZIlB8lpisVIMrP2HO8SkCUDwrQVQs1IeVxjs3pc581tNTCTBtY5OD5SlMWnmMDHOH5AnsjQDxj7MPCAtjHEmL4DRlgr+RXX06Ctbx/uT/A52OVMKxOjns3B6LasFg5bjwkXgRR3iuIz5iYKK8K3KBEmpPyMTEx8NEfzK6JipoLixxYex0bJeVxOzRAPCBpor9rSfwfcEO16UejYzeu7n0n+5f7A8odc2akWE35R0G/JWAdDKC8DolAQ6L8jOD2KgFRPihAVy3UnJSPWxCLE2wwsOTFJVe6Llh4HRtVygPEcX96IA5scYlbZdZ/Una9vRlvCeKO6tiNq+nrU4JLeeProG9/OKK8VxCfMTFRXhW4QYk0J+XTMzbZr7XiHBsIDN6/8f3TOzNa14wJ4JJF1A7IHBtV75vfn37q4XDBvtyYaAloPvVw+P2CvwKp0VH9qr4qJlqy2cJxQ86jfz8AnILIqYfDGMMY4wdJoKyoqLk9bU0bU9bZbOH1n5R1X2yEfZz/6x9/48eRsrakY/ofh65h5TFzvg4T/V07tr0F1dj7TvZPd7/FZFAH2XDKRH9Xwb5cSJ+0PPF21+XpR6OQJmtLevu5z7FKUC7kZrOFb0hZy1dm+tEoFp20PPHVl5PwRqhaBF4FHyDKz9hzvEpAlBdBjDFpTEj5sSdDV7ouKC1q8P6Nw0UHldNvlCm1Y8xIeRiOBzaN3bha/q/3AXaN1RXwE3gE/AUuI/F/uT8ApzdWV8CQSNaWdEjvyauFZwUYBYKC4Fst3FgZaBsVNffHoWv8bQayVS0OioZL6L7YiCNOfB34OvPpIUMsbvubm3AIC6s0duPqC3Gx3RcbeTRDmM8KxrugGnw8X4Qyh+lHo0R57W7j7VGivDEEFynFhJTvuf311u1brnRdcD6+xf/VN9ekpK6z8C4iwBFVxKAP21hdUf9J2Y9D17ovNjLGsrak43CNcsSGByhkC4wDyvNIlRV6+uPjSOHTHx8HvPJkn340ChWA20xN+UeyHJTFQXocZYIEsjrwP2Xp8a4GaZRVAmQzxpKWJ35VX8XXh89KpAj+XAwT5b3luHZ6orwIf41JY0LKOwY74hbESpI0P24+/kHMsoSlITXHBhGDVH0rLbVgX+70o1GAms0Wzg+s8wgDKOPQRPu5z/P35vT9u2X7m5tEKI8Y9UR5LKvzwhl4K8DXVlkcoBYfIyAxZiIbcfrl/gCP5ulHo/B40VhdITsFfXm4yR39+wEYxsGhKpQObjD86Z6K4C8Ew0R5bWp7e5QobwzBRUoxJ+X5leWh98H/q1avDFnKA54YY8gv2TtYRD+QXYYz8M358QqZb444k8XzGOXDQE+bLXz3n/8ke3+LAzJ8cXhbglsCPoLwefJ1hvRRUXNvd13m4/mwrKpwCXAiqiSTBUZm+BEbZRG8FBgmynvLce30RHkR/hqTxoSU7+6zL0tYerjoYFVdJfwVFR9Z89or6Rmb6ptrLL/CAWJFGei+2IguNsy9eSEulvejYVgDRnLgHgDT5+980wbvUUs/KIRBbXjdCu9UbbZwfok08HDhxFP//fsymcowYB14KhuEgVedqsVN9HdtTFkHU/uxRL4OWH+gMKb/fT3I/3cvwTRZW9L5a+y8cKaxugLyV67rOXbjKhx69eWkXW9vw68KVItQKk/j8trI1nGUKG8MwUVKMSHlb4/fPFVTPvygD03r+6d3Bu/fqKqrvNTRHMqUV6VPcCM/LCyQzWYJbn0CVzr58tjf/BIgyovw15g0JqT84P0bJypLlCscdPfZ9xfk8fTXZ41wySLyGjeTMnDw8iXnqYfD/BRMX7Iy/7lEeX3dydNZRHkRxBiTxoSUdwx2JC1P/Ofxo7h/CKxzsDN3x6rVK31fsDpolI+eF80YM/+O3jhQg2Pr5me07zWEr6s9MYvivVWAKG8MwUVKMSfl58fNfz6YjMsbQMBmC9+6fcuIq99be5OlDxrlYdNX/rWh72wKRA6/jg/CsDuOrQeiFFPleeebNsbYsoSlMluhn7oVIMqL8NeYNOakfNyC2LCwOfwfYyxuQay1Vzh499Dvn6ceOvAXUwGOKjP9aLSxuoIxlrFts26o0YkyBYjyxhBcpBRzUh5WOOi768C/+uaardu3PF98WGZLOn4GzZc/fe4zmPtBG4mY7dYC03IOFx3UYU90iqoCRHkR/hqTxoSUhxk1SstpbmsoKTvmfHxLecirmKBRfvhBX9yCWMbY+wV/NRvmZnN92s99zhiLiIiwX2v1ypIosYYCRHljCC5Sigkp3zvSXVD4t767jolno/yf/VrrxvT1Fl7hwDXpfH6ngrkctPurSe4rP9399oW432+95MhrIFvHIaK8CH+NSWNCynf32Rctjk/P2LQvf8/+gjz4f+/+3IXxCxMSX7Lwt6/QVfbl72GMxURLpz8+bhLSzdpqtJ/7HBCfvHaNDpDRKRoKEOWNIbhIKSakvGOwA1Y44N++hoXNYYzty98z9mRIw7REDgVtxAYqN/ZkaGfuDvDo30pLbayuMP/cyhC7Dfw4dK393OcwFs8YS1675vpQl4jpUBpxBYjyIvw1Jo05KR+3IDZ6XvSa115JXrsmee0aCOzL3+O7I++adAaZ8tBPquoqYfo84B4ma0OY/g+oArDYGRZBAzXi4PYqJVHeGIKLlGJOym9MX2+/1jri6v/uhwH4G3H1+/7eFazUFJR3TToH7vUcLjq4MX099AfkDgUCrUD0vOiU1HXvHjpwqaPZK3JRYnEFiPIi/DUmjQkpP/FsFJcxmHg2+v3TO76vXcMbp1koz9eJwqRAiClAlDeG4CKlmJDyYO1Xui5sTF8ftyA2bkHswviFh4sOKle20dcviPJOfcLRWaSAuAJEeRH+GpPGnJRvsZ9f8uIS/sE9LGxO9q4s35c3MMu4vHhvoZSkgBUVIMobQ3CRUkxIeefjW9m7smCVclhWXpKksLA5kiSdqin3ffSGfHny5UmBgCtAlBfhrzFpTEh5x2DHwviFG9PXX+poHrx/40rXhZTUdVe6LpSUHcvelYVD9rr9G6J8wHu47rahE0NGAaK8MQQXKcWElO/us69avbLFfh4M3jHYsTF9vfPxLcdgxxsbXrf2t68h04fpQkgBbQWI8iL8NSaNCSnfd9exM3cHTo3v7rNvTF/vGOw4VVO+5rVXiPLkiZMCFlBgWcJSxphFlwYSf943BtM+lmJCyn/3w8C7hw7Yr7U+/Pmua9LpGOyIWxAb859/+wvyLP/tq7YHREdJgdBQICX19x2Am9sarHg5RPlAt9rEs1F++UmgPGMsPWMTOvi+1EG8Bf28I6AvlaZzSQFrKUCU99EB9+PpJvTlXZPO75/e6e6zw3Sa4Qd9JWXHar741C/TKGkmpQUe9q2FM6qtqgJEeT9i2sesTEj54Qd99c01/DdQ3z+9A+ivb67xfZ0D8uUJ9KRAwBUgyvuIZj+ebkLKOwY7EhJf2l+QV99cAxt8f9l6pqGldu/+3OS1a3wftCHKB7yHqzp3FDmrFCDK+xHTPmZlTsrHxMSEhc3B3b2hkmFhc5a8uIQoT4wmBSygAFHeRzT78XRzUn5+3Hx+cXlY6iAsbM6q1SuJ8hbo4bPKaaWLVVWAKO9HTPuYlTkpn7x2TUNLLb+1d/aurH8ePwrbBKoalXgkXLKIbjTHhu4opIBOBYjyIogxJo0JKT/xbFTpsMMrWfu1VlrHRmevE78NUkpSwHcFiPLGEFykFBNSfsTV39BSy8+xAZPr7G3fX5BH69gQ5UkBCyhAlBfhrzFpTEh5x2BH0vJEmGMDs2u+bD1T88WnGds2r1y1Qunme+t20IiNBRjhbaNSerMpQJQ3huAipZiT8jjHBqonSVJU1FzGWMa2zb5/G0WUJ8qTAgFXgCgvwl9j0piT8nELYsPC5sh2EVm0OP5K1wVY3MYXx4UoH/Ae7kvz0LmhoQBR3hiCi5RiTsq/seH1K10Xeke6+T+/TLChFQ4I8aSAEQoQ5UX4a0waE1J+7MmQ6nql3/0w8GXrGVjtwBd3h3x5Izq5Ly1E54aAAkR5YwguUooJKQ8WPvFsdOzJEP/X2du+L38PzbEhRpMCFlCAKC/CX2PSmJPy9mutG9PXxy2I5f/mx82PnhddUVXq4xLz5MtbgBEh4MzO8ksgyhtDcJFSTEj52+M3N6av51+98uH5cfMPFx3sHenW3YmI8kR5UiDgChDlRfhrTBoTUh62DUleu+afx49W1VVW1VWeqimvqqv85/Gjz3cZKyk7dvrcZ5c6mnUP0BPlA97Ddd+B6cSQUYAobwzBRUoxIeW7++wpqes6e9u/f3pn4tko/D38+W53n/2NDa/3jnR///TO2JMh3VMqifJEeVIg4AoQ5UX4a0waE1J+xNW/vyDv+btWmVszcK9nd14Offsa8P4p051+kgI6FCDKG0NwkVJMSPmHP9+9PtRVUnZM9pnr2JOhL1vP0F5RRHlSwAIKEOVF+GtMGhNSHvyG4Qd9yuUnJ56N6h6oQXeERmwswAhsLQpYVAGivDEEFynFtJQPnG0T5YnypEDAFSDKi/DXmDREeQ2daReRgLMgcDdzyjm4ChDlNchi8CGivIbgRHmiPCmgUwGivAZZDD5ElNcQnCivs4cH14uk0s2gAFFegywGHyLKawhOlCfKkwI6FSDKa5DF4ENEeQ3BifI6e7gZfEmqQ3AVIMprkMXgQ0R5DcGJ8kR5UkBUgbEnQ8lr1/BrTsnCixbHD9zrCe69R7B0wKIGGqx1iCiv0V5EedEeLth5KFloKzD8oG/R4ngZ3OFn9Lzo7j67VS6fKG+VlvJUT/EWJMoT5UkB7xS4PtQVPS9aBvqIiIjmtgZPHdKE8eKM0HASzXOIfHmNtiDKe9fDTdhdqUrGK3CpozkiIoIHfVVdpfHV8KVEorwv6pnhXPEWJMoT5UkBPQpU1VUi5YuKj5ih23tVB3FGaDiJ5jlEvrxGWxDl9fRwr7oTJQ5VBYqKjzDGduflWPECifJWbDW+zuItSJQnypMC+hU4UVnCdzwLhcUZoeEkmucQ+fIabUGU19/DLdSlqaqkgEwBorxMEMv9FG9BojxRnhSYjQqIM0LDSTTPIfLlNdqCKD8be7jl3BaqsN8VIMr7XVKDMxRvQaI8UZ4UmI0KiDNCw0k0zyHy5TXagig/G3u4wU5HgIrDiYwU0FZAVX+ivKosFooUb0GiPFHeqgpoo42OogKq5BJnhIaTaJ5D5MtrtAVR3qqMU+26syoSKDb9aJT+PCkAEqlaBVFeVRYLRYq3IFGeKG9VBYjynuCO8UR5C1Hb26oS5a1KLm9bejanJ8ojzT0FiPIh3EGCT/nrQ10VVaX78vfATgtgbfS/8Qokr12zOy/nRGWJ/VpriFk8iOkJcBQ//WgUJFJtd3FGaAz4mucQXI7qlYZqpHgLBmTEpqKqVLZin/F0oxKVCuzL3zP2ZChkjB4ukGiuoQBIpNri4owwD8o1akKU1xDHz5QfftC3MX092NYfk1d/WFjQfu7zH4euaRgiHQqcAr+OD3ZeOFP6QeGut7dBoyxLWBoyTj1RfkbLIcqr3uFCI1L8Pu1nysP4TEy0dPrj4zOaICUwUoGetqaExJcYY3ELYocf9IWAoRPlZ7QfonwI2LmnSwgO5U9UljDGXoiLHbtxdUb7owTGK/Dr+OAfk1czxnbm7vBkOhaKV1J+6uHw9jc3QTxj7MPCgrEbV2OiJYix2cKvtzdjjM0W/urLSYyxV19O+uX+QFCaY0n8H/7rH3/TXbTsepUXQpS3kD17W9UgUP76UBeMxTdWV+i2Wjox0Arc+aYtMjKSMdbQUuutVZktvZLy049GEXwfFhaAmBP9XUvi/wCIh5ixG1f3vpP9y/0BSKyEo0Yr1JR/5OMtAXP4dXzQR8pDPQ8d+AtjLGtLurLaRHmzGa0f6xMEypeUHWOMvZWWqjQ1ijGVAu8X/JUxti9/jx8NLihZqVJ++tEoeOtRUXPxhdDpj4+Daw8NUf9J2fX2ZrwliFN+7MbV9PUpvlDe9xyUtiS7Oj4BUT4olmlMoUGg/M7cHYyx8n+9zxsZhU2oQPu5zxljyWvXGGOLukuZcSdVT5SffjQK7i08Vk49HC7YlxsTLQHNpx4Ov1/wVyA1+vJf1VfFREs2Wzg+iR79+wHIHyKnHg5jDGNMNsyCh/gcJvq7dmx7CzLZ+072T3e/xWSQA1QS7zET/V0F+3IhfdLyxNtdl/FCsrakt5/7HIaeZEVPPxolyrvdbkCebmOz4olBoPzKVSsYY50XzpiQa1QlXoGf7n7LGIueF21yy4ZbkcaMIA3KgzsPAB27cbX8X+8j9+EnCAKUt9nC6z8pQ+L/cn8ATm+sroBBFRwMOXTgLwhllFQ1MZwIibsvNuJ4EZ8DXyKfnn8WgTT4IHLowF/4ZxSoA1GeKK8xjdLtdvttjg10uZ/ufovWTwHTKgCNZX7KQz335e9RnRSkQXn0ghurK+o/Kftx6Fr3xUYYvMbhGuWIDY9gaDsY0wfK81BWbVk+MRSH7wYgvSwH/qcsPd6TIA2SnSjvCWfky3tSxv+UV7V+ijSbAtaiPDx5KHdY1aY8cPOttNSCfbnTj0bBWbbZwvmBdZ6zcGNAV7393Of5e3P6/t2y/c1NM1JemRhvKnzTy4rjf8ooD+55Y3UFnwZqiMTHnMmXJ19eA/FE+Vm6nCHwMSs7MyV1XYD+duflHC466MsfVJL/P3ntmksdzfgIok154CNjDIfalTTkx0l4nuIYC7jniH5VV1o1Md5U4DUvPkDwOfAlQvqoqLm3uy7z8XzYE+XB8cdhJaQ/rXCAphKSgSCMy/NdbuzG1Y0p6yBm7zvZd75pqyn/iDc+b8P8eyroD8p3UOivqR7ytkTd6TWqpztP1ROhIH3TvaFpFi2Oh4BV/o+MjCwqPoI9FqqtKg5Edl9s5D3fsRtXX4iLBexCArArGMmBewDoeeebto0p62y28NIPCmECPhhV98VGeEnLzzKY6O9STQzxjDGbLRzT8zlg6XAXwfSMsd1//hO8H8Y0WVvS+Rryb4+x+fBuhJrAIVSMD4gzQttPNMlRGrHRaAg/j8tPPxqFZ0+cJAC2q+pooC3OGOA9GiVG/T4Becb6KBMEpQ68LMoqacRA529uawjc34nKEl8c+cNFBxFeEMjYtnngXg/PKYjXuEw6BBLxomGYKI9SWDQg3oJ+pjwgGGcUQDf7dXwQxkZ96XXKN2OQWyAmIHtbzyDWwZMs2peg0fnNY/FQScbYsoSlqt9wEeW1W5lGbMxjzIGoSdAoD448/5jMG6K3M4JxxnHS8sRXX06CB1IcvQncBGSoM85uNngSNHjojLHSDwo3pqzL2pKOl/zL/QEI47MRT3mUix8igKuw2cI3pKzFr4SsQnkYovG0jiZRnu9cqmGNhhZnhMZQgHkOweUEAqamzVO8Bf3sy8PQoXJ8EAfN4ZDIjGB4LID0/Esw2TAFjzn+EH+6SHGyThLcSdBQOnwL8+rLST/d/Xb7m5tACrhGJeUxnp/uDSPR3RcbZVen0fnNY9PKIRpZ3YjysmZV/tRoaHFGmAflGjUhymuI42fKa/jysrli4JPiXDF0/3ESAp+ex7ensGz6M386P3saTlcWB/WBXsHfpYIyCRooj7OtlZespDxcL9Qf/v+wsABudYyxpOWJX9VXIQU0Or+MpGb+CVeBF0UBpQIaDU2UN7Nti9RNvAX9THnECk5fA8sbu3FVhl3w+pHyCNYAUX7G4pQ9JIiToGekPC8XhGXy4uXAp/nwcTw2ikbnFzEvk6QhymMrewpoNLQ4IzScRPMcIl9eoy38THlcVQO+Ggf/uqb8ox+HrsENQHxGsHLIU29kkgAAF7tJREFUBXDGO7ayGcT8IW+Lk/WT4E6CVqU8PH/AIaUU/PVOPxptP/c577zDUaK8rJVD/idR3iQeSSCqIX6f9j/lpx+Ndl44g/Pld//5T7Du0vSjUW9nBOO8+1dfToLdjl59OSl/bw7YLvqwOIUZR13gkLfF8X0ezlXOmMY8+TecgZsEjVzGIk5/fBxmcL+Vlrok/g8gBd4AQHa8xfa0NTVWV0Dk3ney8QI1On8gzDFAecJV4EVRQKmARkOLM0LDSTTPIfLlNdoiIJRXWhvFmEoBjc4fICIHIlsRysONH+76upsAnoRUP0CbMf8ZE+iulciJGg1NlA+ETRqZp3gL+o3ycQtiGWN9/24RMT5KE0QFfh0fhI1EjLTIQJQlQnl+EM8XzT3l4ykey5oxAaYMRIAoHwjDM0meQaB8xrbNjDHa7jUQfdW/efb9u4UxtnLVCpMYq+5qGEl5eAOk+kzAz+VVbakZE6ie5ZdIorxu6zL/iUGgPHySnr83xy/WSZkEToGa8o9+X7klO9P8dqxdQ1XKy74CQ1dauU+Ixjd6QHMYbFFOWoU3TLBDCP+9Ht9k+IWaLIFqoXgilqjcM0R5Io4jwVd7MI0qKmruRH/X9jc3wasaory2CVn6aBAo39BSyxiLjIy8800bWi0FzKbAr+ODCYkvPe/8JWXHLG3irkmnkvLKr8CA8sp9QgCRQHOYtgRYxLsC7gqrpDx/Lv+9Hra1pwR8PF8ongilK/cM8XQiX1t+XlZjdQVMeSDKW93INeofBMq7Jp0waPPH5NVotRQwmwKw6euyhKWelg3QsCqzHVJSHmjIfwXGc5AfdZF9XgBOtOzrDThXSXn+XFn+0NyeEvDx/Jd6aCSQG9xv+FnCGifCocbqip62pl1vbwNfvv6TMsiTKG82o/VjfYJD+YF7PfAO9q20VFwyBS2YAsFV4NfxQUA8Y4xfpd2PZmdwVkrKw/cZR/9+AL8Ck1EYh8hl3FT9aE7kXFkaaGI+cz4BH49fluBkWdnH2xqUx9riKUnLE0s/KAR3ftfb2/BTCaK8wTZpZHHBobxr0tnc1hA9L5oxFhMt1ZR/RFNugkt2KP3ON22N1RUwUPO824fAWA30JVXKwyWDU48bt8LIDA9cSODpGz38/oDfExyXElKOn8jeynpK4KlQNBK+hjzltU9Edx5O4StDlDcSuwaXFTTKuyadA/d6NqavB/OC/2HeHh9DYcMU4MVflrA0NLx4T5RXfgUGQzHKfUJ+uT+AH7jxu3bABgnwnZ3IB2j893qwswcgW/WDPo1C4SwdtQV3ftfb2+Dpmd+7nFYeNhi7BhcXTMrDpVbVVWZs27wsYalhOKOCPCmwaHH88/tuSdmxEBiL5zsSXC86whRQKgAS8aJhWJwRGh9VmucQXA5e3WwIiLeg376Kmg2y0jWaSgGivBLrshiivKks1r+VIco7/Sso5WZCBYjyMqYrfxLlTWi3/qoSUZ4oH/oKEOWVWJfFEOX9hVQT5kOUD33GmdDsDK4SUV7GdOVPorzBNmlkcUR5onzoKwAIo/9nVEAVPeKMMM8rVo2awOWoXmmoRoq3IL19DX0ahqqVz0g3SgAKqBqAOCM02GqeQ0R5jbYgyhPlSYHZqABRXvXmZ6FI8RYkys/GHm4hU6aqBkgBcUZoOInmOUS+vEZbEOWJ8qTAbFSAKB+g26dh2Yq3IFF+NvZwwwwxtAvKys5MSV03cK/HipcpzggNJ9E8h8iX12gLojxRnhTQqcCixfGMsetDXUR5DcQYc4gor6EzUV5nD7dix6Y6+1cBorwGWQw+RJTXEJwoT5QnBXQqQJTXIIvBh4jyGoIT5XX2cP96hZSbFRUgymuQxeBDRHkNwYnyRHlSQKcCRHkNshh8iCivIThRXmcPt6LvSXX2rwJEeQ2yGHyIKK8hOFGeKE8K6FSAKK9BFoMPEeU1BCfK6+zh/vUKKTcrKkCU1yCLwYeI8hqCE+WJ8qSATgWI8hpkMfgQUV5DcKK8zh5uRd+T6uxfBYjyGmQx+BBRXkNwojxRnhTQqcDKVSsYY/Zrrf69eRiTG2BRAw3WOkSU12gvorzOHm5MV6RSzKxASuo6xlhzW4OZK+mpbkR5T8pYJV68BYnyRHlSQKcCRHkN/9HgQ+TLawhOlNfZw61yw6d6Bk4BorwGWQw+RJTXEJwoT5QnBXQqQJTXIIvBh4jyGoIT5XX28MB5iJSzVRQgymuQxeBDRHkNwYnyRHlSQKcCs4fyDocjKmru06dPNVAieMjhcMTExOTl5QmmF0xGlNcQiiivs4dbxd+kegZOgdlD+cLCQsZYcXGxBkoED0FW/rpnYKFEeZRCGSDKE+VJAZ0KzBLKT01NLXlxCWMsOTn5t99+U0JEI2Z6evro0aP8WeTL+8vtgBubhvh4iCivs4f7q6koH+sqMEso73A48vPz2X/+NTU1ITtEAuPj4+kZm3jKi5ylIw358hqiEeWJ8qSATgVmA+Wnp6cLCwtdLhe481nZmRo0kR2anp7OzMzU8QQgy0fkJ1FeQyWivM4ebl0PlGruLwU2pq9njDW01PorQyPzEXzeHx8ff++999xut8Z4usvlSktLA2d/1eqVN2/edLvdJ0+ejImJgUjGWERExNmzZx0OB8RERERAMmBTZ2cn5pC0PPHs2bMQD4XCKwEsBYvguUaU59WQhYnyRHlSQKcCO3N3MMYqqkqNpLO/yhKk/NmzZwHHODovG7SBcXZw2MfHx2NiYpDgwHSZLy9L43a7+WRwFN/0Tk9Pw2BRxrbN77333m+//VZXV6f6hoAoLyM7/5Mor7OH+6uzUT7WVSDkKQ9DLuiPQ4CnNqIfp98cPXo0Kmru8PCwDN8IHRnlMQe8eQDHcRKO7Cd/S8A83W43UZ5XQxYmyhPlSQGdCoQ85cfHx0+ePInIAOCiq+52u9H1RkZjYk+UB6xjJjiGgznIYqBQfB9AlEevSPBpzO12E+V19nDUmgKzSoGMbZtlvi3+TF67xkJSiDACh2uA3ch09NwxBhntL8rjbQAojyUS5dHGRFoQmoMoT5QnBbxQYPhBH2wegnCHQPS86OtDXdgDzR+YkRHT09M5OTn89644gIPDKTjegr42uPAAfVUiy3x5zMETx2UfZKnmSSM2/M1VGSbKe9HDzd91qYYGKHCpozkiIkJG+dPnPjOgaD8WoU356enpkydPrlq9kqe82+0GzxrfjrrdbrvdDlLAxBiXy5WVnQkT5GVD8EAfZSTkCaP5cCNBRx7n9uBdBBLz7wYgW7gcP+pj/qy0W5BnPVGeKE8KeK1ASdkxnvL78veYHwqyGmowAv1ruEZwzGWRjDH06Pl5kOkZm+DVK1Dm7NmzMJ8S5keCJ47S4YxJu92enJwM8WlpaZgDzqRkjGVlZ+I9hi+dKM8DXTVMlPe6h8t6C/2cnQrgAH3y2jVjT4YsJ4IG5VVJYfJI8uU1GogoT5QnBfQoAAP0lhuOx7sRUR6lsGhAvAWJ8np6uEXNgqrtXwUudTRbbjgeFRBnhIaTaJ5D5MtrtAVRnihPCsxGBYjyeMOzaEC8BYnys7GHW9Ssqdp+VECcERpOonkO+eLLn6gs8aOwhmUl3oJEeaI8KTAbFRBnhHlQrlETXyj/+8I4a9d099kNA7RfChJvQaL8bOzhfjEy02ZSUVVqs4Vf6bpg2hqaoWLijNBgq3kO+Uh5WDWzqPiIhaZLibcgUZ4oH1IKTDwbTc/YxBg7XHRQHKYt9vNVdZXi6VVT+iUT1ZwDESnOCPOgXKMmvlMeZusvS1h6qaM5EIL7PU/xFiTKhxTj/G5Jlsuw5/bXu/Ny4KuZwfs3ROoPNwYfKe+XTERq66804ozQYKt5DvmL8sD6dw8dGH7Q5y+pA5SPeAsS5YnyIaVAVV1l310HuPNKcJ+qKY+eF80YW5awtL65xjXpLCk7BjHQvU/VlO8vyGOMwZhPz+2v4WjGts3QVxtaajF99q4s5+NbqplAYiyOMbYzd4fz8S181LDZwp/7jPvy98Ah16QTc16WsPSNDa9DzlnZmSmp6wLxFxY2JyxsTprF/+Xl5T1fAKe4uDjiP/8OFx3U8QdNL/s/bkGsyfeHIcqHFLkC5AuEXrZjT4ZgvkSL/TxjbNXqlcBKuNKKqlLG2KmackAtjt1DPH9L2F+Qh0fHngwtjF8IlOfDp2rK+XEh1UwwARzF+sCNZGfuju4+e0rquoxtmzt726PnRUMdeke60zM2wYOI6spoMh7Rz8Ap4NW4n8EdiihPlJ+NCgDcsc8jqV2TTgB0VNRcoGeL/TweVQU0HuXJjt144tkokBopIMsEHgKwOMgE85QlxuoxxrJ3ZXX2tmNBzW0NAfqLipobFTX3fyz+r66uLkC+PGPs3UMHzPwylig/GxmHaJi1gcNFB3EsHiiMIy0y7PISKZnryZd3TTp7R7r3F+Tt3Z97orIEXXXXpFOWiaw4HKgBb12WGCrTYj+PY0E7c3fwNQxEWJwR5hl816gJXI4+odAtwIAl3sGKtyCNy9P9IEQUeO528WtDgl/vyZvmcaBkLk954DXcLSAM/jvkL+jLzzhGBPWZeDYKo/Po9fP19G9YnBEabDXPIX9RPiIiwirzKcVbkCgfIozzLwIslxsMoSBz+TEQjATvHgbHJ56NnqgsgTn1Ml6jYw4j+PB6FiiPKZUjNngIpcPBd+fjWw0ttRqOv2vS2WI/D69nXZPOUzXlRHlv7x9+oby1vo0iyhO7Z5ECMOoNj9v8a1J8AAePfuLZKM6osdnCT9WUA5HHngzBnByMHHsylJK6jjGWtDzxUkczTrPBgZek5Yk1X3wKU3HgLqLMBG4kcK7NFv7P40ddk07MAeqG72N7bn99+txnWA3+VTDeNvwbEGeEt8ANSnofKR89L7qo+Ih/FQ50buItSL78LKJhoM2O8reQAuKMCAq1vS3UF8pvTF8/cK/HQm0HVRVvQaI8UZ4UmI0KiDPCW+AGJb0vlLcc34nys7HHWtRMqdpBVIAoH0Tx/VK0eAuSL093BVJgNiogzoig+ObeFkq+vIZiRPnZ2MP94kpQJpZWgChv6eZzTTrFW5AoT5QnBWajAuKM0HASzXOIfHmNtiDKz8YebnUvhurvuwJEed81DG4O4i3oHeXNvKpDcBWn0kkBaykwP26+JEkaDqC1DpEvr9FeopRfuWqFJEm9I93WMmWqLSlACqgqQJRXlcVCkf735bdu3yJJUov9vIVUoKqSAqSAqgIjrn5JklauWqHhAFrrEPnyGu0l6svn5+dLklTzxaeqRkORpAApYCEFuvvskiSlpaVpoMFah4jyGu0lSvni4mJJkmAtDgtZM1WVFCAFlAq02M9LkpSTk6OBBmsdIsprtJco5WtrayVJevfQAaXFUAwpQApYS4GqukpJkt577z0NNFjrEFFeo71EKX/58mVJkrKyM61lzVRbUoAUUCpwuOigJEmlpaUaaLDWIaK8RnuJUv7p06eSJM2Pm697MmWL/Txu6aA0O4ohBUgBwxRISV0nSVJnZ6cGGqx1iCiv0V6ilHe73WlpaZIkfdl6Rp8tyvbJ1JcJnUUKkAI+KtA70i1J0qLF8VNTUxposNYhorxGe3lB+dLSUkmSdufl6DAy3OcBt03QkYm+Uyaejb576IDz8S19p9NZpECIKVBR9XtHzsvL0+CC5Q4R5TWazAvKO52/r4+zLGGpDqNvsZ/fnZcD++MYsA8OX8Oe21+/seF1ojyvCYVnswLpGZskSWpsbNTgguUOEeU1mswLyrvdbvgCFnbLFO8nsElm70j3wviFjDHYs038dF9SwgZsxj9A+FJnOpcUCJwCI67++XHzX4iLnZyc1OCC5Q4R5TWazDvKw6x5b2fa9Nz+el/+HtekE4bmVd/B9o50b0xfD84+bKq5L38PY2xn7g6w+J7bX8NWnIyx7F1Z4JtDhrBvcu9IN+7VCfch3OQTssVdPQPXhShnUsDkChQVH5Ekaev2LRpQsOIhorxGq3lH+adPn74QFytJkv1aq7g1n6opB+zi6Lxs0Kbn9tfR86KjouZ29rZD2GYLv9TRnJ6xKWPbZufjWy3284wxcMl7bn+9MH4hhCeejcJA0Mb09fvy9zgf36qoKsWUrkknf6J4hSklKRCSCgzc64HlaxwOhwYUrHiIKK/Rat5R/nlG4M6npK4T7AayTetlW9dDJoBmGMnB9IeLDsJRvDdgDLjwcKuAc/H5QIZ12U/BOlMyUiAkFXj30IEQ++QV0UaURymUAa8pPzU1lZD4kiRJ9c01Ij2h5/bX/LoIAGWbLZwf3Adq43g9/ESmg3cPtwf+f0jA3yGUzjtRXqSNKM1sUMB+rRUc+eHhYSUIrB5DlNdoQa8p73a7q6urJUlKSV0n8oUUDtdAR0JkI8Rdk04cpbnSdQFe0qJvjuBmjMnGeSBDoDzmJsO67Ods6Mx0jaSAqgKwrGworWrAc40oz6shC+uh/NTUFEy2wVejqlblmnROPBvNys4cvH8DE+CADM9xAD28O7XZwrN3ZXX2tuMpyhEbPIRvdInyvCYUJgVkCpyoLJEk6YW42KdPn8oQEBo/4X3hiKtfduEh/FN8hwA9lHe73cPDwyArPxojE3Ti2WhJ2bGk5Yk85V2TTvC+YWIMnNJz++u4BbH8GI4sKxznOX3uM9eks++uY39BHqSXjfZASpw6yT8lyPKkn6TALFHgy9Yz4Opevnw5NJiuvAp4UhEcRg6Bdh+41wMfMCulUMbopLzb7Yb1yzwN0KMDDiPpMNgii2SMgUeP3Mdhd/Do+U+ZGlpqo+dFQ4KU1HXg7APiITJj22Y+H3xWOFVTDicuS1h6qqY8BBqYLoEUEFcAhkCfb/5XXFys7P8hE3P06FFJkoqKj4grY+mUcOcWnBGrn/Jut/vkyZOwhJlXEyuV4k48G92XvwchjqxHl1x5CsWQAqTAjAqMuPrXvPYKrCYbMkBXvZCmpiZJkta89orIy8IZdTN/gp25OyRJOnr0qKoaskifKO92u3NyciRJWhi/0JfNAr9sPbMxff2pmnJ03pXvYM2vO9WQFDCVAr0j3YD45OTkEPvSVUYxt9s9NTWVnJwsSRK+ojNVW/i3MjVffApvWZxOp1IKZYyvlJ+amsrKzoRRvxOVJTouBobOlW2zvyCPfHkdetIppADMTFsYv1CSpOTkZJfLpez5oRdz8+bNGV8WhoBtfNl6Blq2urpasBF9pTwUA4NikiTtL8jz9okJKA8fvkIb9N11FBT+TTanPgSahy6BFDBGAZhRAwM1Ie/F86SDMWRJkt7Y8PqXrWdCbMoNrPkILnVWdiZ/4dph/1De7XY3NTXBjfSNDa9rzJZRtfKGltpVq1ficPyyhKU7c3dcH+pSTUyRpAAp4EmB3pFufLYWHLTVBoTljnZ2dsJnm0BDmG4IYev+z1/FC3GxJ0+e9Kpd/EZ5t9t98+ZN1DcrO7N3pNuTLVI8KUAK+FeBEVf/u4cOAA5eiIttamryCgShlPj540txcfHW7VvA77Qu3GU1T0tLy8/PFxyL5xvUn5R3u92gL4q7vyBv4F6Pf62ZciMFSAFegbEnQ/88fhTGamF7kFkyEM+DjMIaCviZ8lDS06dP8/Pz8Ub0xobXT1SWdPfZedOkMClACviiwMC9nqq6yqzsTHyc37p9S0iuUaPBLzokokBAKA8FO53OvLw8ZD3MZn330IH65poW+3mCvi89nM6dhQoM3OtpsZ9vsZ8vKj7yxobX+Z6VlpYWSlt1i5CL0ogrEEDKQyWmpqaampry8/MXLY7n7RLDyxKWYpgCpAApIFNgYfxCHI2RHcrJyamtrQ3VpWnEKUYptRUIOOX54h0OR2lpaX5+/tbtW2DdCZnV0k9SgBTwpMAbG17fun1LTk5OaWlpU1PT1NQU37koTAp4UsBQynuqBMWTAqQAKUAKBEgBonyAhKVsSQFSgBQwhQJEeVM0A1WCFCAFSIEAKUCUD5CwlC0pQAqQAqZQgChvimagSpACpAApECAFiPIBEpayJQVIAVLAFAoQ5U3RDFQJUoAUIAUCpABRPkDCUrakAClACphCAaK8KZqBKkEKkAKkQIAUIMoHSFjKlhQgBUgBUyjwfwFxDE6cbONwrwAAAABJRU5ErkJggg==)"
      ],
      "metadata": {
        "id": "HM8_qxBuH8Ql"
      }
    },
    {
      "cell_type": "markdown",
      "source": [
        "#Model Based Agent Code Example #1 (Vacuum Cleaner)"
      ],
      "metadata": {
        "id": "4m_rSeQsrJwp"
      }
    },
    {
      "cell_type": "code",
      "source": [
        "l=[9.9,99]\n",
        "d={'name':'mehak'}\n",
        "d."
      ],
      "metadata": {
        "id": "gAXskPpL5scD"
      },
      "execution_count": null,
      "outputs": []
    },
    {
      "cell_type": "code",
      "source": [
        "class ModelBasedAgent:\n",
        "    def __init__(self):\n",
        "        self.model = {}\n",
        "\n",
        "    def update_model(self, percept):\n",
        "        self.model['current'] = percept\n",
        "        print(self.model)\n",
        "\n",
        "\n",
        "    def predict_action(self):\n",
        "        if self.model['current'] == 'Dirty':\n",
        "            return 'Clean the room'\n",
        "        else:\n",
        "            return 'Room is clean'\n",
        "\n",
        "    def act(self, percept):\n",
        "        self.update_model(percept)\n",
        "        return self.predict_action()\n",
        "\n",
        "\n",
        "class Environment:\n",
        "    def __init__(self, state='Dirty'):\n",
        "        self.state = state\n",
        "\n",
        "    def get_percept(self):\n",
        "        return self.state\n",
        "\n",
        "    def clean_room(self):\n",
        "        self.state = 'Clean'\n",
        "\n",
        "\n",
        "def run_agent(agent, environment, steps):\n",
        "    for step in range(steps):\n",
        "        percept = environment.get_percept()\n",
        "        action = agent.act(percept)\n",
        "        print(f\"Step {step + 1}: Percept - {percept}, Action - {action}\")\n",
        "        if percept == 'Dirty':\n",
        "            environment.clean_room()\n",
        "\n",
        "\n",
        "# Create instances of agent and environment\n",
        "agent = ModelBasedAgent()\n",
        "environment = Environment()\n",
        "\n",
        "# Run the agent in the environment for 5 steps\n",
        "run_agent(agent, environment, 5)\n"
      ],
      "metadata": {
        "id": "BjbHoLo8HXni",
        "colab": {
          "base_uri": "https://localhost:8080/"
        },
        "outputId": "bc26bc1f-5de4-413f-ca83-1511cc8e15a1"
      },
      "execution_count": null,
      "outputs": [
        {
          "output_type": "stream",
          "name": "stdout",
          "text": [
            "{'current': 'Dirty'}\n",
            "Step 1: Percept - Dirty, Action - Clean the room\n",
            "{'current': 'Clean'}\n",
            "Step 2: Percept - Clean, Action - Room is clean\n",
            "{'current': 'Clean'}\n",
            "Step 3: Percept - Clean, Action - Room is clean\n",
            "{'current': 'Clean'}\n",
            "Step 4: Percept - Clean, Action - Room is clean\n",
            "{'current': 'Clean'}\n",
            "Step 5: Percept - Clean, Action - Room is clean\n"
          ]
        }
      ]
    },
    {
      "cell_type": "markdown",
      "source": [
        "#Example 3 Simple Reflex Agent Code Example #3 (2D Grid-Based Vacuum Cleaner Simulation: Smart Cleaning Robot (Model Baed))"
      ],
      "metadata": {
        "id": "VGvXSloudZZh"
      }
    },
    {
      "cell_type": "code",
      "source": [
        "class SimpleReflexAgent:\n",
        "    def __init__(self):\n",
        "        self.position = 0  # Start at position 0 (top-left corner)\n",
        "        self.environment_model = ['Clean', 'Dirty', 'Clean',\n",
        "                                  'Clean', 'Dirty', 'Dirty',\n",
        "                                  'Clean', 'Clean', 'Clean']  # Initial model of the environment\n",
        "\n",
        "    def act(self, percept):\n",
        "        # If the current position is dirty, clean it\n",
        "        if percept == 'Dirty':\n",
        "            self.environment_model[self.position] = 'Clean'  # Clean the environment model\n",
        "            return 'Clean the room'\n",
        "        else:\n",
        "            return 'Room is clean'\n",
        "\n",
        "    def move(self):\n",
        "        # Move to the next position in the grid\n",
        "        if self.position < 8:\n",
        "            self.position += 1\n",
        "        return self.position\n",
        "\n",
        "    def update_model(self, position, percept):\n",
        "        # Update the agent's internal model with the percept\n",
        "        self.environment_model[position] = percept\n",
        "\n",
        "    def get_model(self):\n",
        "        return self.environment_model\n",
        "\n",
        "\n",
        "class Environment:\n",
        "    def __init__(self):\n",
        "        # Create the environment with a 3x3 grid, where 'b', 'e', and 'f' are dirty\n",
        "        self.grid = ['Clean', 'Dirty', 'Clean',\n",
        "                     'Clean', 'Dirty', 'Dirty',\n",
        "                     'Clean', 'Clean', 'Clean']\n",
        "\n",
        "    def get_percept(self, position):\n",
        "        # Return the state of the current position\n",
        "        return self.grid[position]\n",
        "\n",
        "    def clean_room(self, position):\n",
        "        # Clean the room at the given position\n",
        "        self.grid[position] = 'Clean'\n",
        "\n",
        "    def display_grid(self, agent_position):\n",
        "        # Display the current state of the grid in a 3x3 format\n",
        "        print(\"\\nCurrent Grid State:\")\n",
        "        grid_with_agent = self.grid[:]  # Copy the grid\n",
        "        grid_with_agent[agent_position] = \"👽\"  # Place the agent at the current position\n",
        "        for i in range(0, 9, 3):\n",
        "            print(\" | \".join(grid_with_agent[i:i + 3]))\n",
        "        print()  # Extra line for spacing\n",
        "\n",
        "\n",
        "def run_agent(agent, environment, steps):\n",
        "    for step in range(steps):\n",
        "        percept = environment.get_percept(agent.position)\n",
        "        action = agent.act(percept)\n",
        "        print(f\"Step {step + 1}: Position {agent.position} -> Percept - {percept}, Action - {action}\")\n",
        "\n",
        "        # Update agent's internal model based on percept\n",
        "        agent.update_model(agent.position, percept)\n",
        "\n",
        "        # Display the grid state with agent's position\n",
        "        environment.display_grid(agent.position)\n",
        "\n",
        "        if percept == 'Dirty':\n",
        "            environment.clean_room(agent.position)\n",
        "\n",
        "        agent.move()\n",
        "\n",
        "\n",
        "# Create instances of agent and environment\n",
        "agent = SimpleReflexAgent()\n",
        "environment = Environment()\n",
        "\n",
        "# Run the agent in the environment for 9 steps (to cover the 3x3 grid)\n",
        "run_agent(agent, environment, 9)\n"
      ],
      "metadata": {
        "colab": {
          "base_uri": "https://localhost:8080/"
        },
        "id": "SjoE1hJAdXp6",
        "outputId": "52b1d5b0-b9f1-429d-c173-6ed14d29de63"
      },
      "execution_count": null,
      "outputs": [
        {
          "output_type": "stream",
          "name": "stdout",
          "text": [
            "Step 1: Position 0 -> Percept - Clean, Action - Room is clean\n",
            "\n",
            "Current Grid State:\n",
            "👽 | Dirty | Clean\n",
            "Clean | Dirty | Dirty\n",
            "Clean | Clean | Clean\n",
            "\n",
            "Step 2: Position 1 -> Percept - Dirty, Action - Clean the room\n",
            "\n",
            "Current Grid State:\n",
            "Clean | 👽 | Clean\n",
            "Clean | Dirty | Dirty\n",
            "Clean | Clean | Clean\n",
            "\n",
            "Step 3: Position 2 -> Percept - Clean, Action - Room is clean\n",
            "\n",
            "Current Grid State:\n",
            "Clean | Clean | 👽\n",
            "Clean | Dirty | Dirty\n",
            "Clean | Clean | Clean\n",
            "\n",
            "Step 4: Position 3 -> Percept - Clean, Action - Room is clean\n",
            "\n",
            "Current Grid State:\n",
            "Clean | Clean | Clean\n",
            "👽 | Dirty | Dirty\n",
            "Clean | Clean | Clean\n",
            "\n",
            "Step 5: Position 4 -> Percept - Dirty, Action - Clean the room\n",
            "\n",
            "Current Grid State:\n",
            "Clean | Clean | Clean\n",
            "Clean | 👽 | Dirty\n",
            "Clean | Clean | Clean\n",
            "\n",
            "Step 6: Position 5 -> Percept - Dirty, Action - Clean the room\n",
            "\n",
            "Current Grid State:\n",
            "Clean | Clean | Clean\n",
            "Clean | Clean | 👽\n",
            "Clean | Clean | Clean\n",
            "\n",
            "Step 7: Position 6 -> Percept - Clean, Action - Room is clean\n",
            "\n",
            "Current Grid State:\n",
            "Clean | Clean | Clean\n",
            "Clean | Clean | Clean\n",
            "👽 | Clean | Clean\n",
            "\n",
            "Step 8: Position 7 -> Percept - Clean, Action - Room is clean\n",
            "\n",
            "Current Grid State:\n",
            "Clean | Clean | Clean\n",
            "Clean | Clean | Clean\n",
            "Clean | 👽 | Clean\n",
            "\n",
            "Step 9: Position 8 -> Percept - Clean, Action - Room is clean\n",
            "\n",
            "Current Grid State:\n",
            "Clean | Clean | Clean\n",
            "Clean | Clean | Clean\n",
            "Clean | Clean | 👽\n",
            "\n"
          ]
        }
      ]
    },
    {
      "cell_type": "markdown",
      "source": [
        "#3.2.2 Model Based Agent Code Example #2 (Closing Window When it Starts to Rain)"
      ],
      "metadata": {
        "id": "0BnBPx0QeYDt"
      }
    },
    {
      "cell_type": "code",
      "source": [
        "class Environment:\n",
        "    def __init__(self, rain='No', windows_open='Open'):\n",
        "        self.rain = rain\n",
        "        self.windows_open = windows_open\n",
        "\n",
        "    def get_percept(self):\n",
        "        \"\"\"Returns the current percept (rain status and window status).\"\"\"\n",
        "        return {'rain': self.rain, 'windows_open': self.windows_open}\n",
        "\n",
        "    def close_windows(self):\n",
        "        \"\"\"Closes the windows if they are open.\"\"\"\n",
        "        if self.windows_open == 'Open':\n",
        "            self.windows_open = 'Closed'\n",
        "\n",
        "\n",
        "class ModelBasedAgent:\n",
        "    def __init__(self):\n",
        "        self.model = {'rain': 'No', 'windows_open': 'Open'}\n",
        "\n",
        "    def act(self, percept):\n",
        "        \"\"\"Decides action based on the model and current percept.\"\"\"\n",
        "        # Update the model with the current percept\n",
        "        self.model.update(percept)\n",
        "\n",
        "        # Check the model to decide action\n",
        "        if self.model['rain'] == 'Yes' and self.model['windows_open'] == 'Open':\n",
        "            return 'Close the windows'\n",
        "        else:\n",
        "            return 'No action needed'\n",
        "\n",
        "def run_agent(agent, environment, steps):\n",
        "    for step in range(steps):\n",
        "        # Get the current percept from the environment\n",
        "        percept = environment.get_percept()\n",
        "\n",
        "        # Agent makes a decision based on the current percept\n",
        "        action = agent.act(percept)\n",
        "\n",
        "        # Print the current percept and the agent's action\n",
        "        print(f\"Step {step + 1}: Percept - {percept}, Action - {action}\")\n",
        "\n",
        "        # If the agent decided to close the windows, update the environment\n",
        "        if action == 'Close the windows':\n",
        "            environment.close_windows()\n",
        "\n",
        "# Create instances of agent and environment\n",
        "agent = ModelBasedAgent()\n",
        "environment = Environment(rain='Yes', windows_open='Open')  # It's raining and windows are open\n",
        "\n",
        "# Run the agent in the environment for 5 steps\n",
        "run_agent(agent, environment, 5)\n"
      ],
      "metadata": {
        "colab": {
          "base_uri": "https://localhost:8080/"
        },
        "id": "QEzVdkyDeZkZ",
        "outputId": "6514bade-33ec-4bea-c64e-c570972c2af8"
      },
      "execution_count": null,
      "outputs": [
        {
          "output_type": "stream",
          "name": "stdout",
          "text": [
            "Step 1: Percept - {'rain': 'Yes', 'windows_open': 'Open'}, Action - Close the windows\n",
            "Step 2: Percept - {'rain': 'Yes', 'windows_open': 'Closed'}, Action - No action needed\n",
            "Step 3: Percept - {'rain': 'Yes', 'windows_open': 'Closed'}, Action - No action needed\n",
            "Step 4: Percept - {'rain': 'Yes', 'windows_open': 'Closed'}, Action - No action needed\n",
            "Step 5: Percept - {'rain': 'Yes', 'windows_open': 'Closed'}, Action - No action needed\n"
          ]
        }
      ]
    }
  ]
}
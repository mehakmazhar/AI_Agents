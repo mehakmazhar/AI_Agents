{
  "nbformat": 4,
  "nbformat_minor": 0,
  "metadata": {
    "colab": {
      "provenance": []
    },
    "kernelspec": {
      "name": "python3",
      "display_name": "Python 3"
    },
    "language_info": {
      "name": "python"
    }
  },
  "cells": [
    {
      "cell_type": "code",
      "execution_count": null,
      "metadata": {
        "id": "M3Ni0jMNGJA6"
      },
      "outputs": [],
      "source": []
    },
    {
      "cell_type": "markdown",
      "source": [
        "#**Utility Based Agent**"
      ],
      "metadata": {
        "id": "6YM9mQdyGCkJ"
      }
    },
    {
      "cell_type": "markdown",
      "source": [
        "#3.4.2 Vaccumm Cleaner"
      ],
      "metadata": {
        "id": "8m1oP8VYrwJw"
      }
    },
    {
      "cell_type": "code",
      "source": [
        "class UtilityBasedAgent:\n",
        "    def __init__(self):\n",
        "        self.utility = {'Dirty': -10, 'Clean': 10}\n",
        "\n",
        "    def calculate_utility(self, percept):\n",
        "        return self.utility[percept]\n",
        "\n",
        "    def select_action(self, percept):\n",
        "        if percept == 'Dirty':\n",
        "            return 'Clean the room'\n",
        "        else:\n",
        "            return 'No action needed'\n",
        "\n",
        "    def act(self, percept):\n",
        "        action = self.select_action(percept)\n",
        "        return action\n",
        "\n",
        "\n",
        "class Environment:\n",
        "    def __init__(self, state='Dirty'):\n",
        "        self.state = state\n",
        "\n",
        "    def get_percept(self):\n",
        "        return self.state\n",
        "\n",
        "    def clean_room(self):\n",
        "        self.state = 'Clean'\n",
        "\n",
        "\n",
        "def run_agent(agent, environment, steps):\n",
        "    total_utility = 0\n",
        "    for step in range(steps):\n",
        "        percept = environment.get_percept()\n",
        "        action = agent.act(percept)\n",
        "        utility = agent.calculate_utility(percept)\n",
        "        print(f\"Step {step + 1}: Percept - {percept}, Action - {action}, Utility - {utility}\")\n",
        "        total_utility += utility\n",
        "        if percept == 'Dirty':\n",
        "            environment.clean_room()\n",
        "    print(\"Total Utility:\", total_utility)\n",
        "\n",
        "\n",
        "# Create instances of agent and environment\n",
        "agent = UtilityBasedAgent()\n",
        "environment = Environment()\n",
        "\n",
        "# Run the agent in the environment for 5 steps\n",
        "run_agent(agent, environment, 5)\n"
      ],
      "metadata": {
        "id": "SBCw3kkpGF9i",
        "outputId": "af3736d4-180e-42c7-bb8d-4b182442f64d",
        "colab": {
          "base_uri": "https://localhost:8080/"
        }
      },
      "execution_count": null,
      "outputs": [
        {
          "output_type": "stream",
          "name": "stdout",
          "text": [
            "Step 1: Percept - Dirty, Action - Clean the room, Utility - -10\n",
            "Step 2: Percept - Clean, Action - No action needed, Utility - 10\n",
            "Step 3: Percept - Clean, Action - No action needed, Utility - 10\n",
            "Step 4: Percept - Clean, Action - No action needed, Utility - 10\n",
            "Step 5: Percept - Clean, Action - No action needed, Utility - 10\n",
            "Total Utility: 30\n"
          ]
        }
      ]
    },
    {
      "cell_type": "markdown",
      "source": [
        "#3.4.2 Utility Based Agent Code Example # 2 (Choosing a Movie to Watch)"
      ],
      "metadata": {
        "id": "RHR-rL1jr7pY"
      }
    },
    {
      "cell_type": "code",
      "source": [
        "class Environment:\n",
        "    def __init__(self, movies=None):\n",
        "        if movies is None:\n",
        "            movies = {'Movie A': 8, 'Movie B': 6, 'Movie C': 9}\n",
        "        self.movies = movies\n",
        "\n",
        "    def get_percept(self):\n",
        "        \"\"\"Returns the list of movies and their review scores.\"\"\"\n",
        "        return self.movies\n",
        "\n",
        "\n",
        "class UtilityBasedAgent:\n",
        "    def __init__(self, mood_factor=0.7):\n",
        "        self.mood_factor = mood_factor\n",
        "\n",
        "    def utility(self, review):\n",
        "        \"\"\"Compute utility based on review score and mood factor.\"\"\"\n",
        "        return review * self.mood_factor\n",
        "\n",
        "    def act(self, percept):\n",
        "        \"\"\"Decides which movie to watch based on utility and displays calculations.\"\"\"\n",
        "        best_movie = None\n",
        "        best_utility = -float('inf')\n",
        "\n",
        "        print(\"Utility Calculations:\")\n",
        "        for movie, review in percept.items():\n",
        "            movie_utility = self.utility(review)\n",
        "            print(f\"  {movie}: Review Score = {review}, Utility = {movie_utility:.2f}\")\n",
        "            if movie_utility > best_utility:\n",
        "                best_movie = movie\n",
        "                best_utility = movie_utility\n",
        "\n",
        "        return best_movie\n",
        "\n",
        "\n",
        "def run_agent(agent, environment):\n",
        "    percept = environment.get_percept()\n",
        "    best_choice = agent.act(percept)\n",
        "    print(f\"\\nAvailable Movies: {percept}\")\n",
        "    print(f\"Best Movie to Watch: {best_choice}\")\n",
        "\n",
        "\n",
        "# Create instances of agent and environment\n",
        "agent = UtilityBasedAgent(mood_factor=0.8)\n",
        "environment = Environment({'Movie A': 7, 'Movie B': 9, 'Movie C': 5})\n",
        "\n",
        "# Run the agent in the environment\n",
        "run_agent(agent, environment)\n"
      ],
      "metadata": {
        "colab": {
          "base_uri": "https://localhost:8080/"
        },
        "id": "t4YqrdYXso87",
        "outputId": "aeebde1e-71e9-4a6d-f3ae-3fab21ecb5d5"
      },
      "execution_count": null,
      "outputs": [
        {
          "output_type": "stream",
          "name": "stdout",
          "text": [
            "Utility Calculations:\n",
            "  Movie A: Review Score = 7, Utility = 5.60\n",
            "  Movie B: Review Score = 9, Utility = 7.20\n",
            "  Movie C: Review Score = 5, Utility = 4.00\n",
            "\n",
            "Available Movies: {'Movie A': 7, 'Movie B': 9, 'Movie C': 5}\n",
            "Best Movie to Watch: Movie B\n"
          ]
        }
      ]
    }
  ]
}